{
  "cells": [
    {
      "cell_type": "code",
      "execution_count": null,
      "metadata": {
        "id": "LMY4_xdYyYby"
      },
      "outputs": [],
      "source": [
        "#https://machinelearningmastery.com/clean-text-machine-learning-python/\n",
        "#https://github.com/ramsrigouthamg/generate_boolean_questions_using_T5_transformer/blob/master/t5_inference.py\n",
        "#https://towardsdatascience.com/how-to-apply-transformers-to-any-length-of-text-a5601410af7f\n",
        "#https://towardsdatascience.com/generating-boolean-yes-no-questions-from-any-content-using-t5-text-to-text-transformer-model-69f2744aff44\n",
        "#https://github.com/Saadmairaj/boolean-question"
      ]
    },
    {
      "cell_type": "markdown",
      "metadata": {
        "id": "v6k9qnekuRe3"
      },
      "source": [
        "# **Import Libries**"
      ]
    },
    {
      "cell_type": "code",
      "execution_count": null,
      "metadata": {
        "id": "dm3WHla5uBnN"
      },
      "outputs": [],
      "source": [
        "import numpy as np\n",
        "import matplotlib.pyplot as plt\n",
        "import pandas as pd"
      ]
    },
    {
      "cell_type": "code",
      "execution_count": null,
      "metadata": {
        "colab": {
          "base_uri": "https://localhost:8080/"
        },
        "id": "3OFNXlbJo2pG",
        "outputId": "56f3de52-bb42-4fa7-be4a-45d4d49446d2"
      },
      "outputs": [
        {
          "output_type": "stream",
          "name": "stdout",
          "text": [
            "Looking in indexes: https://pypi.org/simple, https://us-python.pkg.dev/colab-wheels/public/simple/\n",
            "Requirement already satisfied: transformers in /usr/local/lib/python3.7/dist-packages (2.5.1)\n",
            "Requirement already satisfied: requests in /usr/local/lib/python3.7/dist-packages (from transformers) (2.23.0)\n",
            "Requirement already satisfied: tokenizers==0.5.2 in /usr/local/lib/python3.7/dist-packages (from transformers) (0.5.2)\n",
            "Requirement already satisfied: numpy in /usr/local/lib/python3.7/dist-packages (from transformers) (1.21.1)\n",
            "Requirement already satisfied: tqdm>=4.27 in /usr/local/lib/python3.7/dist-packages (from transformers) (4.64.0)\n",
            "Requirement already satisfied: sentencepiece in /usr/local/lib/python3.7/dist-packages (from transformers) (0.1.97)\n",
            "Requirement already satisfied: filelock in /usr/local/lib/python3.7/dist-packages (from transformers) (3.8.0)\n",
            "Requirement already satisfied: regex!=2019.12.17 in /usr/local/lib/python3.7/dist-packages (from transformers) (2022.6.2)\n",
            "Requirement already satisfied: sacremoses in /usr/local/lib/python3.7/dist-packages (from transformers) (0.0.53)\n",
            "Requirement already satisfied: boto3 in /usr/local/lib/python3.7/dist-packages (from transformers) (1.24.52)\n",
            "Requirement already satisfied: s3transfer<0.7.0,>=0.6.0 in /usr/local/lib/python3.7/dist-packages (from boto3->transformers) (0.6.0)\n",
            "Requirement already satisfied: jmespath<2.0.0,>=0.7.1 in /usr/local/lib/python3.7/dist-packages (from boto3->transformers) (1.0.1)\n",
            "Requirement already satisfied: botocore<1.28.0,>=1.27.52 in /usr/local/lib/python3.7/dist-packages (from boto3->transformers) (1.27.52)\n",
            "Requirement already satisfied: python-dateutil<3.0.0,>=2.1 in /usr/local/lib/python3.7/dist-packages (from botocore<1.28.0,>=1.27.52->boto3->transformers) (2.8.2)\n",
            "Requirement already satisfied: urllib3<1.27,>=1.25.4 in /usr/local/lib/python3.7/dist-packages (from botocore<1.28.0,>=1.27.52->boto3->transformers) (1.25.11)\n",
            "Requirement already satisfied: six>=1.5 in /usr/local/lib/python3.7/dist-packages (from python-dateutil<3.0.0,>=2.1->botocore<1.28.0,>=1.27.52->boto3->transformers) (1.15.0)\n",
            "Requirement already satisfied: certifi>=2017.4.17 in /usr/local/lib/python3.7/dist-packages (from requests->transformers) (2022.6.15)\n",
            "Requirement already satisfied: idna<3,>=2.5 in /usr/local/lib/python3.7/dist-packages (from requests->transformers) (2.10)\n",
            "Requirement already satisfied: chardet<4,>=3.0.2 in /usr/local/lib/python3.7/dist-packages (from requests->transformers) (3.0.4)\n",
            "Requirement already satisfied: click in /usr/local/lib/python3.7/dist-packages (from sacremoses->transformers) (7.1.2)\n",
            "Requirement already satisfied: joblib in /usr/local/lib/python3.7/dist-packages (from sacremoses->transformers) (1.1.0)\n"
          ]
        }
      ],
      "source": [
        "!pip install transformers"
      ]
    },
    {
      "cell_type": "code",
      "execution_count": null,
      "metadata": {
        "colab": {
          "base_uri": "https://localhost:8080/"
        },
        "id": "O1B3893xuDEo",
        "outputId": "172513a4-7322-449d-e137-ad4d5921fa9f"
      },
      "outputs": [
        {
          "output_type": "stream",
          "name": "stdout",
          "text": [
            "Looking in indexes: https://pypi.org/simple, https://us-python.pkg.dev/colab-wheels/public/simple/\n",
            "Requirement already satisfied: sentencepiece in /usr/local/lib/python3.7/dist-packages (0.1.97)\n"
          ]
        }
      ],
      "source": [
        "!pip install sentencepiece"
      ]
    },
    {
      "cell_type": "markdown",
      "metadata": {
        "id": "9J1H7HDD2yaG"
      },
      "source": [
        "# **Import File**"
      ]
    },
    {
      "cell_type": "code",
      "execution_count": null,
      "metadata": {
        "id": "HKc-ytTsvcOs"
      },
      "outputs": [],
      "source": [
        "import json\n",
        "import requests\n",
        "request=requests.get(\"https://generate-questions.devbyopeneyes.com/api/getFileData/62fb70f01cfe9a0b6209fec2\")\n",
        "resp= request.json()\n",
        "file_path=(resp[\"data\"][\"file_path\"])\n",
        "_id=(resp[\"data\"][\"_id\"])\n",
        "number_of_question=(resp[\"data\"][\"number_of_question\"])\n",
        "file_type=(resp[\"data\"][\"file_type\"])"
      ]
    },
    {
      "cell_type": "code",
      "source": [
        "!pip install PyPDF2"
      ],
      "metadata": {
        "id": "KnkUQfxCqReY"
      },
      "execution_count": null,
      "outputs": []
    },
    {
      "cell_type": "code",
      "source": [
        "if file_type==\"txt\":\n",
        "  import urllib.request\n",
        "  response = urllib.request.urlopen(file_path)\n",
        "  html = response.read()\n",
        "  text=html.decode('utf8')\n",
        "  print(text)\n",
        "elif file_type==\"pdf\":\n",
        "  import requests, PyPDF2\n",
        "\n",
        "  url = file_path\n",
        "  response = requests.get(url)\n",
        "  my_raw_data = response.content\n",
        "\n",
        "  with open(\"my_pdf.pdf\", 'wb') as my_data:\n",
        "      my_data.write(my_raw_data)\n",
        "\n",
        "  open_pdf_file = open(\"my_pdf.pdf\", 'rb')\n",
        "  read_pdf = PyPDF2.PdfFileReader(open_pdf_file)\n",
        "  if read_pdf.isEncrypted:\n",
        "      read_pdf.decrypt(\"\")\n",
        "      print(read_pdf.getPage(0).extractText())\n",
        "\n",
        "  else:\n",
        "      print(read_pdf.getPage(0).extractText())\n",
        "elif file_type==\"docx\":\n",
        "  None\n",
        "elif file_type==\"doc\":\n",
        "  None\n",
        "else:\n",
        "  print(\"Invalid File Type\")\n"
      ],
      "metadata": {
        "id": "3gx2LD87qGR5"
      },
      "execution_count": null,
      "outputs": []
    },
    {
      "cell_type": "code",
      "execution_count": null,
      "metadata": {
        "colab": {
          "base_uri": "https://localhost:8080/"
        },
        "id": "QZMkg4ejT0o9",
        "outputId": "9bb2a687-9977-421d-9b50-41e11091237c"
      },
      "outputs": [
        {
          "output_type": "stream",
          "name": "stdout",
          "text": [
            "According to consensus in modern genetics, anatomically modern humans first arrived on the Indian subcontinent from Africa between 73,000 and 55,000 years ago.[1] However, the earliest known human remains in South Asia date to 30,000 years ago. Settled life, which involves the transition from foraging to farming and pastoralism, began in South Asia around 7,000 BCE. At the site of Mehrgarh presence can be documented of the domestication of wheat and barley, rapidly followed by that of goats, sheep, and cattle.[2] By 4,500 BCE, settled life had spread more widely,[2] and began to gradually evolve into the Indus Valley Civilization, an early civilization of the Old world, which was contemporaneous with Ancient Egypt and Mesopotamia. This civilisation flourished between 2,500 BCE and 1900 BCE in what today is Pakistan and north-western India, and was noted for its urban planning, baked brick houses, elaborate drainage, and water supply.[3]\r\n",
            "\r\n",
            "Early on in the second millennium BCE, persistent drought caused the population of the Indus Valley to scatter from large urban centres to villages. Around the same time, Indo-Aryan tribes moved into the Punjab from Central Asia in several waves of migration. Their Vedic Period (1500-500 BCE) was marked by the composition of the Vedas, large collections of hymns of these tribes. Their varna system, which evolved into the caste system, consisted of a hierarchy of priests, warriors, and free peasants. The pastoral and nomadic Indo-Aryans spread from the Punjab into the Gangetic plain, large swaths of which they deforested for agriculture usage. The composition of Vedic texts ended around 600 BCE, when a new, interregional culture arose. Small chieftaincies, or janapadas, were consolidated into larger states, or mahajanapadas, and a second urbanisation took place. This urbanisation was accompanied by the rise of new ascetic movements in Greater Magadha, including Jainism and Buddhism, which opposed the growing influence of Brahmanism and the primacy of rituals, presided by Brahmin priests, that had come to be associated with Vedic religion,[4] and gave rise to new religious concepts.[5] In response to the success of these movements, Vedic Brahmanism was synthesised with the preexisting religious cultures of the subcontinent, giving rise to Hinduism.\r\n",
            "\r\n",
            "\r\n",
            "Indian Cultural Influence (Greater India)\r\n",
            "Most of the Indian subcontinent was conquered by the Maurya Empire during the 4th and 3rd centuries BCE. From the 3rd century BCE onwards Prakrit and Pali literature in the north and the Tamil Sangam literature in southern India started to flourish.[6][7] Wootz steel originated in south India in the 3rd century BCE and was exported to foreign countries.[8][9][10] During the Classical period, various parts of India were ruled by numerous dynasties for the next 1,500 years, among which the Gupta Empire stands out. This period, witnessing a Hindu religious and intellectual resurgence, is known as the classical or \"Golden Age of India\". During this period, aspects of Indian civilisation, administration, culture, and religion (Hinduism and Buddhism) spread to much of Asia, while kingdoms in southern India had maritime business links with the Middle East and the Mediterranean. Indian cultural influence spread over many parts of Southeast Asia, which led to the establishment of Indianised kingdoms in Southeast Asia (Greater India).[11][12]\n"
          ]
        }
      ],
      "source": [
        "\"\"\"\n",
        "import urllib.request\n",
        "response = urllib.request.urlopen(file_path)\n",
        "html = response.read()\n",
        "text=html.decode('utf8')\n",
        "print(text)\n",
        "\"\"\""
      ]
    },
    {
      "cell_type": "markdown",
      "metadata": {
        "id": "SNl3KodQubjX"
      },
      "source": [
        "## **Load/Import Dataset/text/file Locally**"
      ]
    },
    {
      "cell_type": "code",
      "execution_count": null,
      "metadata": {
        "colab": {
          "base_uri": "https://localhost:8080/",
          "height": 36
        },
        "id": "oxNaK-rCuH2L",
        "outputId": "81bb9c4d-82cf-408c-d766-7517c1068edd"
      },
      "outputs": [
        {
          "output_type": "execute_result",
          "data": {
            "text/plain": [
              "\"\\nfilename = 'roshni.txt'\\nfile = open(filename, 'rt')\\ntext = file.read()\\n\""
            ],
            "application/vnd.google.colaboratory.intrinsic+json": {
              "type": "string"
            }
          },
          "metadata": {},
          "execution_count": 7
        }
      ],
      "source": [
        "\"\"\"\n",
        "filename = 'roshni.txt'\n",
        "file = open(filename, 'rt')\n",
        "text = file.read()\n",
        "\"\"\""
      ]
    },
    {
      "cell_type": "markdown",
      "metadata": {
        "id": "62E3GARRupcv"
      },
      "source": [
        "**Download Library**"
      ]
    },
    {
      "cell_type": "code",
      "execution_count": null,
      "metadata": {
        "colab": {
          "base_uri": "https://localhost:8080/"
        },
        "id": "GPpCc-jNuLhT",
        "outputId": "7cfd0cae-13bf-452d-f51b-99388f543bb8"
      },
      "outputs": [
        {
          "output_type": "stream",
          "name": "stderr",
          "text": [
            "[nltk_data] Downloading package stopwords to /root/nltk_data...\n",
            "[nltk_data]   Package stopwords is already up-to-date!\n",
            "[nltk_data] Downloading package punkt to /root/nltk_data...\n",
            "[nltk_data]   Package punkt is already up-to-date!\n"
          ]
        },
        {
          "output_type": "execute_result",
          "data": {
            "text/plain": [
              "True"
            ]
          },
          "metadata": {},
          "execution_count": 8
        }
      ],
      "source": [
        "import nltk\n",
        "nltk.download('stopwords')\n",
        "nltk.download('punkt')"
      ]
    },
    {
      "cell_type": "markdown",
      "metadata": {
        "id": "5Mmv24DOvvGe"
      },
      "source": [
        "# **Data Cleaing**"
      ]
    },
    {
      "cell_type": "markdown",
      "metadata": {
        "id": "SK6G-67ju4Yc"
      },
      "source": [
        "**Step 1 : Split text file into sentences**"
      ]
    },
    {
      "cell_type": "code",
      "execution_count": null,
      "metadata": {
        "colab": {
          "base_uri": "https://localhost:8080/"
        },
        "id": "qm7IA8mNZUK_",
        "outputId": "03561a2a-91cc-494d-cec6-83f3a2152189"
      },
      "outputs": [
        {
          "output_type": "stream",
          "name": "stdout",
          "text": [
            "['According to consensus in modern genetics, anatomically modern humans first arrived on the Indian subcontinent from Africa between 73,000 and 55,000 years ago.', '[1] However, the earliest known human remains in South Asia date to 30,000 years ago.', 'Settled life, which involves the transition from foraging to farming and pastoralism, began in South Asia around 7,000 BCE.', 'At the site of Mehrgarh presence can be documented of the domestication of wheat and barley, rapidly followed by that of goats, sheep, and cattle.', '[2] By 4,500 BCE, settled life had spread more widely,[2] and began to gradually evolve into the Indus Valley Civilization, an early civilization of the Old world, which was contemporaneous with Ancient Egypt and Mesopotamia.', 'This civilisation flourished between 2,500 BCE and 1900 BCE in what today is Pakistan and north-western India, and was noted for its urban planning, baked brick houses, elaborate drainage, and water supply.', '[3]\\r\\n\\r\\nEarly on in the second millennium BCE, persistent drought caused the population of the Indus Valley to scatter from large urban centres to villages.', 'Around the same time, Indo-Aryan tribes moved into the Punjab from Central Asia in several waves of migration.', 'Their Vedic Period (1500-500 BCE) was marked by the composition of the Vedas, large collections of hymns of these tribes.', 'Their varna system, which evolved into the caste system, consisted of a hierarchy of priests, warriors, and free peasants.', 'The pastoral and nomadic Indo-Aryans spread from the Punjab into the Gangetic plain, large swaths of which they deforested for agriculture usage.', 'The composition of Vedic texts ended around 600 BCE, when a new, interregional culture arose.', 'Small chieftaincies, or janapadas, were consolidated into larger states, or mahajanapadas, and a second urbanisation took place.', 'This urbanisation was accompanied by the rise of new ascetic movements in Greater Magadha, including Jainism and Buddhism, which opposed the growing influence of Brahmanism and the primacy of rituals, presided by Brahmin priests, that had come to be associated with Vedic religion,[4] and gave rise to new religious concepts.', '[5] In response to the success of these movements, Vedic Brahmanism was synthesised with the preexisting religious cultures of the subcontinent, giving rise to Hinduism.', 'Indian Cultural Influence (Greater India)\\r\\nMost of the Indian subcontinent was conquered by the Maurya Empire during the 4th and 3rd centuries BCE.', 'From the 3rd century BCE onwards Prakrit and Pali literature in the north and the Tamil Sangam literature in southern India started to flourish.', '[6][7] Wootz steel originated in south India in the 3rd century BCE and was exported to foreign countries.', '[8][9][10] During the Classical period, various parts of India were ruled by numerous dynasties for the next 1,500 years, among which the Gupta Empire stands out.', 'This period, witnessing a Hindu religious and intellectual resurgence, is known as the classical or \"Golden Age of India\".', 'During this period, aspects of Indian civilisation, administration, culture, and religion (Hinduism and Buddhism) spread to much of Asia, while kingdoms in southern India had maritime business links with the Middle East and the Mediterranean.', 'Indian cultural influence spread over many parts of Southeast Asia, which led to the establishment of Indianised kingdoms in Southeast Asia (Greater India).', '[11][12]']\n"
          ]
        },
        {
          "output_type": "execute_result",
          "data": {
            "text/plain": [
              "23"
            ]
          },
          "metadata": {},
          "execution_count": 9
        }
      ],
      "source": [
        "from nltk import sent_tokenize\n",
        "sentences = sent_tokenize(text)\n",
        "print(sentences)\n",
        "text_to_sentence= np.array(sentences)\n",
        "len(text_to_sentence)"
      ]
    },
    {
      "cell_type": "markdown",
      "metadata": {
        "id": "ctTXaYFmu-YX"
      },
      "source": [
        "**Step 2 : Split sentences into words by white space**"
      ]
    },
    {
      "cell_type": "code",
      "execution_count": null,
      "metadata": {
        "colab": {
          "base_uri": "https://localhost:8080/"
        },
        "id": "Tn-sd-aA0tSM",
        "outputId": "f73a2258-a08a-4363-b8e2-dfb27d518272"
      },
      "outputs": [
        {
          "output_type": "execute_result",
          "data": {
            "text/plain": [
              "['According',\n",
              " 'to',\n",
              " 'consensus',\n",
              " 'in',\n",
              " 'modern',\n",
              " 'genetics,',\n",
              " 'anatomically',\n",
              " 'modern',\n",
              " 'humans',\n",
              " 'first',\n",
              " 'arrived',\n",
              " 'on',\n",
              " 'the',\n",
              " 'Indian',\n",
              " 'subcontinent',\n",
              " 'from',\n",
              " 'Africa',\n",
              " 'between',\n",
              " '73,000',\n",
              " 'and',\n",
              " '55,000',\n",
              " 'years',\n",
              " 'ago.',\n",
              " '[1]',\n",
              " 'However,',\n",
              " 'the',\n",
              " 'earliest',\n",
              " 'known',\n",
              " 'human',\n",
              " 'remains',\n",
              " 'in',\n",
              " 'South',\n",
              " 'Asia',\n",
              " 'date',\n",
              " 'to',\n",
              " '30,000',\n",
              " 'years',\n",
              " 'ago.',\n",
              " 'Settled',\n",
              " 'life,',\n",
              " 'which',\n",
              " 'involves',\n",
              " 'the',\n",
              " 'transition',\n",
              " 'from',\n",
              " 'foraging',\n",
              " 'to',\n",
              " 'farming',\n",
              " 'and',\n",
              " 'pastoralism,',\n",
              " 'began',\n",
              " 'in',\n",
              " 'South',\n",
              " 'Asia',\n",
              " 'around',\n",
              " '7,000',\n",
              " 'BCE.',\n",
              " 'At',\n",
              " 'the',\n",
              " 'site',\n",
              " 'of',\n",
              " 'Mehrgarh',\n",
              " 'presence',\n",
              " 'can',\n",
              " 'be',\n",
              " 'documented',\n",
              " 'of',\n",
              " 'the',\n",
              " 'domestication',\n",
              " 'of',\n",
              " 'wheat',\n",
              " 'and',\n",
              " 'barley,',\n",
              " 'rapidly',\n",
              " 'followed',\n",
              " 'by',\n",
              " 'that',\n",
              " 'of',\n",
              " 'goats,',\n",
              " 'sheep,',\n",
              " 'and',\n",
              " 'cattle.',\n",
              " '[2]',\n",
              " 'By',\n",
              " '4,500',\n",
              " 'BCE,',\n",
              " 'settled',\n",
              " 'life',\n",
              " 'had',\n",
              " 'spread',\n",
              " 'more',\n",
              " 'widely,[2]',\n",
              " 'and',\n",
              " 'began',\n",
              " 'to',\n",
              " 'gradually',\n",
              " 'evolve',\n",
              " 'into',\n",
              " 'the',\n",
              " 'Indus',\n",
              " 'Valley',\n",
              " 'Civilization,',\n",
              " 'an',\n",
              " 'early',\n",
              " 'civilization',\n",
              " 'of',\n",
              " 'the',\n",
              " 'Old',\n",
              " 'world,',\n",
              " 'which',\n",
              " 'was',\n",
              " 'contemporaneous',\n",
              " 'with',\n",
              " 'Ancient',\n",
              " 'Egypt',\n",
              " 'and',\n",
              " 'Mesopotamia.',\n",
              " 'This',\n",
              " 'civilisation',\n",
              " 'flourished',\n",
              " 'between',\n",
              " '2,500',\n",
              " 'BCE',\n",
              " 'and',\n",
              " '1900',\n",
              " 'BCE',\n",
              " 'in',\n",
              " 'what',\n",
              " 'today',\n",
              " 'is',\n",
              " 'Pakistan',\n",
              " 'and',\n",
              " 'north-western',\n",
              " 'India,',\n",
              " 'and',\n",
              " 'was',\n",
              " 'noted',\n",
              " 'for',\n",
              " 'its',\n",
              " 'urban',\n",
              " 'planning,',\n",
              " 'baked',\n",
              " 'brick',\n",
              " 'houses,',\n",
              " 'elaborate',\n",
              " 'drainage,',\n",
              " 'and',\n",
              " 'water',\n",
              " 'supply.',\n",
              " '[3]',\n",
              " 'Early',\n",
              " 'on',\n",
              " 'in',\n",
              " 'the',\n",
              " 'second',\n",
              " 'millennium',\n",
              " 'BCE,',\n",
              " 'persistent',\n",
              " 'drought',\n",
              " 'caused',\n",
              " 'the',\n",
              " 'population',\n",
              " 'of',\n",
              " 'the',\n",
              " 'Indus',\n",
              " 'Valley',\n",
              " 'to',\n",
              " 'scatter',\n",
              " 'from',\n",
              " 'large',\n",
              " 'urban',\n",
              " 'centres',\n",
              " 'to',\n",
              " 'villages.',\n",
              " 'Around',\n",
              " 'the',\n",
              " 'same',\n",
              " 'time,',\n",
              " 'Indo-Aryan',\n",
              " 'tribes',\n",
              " 'moved',\n",
              " 'into',\n",
              " 'the',\n",
              " 'Punjab',\n",
              " 'from',\n",
              " 'Central',\n",
              " 'Asia',\n",
              " 'in',\n",
              " 'several',\n",
              " 'waves',\n",
              " 'of',\n",
              " 'migration.',\n",
              " 'Their',\n",
              " 'Vedic',\n",
              " 'Period',\n",
              " '(1500-500',\n",
              " 'BCE)',\n",
              " 'was',\n",
              " 'marked',\n",
              " 'by',\n",
              " 'the',\n",
              " 'composition',\n",
              " 'of',\n",
              " 'the',\n",
              " 'Vedas,',\n",
              " 'large',\n",
              " 'collections',\n",
              " 'of',\n",
              " 'hymns',\n",
              " 'of',\n",
              " 'these',\n",
              " 'tribes.',\n",
              " 'Their',\n",
              " 'varna',\n",
              " 'system,',\n",
              " 'which',\n",
              " 'evolved',\n",
              " 'into',\n",
              " 'the',\n",
              " 'caste',\n",
              " 'system,',\n",
              " 'consisted',\n",
              " 'of',\n",
              " 'a',\n",
              " 'hierarchy',\n",
              " 'of',\n",
              " 'priests,',\n",
              " 'warriors,',\n",
              " 'and',\n",
              " 'free',\n",
              " 'peasants.',\n",
              " 'The',\n",
              " 'pastoral',\n",
              " 'and',\n",
              " 'nomadic',\n",
              " 'Indo-Aryans',\n",
              " 'spread',\n",
              " 'from',\n",
              " 'the',\n",
              " 'Punjab',\n",
              " 'into',\n",
              " 'the',\n",
              " 'Gangetic',\n",
              " 'plain,',\n",
              " 'large',\n",
              " 'swaths',\n",
              " 'of',\n",
              " 'which',\n",
              " 'they',\n",
              " 'deforested',\n",
              " 'for',\n",
              " 'agriculture',\n",
              " 'usage.',\n",
              " 'The',\n",
              " 'composition',\n",
              " 'of',\n",
              " 'Vedic',\n",
              " 'texts',\n",
              " 'ended',\n",
              " 'around',\n",
              " '600',\n",
              " 'BCE,',\n",
              " 'when',\n",
              " 'a',\n",
              " 'new,',\n",
              " 'interregional',\n",
              " 'culture',\n",
              " 'arose.',\n",
              " 'Small',\n",
              " 'chieftaincies,',\n",
              " 'or',\n",
              " 'janapadas,',\n",
              " 'were',\n",
              " 'consolidated',\n",
              " 'into',\n",
              " 'larger',\n",
              " 'states,',\n",
              " 'or',\n",
              " 'mahajanapadas,',\n",
              " 'and',\n",
              " 'a',\n",
              " 'second',\n",
              " 'urbanisation',\n",
              " 'took',\n",
              " 'place.',\n",
              " 'This',\n",
              " 'urbanisation',\n",
              " 'was',\n",
              " 'accompanied',\n",
              " 'by',\n",
              " 'the',\n",
              " 'rise',\n",
              " 'of',\n",
              " 'new',\n",
              " 'ascetic',\n",
              " 'movements',\n",
              " 'in',\n",
              " 'Greater',\n",
              " 'Magadha,',\n",
              " 'including',\n",
              " 'Jainism',\n",
              " 'and',\n",
              " 'Buddhism,',\n",
              " 'which',\n",
              " 'opposed',\n",
              " 'the',\n",
              " 'growing',\n",
              " 'influence',\n",
              " 'of',\n",
              " 'Brahmanism',\n",
              " 'and',\n",
              " 'the',\n",
              " 'primacy',\n",
              " 'of',\n",
              " 'rituals,',\n",
              " 'presided',\n",
              " 'by',\n",
              " 'Brahmin',\n",
              " 'priests,',\n",
              " 'that',\n",
              " 'had',\n",
              " 'come',\n",
              " 'to',\n",
              " 'be',\n",
              " 'associated',\n",
              " 'with',\n",
              " 'Vedic',\n",
              " 'religion,[4]',\n",
              " 'and',\n",
              " 'gave',\n",
              " 'rise',\n",
              " 'to',\n",
              " 'new',\n",
              " 'religious',\n",
              " 'concepts.',\n",
              " '[5]',\n",
              " 'In',\n",
              " 'response',\n",
              " 'to',\n",
              " 'the',\n",
              " 'success',\n",
              " 'of',\n",
              " 'these',\n",
              " 'movements,',\n",
              " 'Vedic',\n",
              " 'Brahmanism',\n",
              " 'was',\n",
              " 'synthesised',\n",
              " 'with',\n",
              " 'the',\n",
              " 'preexisting',\n",
              " 'religious',\n",
              " 'cultures',\n",
              " 'of',\n",
              " 'the',\n",
              " 'subcontinent,',\n",
              " 'giving',\n",
              " 'rise',\n",
              " 'to',\n",
              " 'Hinduism.',\n",
              " 'Indian',\n",
              " 'Cultural',\n",
              " 'Influence',\n",
              " '(Greater',\n",
              " 'India)',\n",
              " 'Most',\n",
              " 'of',\n",
              " 'the',\n",
              " 'Indian',\n",
              " 'subcontinent',\n",
              " 'was',\n",
              " 'conquered',\n",
              " 'by',\n",
              " 'the',\n",
              " 'Maurya',\n",
              " 'Empire',\n",
              " 'during',\n",
              " 'the',\n",
              " '4th',\n",
              " 'and',\n",
              " '3rd',\n",
              " 'centuries',\n",
              " 'BCE.',\n",
              " 'From',\n",
              " 'the',\n",
              " '3rd',\n",
              " 'century',\n",
              " 'BCE',\n",
              " 'onwards',\n",
              " 'Prakrit',\n",
              " 'and',\n",
              " 'Pali',\n",
              " 'literature',\n",
              " 'in',\n",
              " 'the',\n",
              " 'north',\n",
              " 'and',\n",
              " 'the',\n",
              " 'Tamil',\n",
              " 'Sangam',\n",
              " 'literature',\n",
              " 'in',\n",
              " 'southern',\n",
              " 'India',\n",
              " 'started',\n",
              " 'to',\n",
              " 'flourish.',\n",
              " '[6][7]',\n",
              " 'Wootz',\n",
              " 'steel',\n",
              " 'originated',\n",
              " 'in',\n",
              " 'south',\n",
              " 'India',\n",
              " 'in',\n",
              " 'the',\n",
              " '3rd',\n",
              " 'century',\n",
              " 'BCE',\n",
              " 'and',\n",
              " 'was',\n",
              " 'exported',\n",
              " 'to',\n",
              " 'foreign',\n",
              " 'countries.',\n",
              " '[8][9][10]',\n",
              " 'During',\n",
              " 'the',\n",
              " 'Classical',\n",
              " 'period,',\n",
              " 'various',\n",
              " 'parts',\n",
              " 'of',\n",
              " 'India',\n",
              " 'were',\n",
              " 'ruled',\n",
              " 'by',\n",
              " 'numerous',\n",
              " 'dynasties',\n",
              " 'for',\n",
              " 'the',\n",
              " 'next',\n",
              " '1,500',\n",
              " 'years,',\n",
              " 'among',\n",
              " 'which',\n",
              " 'the',\n",
              " 'Gupta',\n",
              " 'Empire',\n",
              " 'stands',\n",
              " 'out.',\n",
              " 'This',\n",
              " 'period,',\n",
              " 'witnessing',\n",
              " 'a',\n",
              " 'Hindu',\n",
              " 'religious',\n",
              " 'and',\n",
              " 'intellectual',\n",
              " 'resurgence,',\n",
              " 'is',\n",
              " 'known',\n",
              " 'as',\n",
              " 'the',\n",
              " 'classical',\n",
              " 'or',\n",
              " '\"Golden',\n",
              " 'Age',\n",
              " 'of',\n",
              " 'India\".',\n",
              " 'During',\n",
              " 'this',\n",
              " 'period,',\n",
              " 'aspects',\n",
              " 'of',\n",
              " 'Indian',\n",
              " 'civilisation,',\n",
              " 'administration,',\n",
              " 'culture,',\n",
              " 'and',\n",
              " 'religion',\n",
              " '(Hinduism',\n",
              " 'and',\n",
              " 'Buddhism)',\n",
              " 'spread',\n",
              " 'to',\n",
              " 'much',\n",
              " 'of',\n",
              " 'Asia,',\n",
              " 'while',\n",
              " 'kingdoms',\n",
              " 'in',\n",
              " 'southern',\n",
              " 'India',\n",
              " 'had',\n",
              " 'maritime',\n",
              " 'business',\n",
              " 'links',\n",
              " 'with',\n",
              " 'the',\n",
              " 'Middle',\n",
              " 'East',\n",
              " 'and',\n",
              " 'the',\n",
              " 'Mediterranean.',\n",
              " 'Indian',\n",
              " 'cultural',\n",
              " 'influence',\n",
              " 'spread',\n",
              " 'over',\n",
              " 'many',\n",
              " 'parts',\n",
              " 'of',\n",
              " 'Southeast',\n",
              " 'Asia,',\n",
              " 'which',\n",
              " 'led',\n",
              " 'to',\n",
              " 'the',\n",
              " 'establishment',\n",
              " 'of',\n",
              " 'Indianised',\n",
              " 'kingdoms',\n",
              " 'in',\n",
              " 'Southeast',\n",
              " 'Asia',\n",
              " '(Greater',\n",
              " 'India).',\n",
              " '[11][12]']"
            ]
          },
          "metadata": {},
          "execution_count": 10
        }
      ],
      "source": [
        "sentence_to_words=[]\n",
        "for i in text_to_sentence[0:]:\n",
        "    sentence_to_words.extend(i.split()) \n",
        "sentence_to_words"
      ]
    },
    {
      "cell_type": "markdown",
      "metadata": {
        "id": "YuVsImHtwCAO"
      },
      "source": [
        "**Step 3 : Remove Unwanted Words** "
      ]
    },
    {
      "cell_type": "code",
      "execution_count": null,
      "metadata": {
        "colab": {
          "base_uri": "https://localhost:8080/"
        },
        "id": "0xJ3L59VoSg8",
        "outputId": "56fb3de2-3bdd-446f-f8d8-010d3348c69d"
      },
      "outputs": [
        {
          "output_type": "execute_result",
          "data": {
            "text/plain": [
              "['According',\n",
              " 'to',\n",
              " 'consensus',\n",
              " 'in',\n",
              " 'modern',\n",
              " 'genetics,',\n",
              " 'anatomically',\n",
              " 'modern',\n",
              " 'humans',\n",
              " 'first',\n",
              " 'arrived',\n",
              " 'on',\n",
              " 'the',\n",
              " 'Indian',\n",
              " 'subcontinent',\n",
              " 'from',\n",
              " 'Africa',\n",
              " 'between',\n",
              " '73,000',\n",
              " 'and',\n",
              " '55,000',\n",
              " 'years',\n",
              " 'ago.',\n",
              " 'However,',\n",
              " 'the',\n",
              " 'earliest',\n",
              " 'known',\n",
              " 'human',\n",
              " 'remains',\n",
              " 'in',\n",
              " 'South',\n",
              " 'Asia',\n",
              " 'date',\n",
              " 'to',\n",
              " '30,000',\n",
              " 'years',\n",
              " 'ago.',\n",
              " 'Settled',\n",
              " 'life,',\n",
              " 'which',\n",
              " 'involves',\n",
              " 'the',\n",
              " 'transition',\n",
              " 'from',\n",
              " 'foraging',\n",
              " 'to',\n",
              " 'farming',\n",
              " 'and',\n",
              " 'pastoralism,',\n",
              " 'began',\n",
              " 'in',\n",
              " 'South',\n",
              " 'Asia',\n",
              " 'around',\n",
              " '7,000',\n",
              " 'BCE.',\n",
              " 'At',\n",
              " 'the',\n",
              " 'site',\n",
              " 'of',\n",
              " 'Mehrgarh',\n",
              " 'presence',\n",
              " 'can',\n",
              " 'be',\n",
              " 'documented',\n",
              " 'of',\n",
              " 'the',\n",
              " 'domestication',\n",
              " 'of',\n",
              " 'wheat',\n",
              " 'and',\n",
              " 'barley,',\n",
              " 'rapidly',\n",
              " 'followed',\n",
              " 'by',\n",
              " 'that',\n",
              " 'of',\n",
              " 'goats,',\n",
              " 'sheep,',\n",
              " 'and',\n",
              " 'cattle.',\n",
              " 'By',\n",
              " '4,500',\n",
              " 'BCE,',\n",
              " 'settled',\n",
              " 'life',\n",
              " 'had',\n",
              " 'spread',\n",
              " 'more',\n",
              " 'and',\n",
              " 'began',\n",
              " 'to',\n",
              " 'gradually',\n",
              " 'evolve',\n",
              " 'into',\n",
              " 'the',\n",
              " 'Indus',\n",
              " 'Valley',\n",
              " 'Civilization,',\n",
              " 'an',\n",
              " 'early',\n",
              " 'civilization',\n",
              " 'of',\n",
              " 'the',\n",
              " 'Old',\n",
              " 'world,',\n",
              " 'which',\n",
              " 'was',\n",
              " 'contemporaneous',\n",
              " 'with',\n",
              " 'Ancient',\n",
              " 'Egypt',\n",
              " 'and',\n",
              " 'Mesopotamia.',\n",
              " 'This',\n",
              " 'civilisation',\n",
              " 'flourished',\n",
              " 'between',\n",
              " '2,500',\n",
              " 'BCE',\n",
              " 'and',\n",
              " '1900',\n",
              " 'BCE',\n",
              " 'in',\n",
              " 'what',\n",
              " 'today',\n",
              " 'is',\n",
              " 'Pakistan',\n",
              " 'and',\n",
              " 'north-western',\n",
              " 'India,',\n",
              " 'and',\n",
              " 'was',\n",
              " 'noted',\n",
              " 'for',\n",
              " 'its',\n",
              " 'urban',\n",
              " 'planning,',\n",
              " 'baked',\n",
              " 'brick',\n",
              " 'houses,',\n",
              " 'elaborate',\n",
              " 'drainage,',\n",
              " 'and',\n",
              " 'water',\n",
              " 'supply.',\n",
              " 'Early',\n",
              " 'on',\n",
              " 'in',\n",
              " 'the',\n",
              " 'second',\n",
              " 'millennium',\n",
              " 'BCE,',\n",
              " 'persistent',\n",
              " 'drought',\n",
              " 'caused',\n",
              " 'the',\n",
              " 'population',\n",
              " 'of',\n",
              " 'the',\n",
              " 'Indus',\n",
              " 'Valley',\n",
              " 'to',\n",
              " 'scatter',\n",
              " 'from',\n",
              " 'large',\n",
              " 'urban',\n",
              " 'centres',\n",
              " 'to',\n",
              " 'villages.',\n",
              " 'Around',\n",
              " 'the',\n",
              " 'same',\n",
              " 'time,',\n",
              " 'Indo-Aryan',\n",
              " 'tribes',\n",
              " 'moved',\n",
              " 'into',\n",
              " 'the',\n",
              " 'Punjab',\n",
              " 'from',\n",
              " 'Central',\n",
              " 'Asia',\n",
              " 'in',\n",
              " 'several',\n",
              " 'waves',\n",
              " 'of',\n",
              " 'migration.',\n",
              " 'Their',\n",
              " 'Vedic',\n",
              " 'Period',\n",
              " '(1500-500',\n",
              " 'BCE)',\n",
              " 'was',\n",
              " 'marked',\n",
              " 'by',\n",
              " 'the',\n",
              " 'composition',\n",
              " 'of',\n",
              " 'the',\n",
              " 'Vedas,',\n",
              " 'large',\n",
              " 'collections',\n",
              " 'of',\n",
              " 'hymns',\n",
              " 'of',\n",
              " 'these',\n",
              " 'tribes.',\n",
              " 'Their',\n",
              " 'varna',\n",
              " 'system,',\n",
              " 'which',\n",
              " 'evolved',\n",
              " 'into',\n",
              " 'the',\n",
              " 'caste',\n",
              " 'system,',\n",
              " 'consisted',\n",
              " 'of',\n",
              " 'a',\n",
              " 'hierarchy',\n",
              " 'of',\n",
              " 'priests,',\n",
              " 'warriors,',\n",
              " 'and',\n",
              " 'free',\n",
              " 'peasants.',\n",
              " 'The',\n",
              " 'pastoral',\n",
              " 'and',\n",
              " 'nomadic',\n",
              " 'Indo-Aryans',\n",
              " 'spread',\n",
              " 'from',\n",
              " 'the',\n",
              " 'Punjab',\n",
              " 'into',\n",
              " 'the',\n",
              " 'Gangetic',\n",
              " 'plain,',\n",
              " 'large',\n",
              " 'swaths',\n",
              " 'of',\n",
              " 'which',\n",
              " 'they',\n",
              " 'deforested',\n",
              " 'for',\n",
              " 'agriculture',\n",
              " 'usage.',\n",
              " 'The',\n",
              " 'composition',\n",
              " 'of',\n",
              " 'Vedic',\n",
              " 'texts',\n",
              " 'ended',\n",
              " 'around',\n",
              " '600',\n",
              " 'BCE,',\n",
              " 'when',\n",
              " 'a',\n",
              " 'new,',\n",
              " 'interregional',\n",
              " 'culture',\n",
              " 'arose.',\n",
              " 'Small',\n",
              " 'chieftaincies,',\n",
              " 'or',\n",
              " 'janapadas,',\n",
              " 'were',\n",
              " 'consolidated',\n",
              " 'into',\n",
              " 'larger',\n",
              " 'states,',\n",
              " 'or',\n",
              " 'mahajanapadas,',\n",
              " 'and',\n",
              " 'a',\n",
              " 'second',\n",
              " 'urbanisation',\n",
              " 'took',\n",
              " 'place.',\n",
              " 'This',\n",
              " 'urbanisation',\n",
              " 'was',\n",
              " 'accompanied',\n",
              " 'by',\n",
              " 'the',\n",
              " 'rise',\n",
              " 'of',\n",
              " 'new',\n",
              " 'ascetic',\n",
              " 'movements',\n",
              " 'in',\n",
              " 'Greater',\n",
              " 'Magadha,',\n",
              " 'including',\n",
              " 'Jainism',\n",
              " 'and',\n",
              " 'Buddhism,',\n",
              " 'which',\n",
              " 'opposed',\n",
              " 'the',\n",
              " 'growing',\n",
              " 'influence',\n",
              " 'of',\n",
              " 'Brahmanism',\n",
              " 'and',\n",
              " 'the',\n",
              " 'primacy',\n",
              " 'of',\n",
              " 'rituals,',\n",
              " 'presided',\n",
              " 'by',\n",
              " 'Brahmin',\n",
              " 'priests,',\n",
              " 'that',\n",
              " 'had',\n",
              " 'come',\n",
              " 'to',\n",
              " 'be',\n",
              " 'associated',\n",
              " 'with',\n",
              " 'Vedic',\n",
              " 'and',\n",
              " 'gave',\n",
              " 'rise',\n",
              " 'to',\n",
              " 'new',\n",
              " 'religious',\n",
              " 'concepts.',\n",
              " 'In',\n",
              " 'response',\n",
              " 'to',\n",
              " 'the',\n",
              " 'success',\n",
              " 'of',\n",
              " 'these',\n",
              " 'movements,',\n",
              " 'Vedic',\n",
              " 'Brahmanism',\n",
              " 'was',\n",
              " 'synthesised',\n",
              " 'with',\n",
              " 'the',\n",
              " 'preexisting',\n",
              " 'religious',\n",
              " 'cultures',\n",
              " 'of',\n",
              " 'the',\n",
              " 'subcontinent,',\n",
              " 'giving',\n",
              " 'rise',\n",
              " 'to',\n",
              " 'Hinduism.',\n",
              " 'Indian',\n",
              " 'Cultural',\n",
              " 'Influence',\n",
              " '(Greater',\n",
              " 'India)',\n",
              " 'Most',\n",
              " 'of',\n",
              " 'the',\n",
              " 'Indian',\n",
              " 'subcontinent',\n",
              " 'was',\n",
              " 'conquered',\n",
              " 'by',\n",
              " 'the',\n",
              " 'Maurya',\n",
              " 'Empire',\n",
              " 'during',\n",
              " 'the',\n",
              " '4th',\n",
              " 'and',\n",
              " '3rd',\n",
              " 'centuries',\n",
              " 'BCE.',\n",
              " 'From',\n",
              " 'the',\n",
              " '3rd',\n",
              " 'century',\n",
              " 'BCE',\n",
              " 'onwards',\n",
              " 'Prakrit',\n",
              " 'and',\n",
              " 'Pali',\n",
              " 'literature',\n",
              " 'in',\n",
              " 'the',\n",
              " 'north',\n",
              " 'and',\n",
              " 'the',\n",
              " 'Tamil',\n",
              " 'Sangam',\n",
              " 'literature',\n",
              " 'in',\n",
              " 'southern',\n",
              " 'India',\n",
              " 'started',\n",
              " 'to',\n",
              " 'flourish.',\n",
              " 'Wootz',\n",
              " 'steel',\n",
              " 'originated',\n",
              " 'in',\n",
              " 'south',\n",
              " 'India',\n",
              " 'in',\n",
              " 'the',\n",
              " '3rd',\n",
              " 'century',\n",
              " 'BCE',\n",
              " 'and',\n",
              " 'was',\n",
              " 'exported',\n",
              " 'to',\n",
              " 'foreign',\n",
              " 'countries.',\n",
              " 'During',\n",
              " 'the',\n",
              " 'Classical',\n",
              " 'period,',\n",
              " 'various',\n",
              " 'parts',\n",
              " 'of',\n",
              " 'India',\n",
              " 'were',\n",
              " 'ruled',\n",
              " 'by',\n",
              " 'numerous',\n",
              " 'dynasties',\n",
              " 'for',\n",
              " 'the',\n",
              " 'next',\n",
              " '1,500',\n",
              " 'years,',\n",
              " 'among',\n",
              " 'which',\n",
              " 'the',\n",
              " 'Gupta',\n",
              " 'Empire',\n",
              " 'stands',\n",
              " 'out.',\n",
              " 'This',\n",
              " 'period,',\n",
              " 'witnessing',\n",
              " 'a',\n",
              " 'Hindu',\n",
              " 'religious',\n",
              " 'and',\n",
              " 'intellectual',\n",
              " 'resurgence,',\n",
              " 'is',\n",
              " 'known',\n",
              " 'as',\n",
              " 'the',\n",
              " 'classical',\n",
              " 'or',\n",
              " '\"Golden',\n",
              " 'Age',\n",
              " 'of',\n",
              " 'India\".',\n",
              " 'During',\n",
              " 'this',\n",
              " 'period,',\n",
              " 'aspects',\n",
              " 'of',\n",
              " 'Indian',\n",
              " 'civilisation,',\n",
              " 'administration,',\n",
              " 'culture,',\n",
              " 'and',\n",
              " 'religion',\n",
              " '(Hinduism',\n",
              " 'and',\n",
              " 'Buddhism)',\n",
              " 'spread',\n",
              " 'to',\n",
              " 'much',\n",
              " 'of',\n",
              " 'Asia,',\n",
              " 'while',\n",
              " 'kingdoms',\n",
              " 'in',\n",
              " 'southern',\n",
              " 'India',\n",
              " 'had',\n",
              " 'maritime',\n",
              " 'business',\n",
              " 'links',\n",
              " 'with',\n",
              " 'the',\n",
              " 'Middle',\n",
              " 'East',\n",
              " 'and',\n",
              " 'the',\n",
              " 'Mediterranean.',\n",
              " 'Indian',\n",
              " 'cultural',\n",
              " 'influence',\n",
              " 'spread',\n",
              " 'over',\n",
              " 'many',\n",
              " 'parts',\n",
              " 'of',\n",
              " 'Southeast',\n",
              " 'Asia,',\n",
              " 'which',\n",
              " 'led',\n",
              " 'to',\n",
              " 'the',\n",
              " 'establishment',\n",
              " 'of',\n",
              " 'Indianised',\n",
              " 'kingdoms',\n",
              " 'in',\n",
              " 'Southeast',\n",
              " 'Asia',\n",
              " '(Greater',\n",
              " 'India).']"
            ]
          },
          "metadata": {},
          "execution_count": 11
        }
      ],
      "source": [
        "tokens = [ w for w in sentence_to_words if w[0]!='[' and w[-1]!= ']' ]\n",
        "tokens"
      ]
    },
    {
      "cell_type": "markdown",
      "metadata": {
        "id": "Z-wZDpe3vHi9"
      },
      "source": [
        "**Step 4 : Remove punctuation from each word(except full stop(.))**"
      ]
    },
    {
      "cell_type": "code",
      "execution_count": null,
      "metadata": {
        "colab": {
          "base_uri": "https://localhost:8080/"
        },
        "id": "tC1FqZYi1Szk",
        "outputId": "c35b5639-257e-480f-e428-3f30a02656fd"
      },
      "outputs": [
        {
          "output_type": "stream",
          "name": "stdout",
          "text": [
            "['According', 'to', 'consensus', 'in', 'modern', 'genetics', 'anatomically', 'modern', 'humans', 'first', 'arrived', 'on', 'the', 'Indian', 'subcontinent', 'from', 'Africa', 'between', '73000', 'and', '55000', 'years', 'ago.', 'However', 'the', 'earliest', 'known', 'human', 'remains', 'in', 'South', 'Asia', 'date', 'to', '30000', 'years', 'ago.', 'Settled', 'life', 'which', 'involves', 'the', 'transition', 'from', 'foraging', 'to', 'farming', 'and', 'pastoralism', 'began', 'in', 'South', 'Asia', 'around', '7000', 'BCE.', 'At', 'the', 'site', 'of', 'Mehrgarh', 'presence', 'can', 'be', 'documented', 'of', 'the', 'domestication', 'of', 'wheat', 'and', 'barley', 'rapidly', 'followed', 'by', 'that', 'of', 'goats', 'sheep', 'and', 'cattle.', 'By', '4500', 'BCE', 'settled', 'life', 'had', 'spread', 'more', 'and', 'began', 'to', 'gradually', 'evolve', 'into', 'the', 'Indus', 'Valley', 'Civilization', 'an', 'early', 'civilization', 'of', 'the', 'Old', 'world', 'which', 'was', 'contemporaneous', 'with', 'Ancient', 'Egypt', 'and', 'Mesopotamia.', 'This', 'civilisation', 'flourished', 'between', '2500', 'BCE', 'and', '1900', 'BCE', 'in', 'what', 'today', 'is', 'Pakistan', 'and', 'northwestern', 'India', 'and', 'was', 'noted', 'for', 'its', 'urban', 'planning', 'baked', 'brick', 'houses', 'elaborate', 'drainage', 'and', 'water', 'supply.', 'Early', 'on', 'in', 'the', 'second', 'millennium', 'BCE', 'persistent', 'drought', 'caused', 'the', 'population', 'of', 'the', 'Indus', 'Valley', 'to', 'scatter', 'from', 'large', 'urban', 'centres', 'to', 'villages.', 'Around', 'the', 'same', 'time', 'IndoAryan', 'tribes', 'moved', 'into', 'the', 'Punjab', 'from', 'Central', 'Asia', 'in', 'several', 'waves', 'of', 'migration.', 'Their', 'Vedic', 'Period', '1500500', 'BCE', 'was', 'marked', 'by', 'the', 'composition', 'of', 'the', 'Vedas', 'large', 'collections', 'of', 'hymns', 'of', 'these', 'tribes.', 'Their', 'varna', 'system', 'which', 'evolved', 'into', 'the', 'caste', 'system', 'consisted', 'of', 'a', 'hierarchy', 'of', 'priests', 'warriors', 'and', 'free', 'peasants.', 'The', 'pastoral', 'and', 'nomadic', 'IndoAryans', 'spread', 'from', 'the', 'Punjab', 'into', 'the', 'Gangetic', 'plain', 'large', 'swaths', 'of', 'which', 'they', 'deforested', 'for', 'agriculture', 'usage.', 'The', 'composition', 'of', 'Vedic', 'texts', 'ended', 'around', '600', 'BCE', 'when', 'a', 'new', 'interregional', 'culture', 'arose.', 'Small', 'chieftaincies', 'or', 'janapadas', 'were', 'consolidated', 'into', 'larger', 'states', 'or', 'mahajanapadas', 'and', 'a', 'second', 'urbanisation', 'took', 'place.', 'This', 'urbanisation', 'was', 'accompanied', 'by', 'the', 'rise', 'of', 'new', 'ascetic', 'movements', 'in', 'Greater', 'Magadha', 'including', 'Jainism', 'and', 'Buddhism', 'which', 'opposed', 'the', 'growing', 'influence', 'of', 'Brahmanism', 'and', 'the', 'primacy', 'of', 'rituals', 'presided', 'by', 'Brahmin', 'priests', 'that', 'had', 'come', 'to', 'be', 'associated', 'with', 'Vedic', 'and', 'gave', 'rise', 'to', 'new', 'religious', 'concepts.', 'In', 'response', 'to', 'the', 'success', 'of', 'these', 'movements', 'Vedic', 'Brahmanism', 'was', 'synthesised', 'with', 'the', 'preexisting', 'religious', 'cultures', 'of', 'the', 'subcontinent', 'giving', 'rise', 'to', 'Hinduism.', 'Indian', 'Cultural', 'Influence', 'Greater', 'India', 'Most', 'of', 'the', 'Indian', 'subcontinent', 'was', 'conquered', 'by', 'the', 'Maurya', 'Empire', 'during', 'the', '4th', 'and', '3rd', 'centuries', 'BCE.', 'From', 'the', '3rd', 'century', 'BCE', 'onwards', 'Prakrit', 'and', 'Pali', 'literature', 'in', 'the', 'north', 'and', 'the', 'Tamil', 'Sangam', 'literature', 'in', 'southern', 'India', 'started', 'to', 'flourish.', 'Wootz', 'steel', 'originated', 'in', 'south', 'India', 'in', 'the', '3rd', 'century', 'BCE', 'and', 'was', 'exported', 'to', 'foreign', 'countries.', 'During', 'the', 'Classical', 'period', 'various', 'parts', 'of', 'India', 'were', 'ruled', 'by', 'numerous', 'dynasties', 'for', 'the', 'next', '1500', 'years', 'among', 'which', 'the', 'Gupta', 'Empire', 'stands', 'out.', 'This', 'period', 'witnessing', 'a', 'Hindu', 'religious', 'and', 'intellectual', 'resurgence', 'is', 'known', 'as', 'the', 'classical', 'or', 'Golden', 'Age', 'of', 'India.', 'During', 'this', 'period', 'aspects', 'of', 'Indian', 'civilisation', 'administration', 'culture', 'and', 'religion', 'Hinduism', 'and', 'Buddhism', 'spread', 'to', 'much', 'of', 'Asia', 'while', 'kingdoms', 'in', 'southern', 'India', 'had', 'maritime', 'business', 'links', 'with', 'the', 'Middle', 'East', 'and', 'the', 'Mediterranean.', 'Indian', 'cultural', 'influence', 'spread', 'over', 'many', 'parts', 'of', 'Southeast', 'Asia', 'which', 'led', 'to', 'the', 'establishment', 'of', 'Indianised', 'kingdoms', 'in', 'Southeast', 'Asia', 'Greater', 'India.']\n"
          ]
        }
      ],
      "source": [
        "import string\n",
        "remove = string.punctuation\n",
        "import re \n",
        "remove = remove.replace(\".\", \"\")\n",
        "pattern = r\"[{}]\".format(re.escape(remove))\n",
        "table = str.maketrans('', '', pattern)\n",
        "stripped = [w.translate(table) for w in tokens]\n",
        "print(stripped[:])"
      ]
    },
    {
      "cell_type": "code",
      "execution_count": null,
      "metadata": {
        "id": "HPJI6ymGtmhK"
      },
      "outputs": [],
      "source": [
        ""
      ]
    },
    {
      "cell_type": "markdown",
      "metadata": {
        "id": "aqcqg2T1vNrP"
      },
      "source": [
        "**Step 5 : Join Sentence**"
      ]
    },
    {
      "cell_type": "code",
      "execution_count": null,
      "metadata": {
        "colab": {
          "base_uri": "https://localhost:8080/",
          "height": 123
        },
        "id": "PPp-SveV1cVV",
        "outputId": "6aeba70b-142c-43ab-c8fa-75e5b5cc0907"
      },
      "outputs": [
        {
          "output_type": "execute_result",
          "data": {
            "text/plain": [
              "'According to consensus in modern genetics anatomically modern humans first arrived on the Indian subcontinent from Africa between 73000 and 55000 years ago. However the earliest known human remains in South Asia date to 30000 years ago. Settled life which involves the transition from foraging to farming and pastoralism began in South Asia around 7000 BCE. At the site of Mehrgarh presence can be documented of the domestication of wheat and barley rapidly followed by that of goats sheep and cattle. By 4500 BCE settled life had spread more and began to gradually evolve into the Indus Valley Civilization an early civilization of the Old world which was contemporaneous with Ancient Egypt and Mesopotamia. This civilisation flourished between 2500 BCE and 1900 BCE in what today is Pakistan and northwestern India and was noted for its urban planning baked brick houses elaborate drainage and water supply. Early on in the second millennium BCE persistent drought caused the population of the Indus Valley to scatter from large urban centres to villages. Around the same time IndoAryan tribes moved into the Punjab from Central Asia in several waves of migration. Their Vedic Period 1500500 BCE was marked by the composition of the Vedas large collections of hymns of these tribes. Their varna system which evolved into the caste system consisted of a hierarchy of priests warriors and free peasants. The pastoral and nomadic IndoAryans spread from the Punjab into the Gangetic plain large swaths of which they deforested for agriculture usage. The composition of Vedic texts ended around 600 BCE when a new interregional culture arose. Small chieftaincies or janapadas were consolidated into larger states or mahajanapadas and a second urbanisation took place. This urbanisation was accompanied by the rise of new ascetic movements in Greater Magadha including Jainism and Buddhism which opposed the growing influence of Brahmanism and the primacy of rituals presided by Brahmin priests that had come to be associated with Vedic and gave rise to new religious concepts. In response to the success of these movements Vedic Brahmanism was synthesised with the preexisting religious cultures of the subcontinent giving rise to Hinduism. Indian Cultural Influence Greater India Most of the Indian subcontinent was conquered by the Maurya Empire during the 4th and 3rd centuries BCE. From the 3rd century BCE onwards Prakrit and Pali literature in the north and the Tamil Sangam literature in southern India started to flourish. Wootz steel originated in south India in the 3rd century BCE and was exported to foreign countries. During the Classical period various parts of India were ruled by numerous dynasties for the next 1500 years among which the Gupta Empire stands out. This period witnessing a Hindu religious and intellectual resurgence is known as the classical or Golden Age of India. During this period aspects of Indian civilisation administration culture and religion Hinduism and Buddhism spread to much of Asia while kingdoms in southern India had maritime business links with the Middle East and the Mediterranean. Indian cultural influence spread over many parts of Southeast Asia which led to the establishment of Indianised kingdoms in Southeast Asia Greater India.'"
            ],
            "application/vnd.google.colaboratory.intrinsic+json": {
              "type": "string"
            }
          },
          "metadata": {},
          "execution_count": 13
        }
      ],
      "source": [
        "words_to_sentense=' '.join(stripped)\n",
        "words_to_sentense"
      ]
    },
    {
      "cell_type": "code",
      "execution_count": null,
      "metadata": {
        "colab": {
          "base_uri": "https://localhost:8080/"
        },
        "id": "zEaorJkv2yZ8",
        "outputId": "256c0280-a0ec-4a60-a4f4-f5d03b7cd00a"
      },
      "outputs": [
        {
          "output_type": "stream",
          "name": "stdout",
          "text": [
            "Looking in indexes: https://pypi.org/simple, https://us-python.pkg.dev/colab-wheels/public/simple/\n",
            "Requirement already satisfied: torch in /usr/local/lib/python3.7/dist-packages (1.9.0)\n",
            "Requirement already satisfied: typing-extensions in /usr/local/lib/python3.7/dist-packages (from torch) (4.1.1)\n"
          ]
        }
      ],
      "source": [
        "!pip install torch"
      ]
    },
    {
      "cell_type": "markdown",
      "metadata": {
        "id": "iEQeUZWCGpYX"
      },
      "source": [
        "# **Take Input From User Locally**"
      ]
    },
    {
      "cell_type": "code",
      "execution_count": null,
      "metadata": {
        "id": "LpPDISBI3POk"
      },
      "outputs": [],
      "source": [
        "generate_ques=int(number_of_question)"
      ]
    },
    {
      "cell_type": "code",
      "source": [
        "!pip install transformers[torch]==4.3"
      ],
      "metadata": {
        "colab": {
          "base_uri": "https://localhost:8080/"
        },
        "id": "DDflksuIR27v",
        "outputId": "5fae21c3-0b2e-4649-ab6c-d0e097958976"
      },
      "execution_count": null,
      "outputs": [
        {
          "output_type": "stream",
          "name": "stdout",
          "text": [
            "Looking in indexes: https://pypi.org/simple, https://us-python.pkg.dev/colab-wheels/public/simple/\n",
            "Collecting transformers[torch]==4.3\n",
            "  Using cached transformers-4.3.0-py3-none-any.whl (1.8 MB)\n",
            "Requirement already satisfied: sacremoses in /usr/local/lib/python3.7/dist-packages (from transformers[torch]==4.3) (0.0.53)\n",
            "Requirement already satisfied: tqdm>=4.27 in /usr/local/lib/python3.7/dist-packages (from transformers[torch]==4.3) (4.64.0)\n",
            "Requirement already satisfied: requests in /usr/local/lib/python3.7/dist-packages (from transformers[torch]==4.3) (2.23.0)\n",
            "Requirement already satisfied: importlib-metadata in /usr/local/lib/python3.7/dist-packages (from transformers[torch]==4.3) (4.12.0)\n",
            "Requirement already satisfied: packaging in /usr/local/lib/python3.7/dist-packages (from transformers[torch]==4.3) (21.3)\n",
            "Requirement already satisfied: numpy>=1.17 in /usr/local/lib/python3.7/dist-packages (from transformers[torch]==4.3) (1.21.1)\n",
            "Requirement already satisfied: filelock in /usr/local/lib/python3.7/dist-packages (from transformers[torch]==4.3) (3.8.0)\n",
            "Requirement already satisfied: regex!=2019.12.17 in /usr/local/lib/python3.7/dist-packages (from transformers[torch]==4.3) (2022.6.2)\n",
            "Collecting tokenizers<0.11,>=0.10.1\n",
            "  Using cached tokenizers-0.10.3-cp37-cp37m-manylinux_2_5_x86_64.manylinux1_x86_64.manylinux_2_12_x86_64.manylinux2010_x86_64.whl (3.3 MB)\n",
            "Requirement already satisfied: torch>=1.0 in /usr/local/lib/python3.7/dist-packages (from transformers[torch]==4.3) (1.9.0)\n",
            "Requirement already satisfied: typing-extensions in /usr/local/lib/python3.7/dist-packages (from torch>=1.0->transformers[torch]==4.3) (4.1.1)\n",
            "Requirement already satisfied: zipp>=0.5 in /usr/local/lib/python3.7/dist-packages (from importlib-metadata->transformers[torch]==4.3) (3.8.1)\n",
            "Requirement already satisfied: pyparsing!=3.0.5,>=2.0.2 in /usr/local/lib/python3.7/dist-packages (from packaging->transformers[torch]==4.3) (3.0.9)\n",
            "Requirement already satisfied: certifi>=2017.4.17 in /usr/local/lib/python3.7/dist-packages (from requests->transformers[torch]==4.3) (2022.6.15)\n",
            "Requirement already satisfied: urllib3!=1.25.0,!=1.25.1,<1.26,>=1.21.1 in /usr/local/lib/python3.7/dist-packages (from requests->transformers[torch]==4.3) (1.25.11)\n",
            "Requirement already satisfied: chardet<4,>=3.0.2 in /usr/local/lib/python3.7/dist-packages (from requests->transformers[torch]==4.3) (3.0.4)\n",
            "Requirement already satisfied: idna<3,>=2.5 in /usr/local/lib/python3.7/dist-packages (from requests->transformers[torch]==4.3) (2.10)\n",
            "Requirement already satisfied: joblib in /usr/local/lib/python3.7/dist-packages (from sacremoses->transformers[torch]==4.3) (1.1.0)\n",
            "Requirement already satisfied: six in /usr/local/lib/python3.7/dist-packages (from sacremoses->transformers[torch]==4.3) (1.15.0)\n",
            "Requirement already satisfied: click in /usr/local/lib/python3.7/dist-packages (from sacremoses->transformers[torch]==4.3) (7.1.2)\n",
            "Installing collected packages: tokenizers, transformers\n",
            "  Attempting uninstall: tokenizers\n",
            "    Found existing installation: tokenizers 0.5.2\n",
            "    Uninstalling tokenizers-0.5.2:\n",
            "      Successfully uninstalled tokenizers-0.5.2\n",
            "  Attempting uninstall: transformers\n",
            "    Found existing installation: transformers 2.5.1\n",
            "    Uninstalling transformers-2.5.1:\n",
            "      Successfully uninstalled transformers-2.5.1\n",
            "\u001b[31mERROR: pip's dependency resolver does not currently take into account all the packages that are installed. This behaviour is the source of the following dependency conflicts.\n",
            "boolean-question 0.0.3 requires transformers==2.5.1, but you have transformers 4.3.0 which is incompatible.\u001b[0m\n",
            "Successfully installed tokenizers-0.10.3 transformers-4.3.0\n"
          ]
        }
      ]
    },
    {
      "cell_type": "markdown",
      "metadata": {
        "id": "GrA5NUgmzkVm"
      },
      "source": [
        "## **Generate_boolean_questions_using_T5_transformer**"
      ]
    },
    {
      "cell_type": "code",
      "execution_count": null,
      "metadata": {
        "colab": {
          "base_uri": "https://localhost:8080/"
        },
        "id": "UXzvt_il1HSM",
        "outputId": "765fe8fc-1f69-4b6b-f120-5363632c007e"
      },
      "outputs": [
        {
          "output_type": "stream",
          "name": "stderr",
          "text": [
            "/usr/local/lib/python3.7/dist-packages/torch/_tensor.py:575: UserWarning: floor_divide is deprecated, and will be removed in a future version of pytorch. It currently rounds toward 0 (like the 'trunc' function NOT 'floor'). This results in incorrect rounding for negative values.\n",
            "To keep the current behavior, use torch.div(a, b, rounding_mode='trunc'), or for actual floor division, use torch.div(a, b, rounding_mode='floor'). (Triggered internally at  /pytorch/aten/src/ATen/native/BinaryOps.cpp:467.)\n",
            "  return torch.floor_divide(self, other)\n"
          ]
        },
        {
          "output_type": "stream",
          "name": "stdout",
          "text": [
            "Was there a civilization in the indus valley?\n",
            "Is there a difference between indian and pakistan?\n",
            "Is the indus valley part of the pakistan subcontinent?\n",
            "Is the indus valley the same as india?\n",
            "Is the indus valley part of the pakistan region?\n",
            "Did humans come from afar into the indus valley?\n",
            "Was there a civilization before the indus valley?\n",
            "Is there a difference between india and africa?\n",
            "Is the indus valley part of the asiatic continent?\n",
            "Are there any humans living in the indus valley?\n",
            "\n",
            "\n"
          ]
        }
      ],
      "source": [
        "import time\n",
        "import torch\n",
        "from transformers import T5ForConditionalGeneration,T5Tokenizer\n",
        "#import logging logging.basicConfig(level = logging.ERROR)\n",
        "\n",
        "def set_seed(seed):\n",
        "  torch.manual_seed(seed)\n",
        "  if torch.cuda.is_available():\n",
        "    torch.cuda.manual_seed_all(seed)\n",
        "\n",
        "set_seed(42)\n",
        "\n",
        "model = T5ForConditionalGeneration.from_pretrained('ramsrigouthamg/t5_boolean_questions')\n",
        "tokenizer = T5Tokenizer.from_pretrained('t5-base')\n",
        "\n",
        "device = torch.device(\"cuda\" if torch.cuda.is_available() else \"cpu\")\n",
        "# print (\"device \",device)\n",
        "model = model.to(device)\n",
        "\n",
        "\n",
        "def greedy_decoding (inp_ids,attn_mask):\n",
        "  greedy_output = model.generate(input_ids=inp_ids, attention_mask=attn_mask, max_length=256)\n",
        "  Question =  tokenizer.decode(greedy_output[0], skip_special_tokens=True,clean_up_tokenization_spaces=True)\n",
        "  return Question.strip().capitalize()\n",
        "\n",
        "\n",
        "def beam_search_decoding (inp_ids,attn_mask):\n",
        "  beam_output = model.generate(input_ids=inp_ids,\n",
        "                                 attention_mask=attn_mask,\n",
        "                                 max_length=256,\n",
        "                               num_beams=generate_ques,\n",
        "                               num_return_sequences=generate_ques,\n",
        "                               no_repeat_ngram_size=2,\n",
        "                               early_stopping=True\n",
        "                               )\n",
        "  Questions = [tokenizer.decode(out, skip_special_tokens=True, clean_up_tokenization_spaces=True) for out in\n",
        "               beam_output]\n",
        "  return [Question.strip().capitalize() for Question in Questions]\n",
        "\n",
        "\n",
        "def topkp_decoding (inp_ids,attn_mask):\n",
        "  topkp_output = model.generate(input_ids=inp_ids,\n",
        "                                 attention_mask=attn_mask,\n",
        "                                 max_length=256,\n",
        "                               do_sample=True,\n",
        "                               top_k=40,\n",
        "                               top_p=0.80,\n",
        "                               num_return_sequences=generate_ques,\n",
        "                                no_repeat_ngram_size=2,\n",
        "                                early_stopping=True\n",
        "                               )\n",
        "  Questions = [tokenizer.decode(out, skip_special_tokens=True,clean_up_tokenization_spaces=True) for out in topkp_output]\n",
        "  return [Question.strip().capitalize() for Question in Questions]\n",
        "\n",
        "#start = time.time()\n",
        "\n",
        "# passage = \"Starlink, of SpaceX, is a satellite constellation project being developed by Elon Musk and team to give satellite Internet go-to access for people in any part of the world. The plan is to comprise thousands of mass-delivered little satellites in low Earth circle, orbit, working in mix with ground handheld devices, for instance, our iPhones. Elon Musk speaks about it as a grand Idea that could change the way we view and access the world around us.\"\n",
        "# truefalse =\"yes\"\n",
        "\n",
        "# passage =\"About 400 years ago, a battle was unfolding about the nature of the Universe. For millennia, astronomers had accurately described the orbits of the planets using a geocentric model, where the Earth was stationary and all the other objects orbited around it.\"\n",
        "# truefalse =\"yes\"\n",
        "\n",
        "#passage = words_to_sentense\n",
        "#truefalse =\"yes\"\n",
        "\n",
        "# passage =\"The US has passed the peak on new coronavirus cases, President Donald Trump said and predicted that some states would reopen this month. The US has over 637000 confirmed Covid-19 cases and over 30826 deaths, the highest for any country in the world.\"\n",
        "# truefalse = \"yes\"\n",
        "\n",
        "\n",
        "#text = \"truefalse: %s passage: %s </s>\" % (passage, truefalse)\n",
        "\n",
        "\n",
        "max_len = 512\n",
        "\n",
        "encoding = tokenizer.encode_plus(words_to_sentense, return_tensors=\"pt\", add_special_tokens=True,max_length=max_len, truncation=True,padding=True)\n",
        "input_ids, attention_masks = encoding[\"input_ids\"].to(device), encoding[\"attention_mask\"].to(device)\n",
        "\n",
        "\n",
        "\n",
        "#print (\"Context: \",passage)\n",
        "# print (\"\\nGenerated Question: \",truefalse)\n",
        "\n",
        "# output = greedy_decoding(input_ids,attention_masks)\n",
        "# print (\"\\nGreedy decoding:: \",output)\n",
        "\n",
        "yes = beam_search_decoding(input_ids,attention_masks)\n",
        "#print (\"\\nBeam decoding [Most accurate questions] ::\\n\")\n",
        "for out in yes:\n",
        "    print(out)\n",
        "\n",
        "\n",
        "no = topkp_decoding(input_ids,attention_masks)\n",
        "#print (\"\\nTopKP decoding [Not very accurate but more variety in questions] ::\\n\")\n",
        "for out in no:\n",
        "    print (out)\n",
        "\n",
        "#end = time.time()\n",
        "#print (\"\\nTime elapsed \", end-start)\n",
        "print (\"\\n\")"
      ]
    },
    {
      "cell_type": "markdown",
      "metadata": {
        "id": "pGEZSJPdGu7-"
      },
      "source": [
        "## **Remove Duplicates**"
      ]
    },
    {
      "cell_type": "code",
      "execution_count": null,
      "metadata": {
        "colab": {
          "base_uri": "https://localhost:8080/"
        },
        "id": "-djvQrNIzJoR",
        "outputId": "ff79341c-5b4a-41b9-a262-dacd68575be6"
      },
      "outputs": [
        {
          "output_type": "execute_result",
          "data": {
            "text/plain": [
              "['Was there a civilization in the indus valley?',\n",
              " 'Is there a difference between indian and pakistan?',\n",
              " 'Is the indus valley part of the pakistan subcontinent?',\n",
              " 'Is the indus valley the same as india?',\n",
              " 'Is the indus valley part of the pakistan region?',\n",
              " 'Did humans come from afar into the indus valley?',\n",
              " 'Was there a civilization before the indus valley?',\n",
              " 'Is there a difference between india and africa?',\n",
              " 'Is the indus valley part of the asiatic continent?',\n",
              " 'Are there any humans living in the indus valley?']"
            ]
          },
          "metadata": {},
          "execution_count": 18
        }
      ],
      "source": [
        "new_questions = yes + no\n",
        "new_questions4 = []\n",
        "\n",
        "[new_questions4.append(x) for x in new_questions if x not in new_questions4]\n",
        "new_questions4"
      ]
    },
    {
      "cell_type": "code",
      "execution_count": null,
      "metadata": {
        "colab": {
          "base_uri": "https://localhost:8080/"
        },
        "id": "O1BgbqA2eyNx",
        "outputId": "d39d2c57-7d9b-4659-e1a5-e67ed865c392"
      },
      "outputs": [
        {
          "output_type": "execute_result",
          "data": {
            "text/plain": [
              "10"
            ]
          },
          "metadata": {},
          "execution_count": 19
        }
      ],
      "source": [
        "len(new_questions)"
      ]
    },
    {
      "cell_type": "code",
      "execution_count": null,
      "metadata": {
        "id": "seqmhWlMHiyk",
        "colab": {
          "base_uri": "https://localhost:8080/"
        },
        "outputId": "7ffc23c3-53be-457c-c298-8393545f896c"
      },
      "outputs": [
        {
          "output_type": "execute_result",
          "data": {
            "text/plain": [
              "10"
            ]
          },
          "metadata": {},
          "execution_count": 20
        }
      ],
      "source": [
        "len(new_questions4)"
      ]
    },
    {
      "cell_type": "code",
      "source": [
        "#!pip install boolean_question"
      ],
      "metadata": {
        "id": "qG2YH3vo4I2p"
      },
      "execution_count": null,
      "outputs": []
    },
    {
      "cell_type": "code",
      "source": [
        "\"\"\"\n",
        "!pip install autopep8==1.5.7\n",
        "!pip install boto3==1.18.11\n",
        "!pip install botocore==1.21.11\n",
        "!pip install certifi==2021.5.30\n",
        "!pip install charset-normalizer==2.0.4\n",
        "!pip install click==8.0.1\n",
        "!pip install filelock==3.0.12\n",
        "!pip install gdown==3.13.0\n",
        "!pip install huggingface-hub==0.0.12\n",
        "!pip install idna==3.2\n",
        "!pip install jmespath==0.10.0\n",
        "!pip install joblib==1.0.1\n",
        "!pip install numpy==1.21.1\n",
        "!pip install packaging==21.0\n",
        "!pip install pandas==1.3.1\n",
        "!pip install Pillow==8.3.1\n",
        "!pip install pycodestyle==2.7.0\n",
        "!pip install pyparsing==2.4.7\n",
        "!pip install PySocks==1.7.1\n",
        "!pip install python-dateutil==2.8.2\n",
        "!pip install pytz==2021.1\n",
        "!pip install PyYAML==5.4.1\n",
        "!pip install regex==2021.7.6\n",
        "!pip install requests==2.26.0\n",
        "!pip install s3transfer==0.5.0\n",
        "!pip install sacremoses==0.0.45\n",
        "!pip install sentencepiece==0.1.96\n",
        "!pip install six==1.16.0\n",
        "!pip install tokenizers==0.5.2\n",
        "!pip install toml==0.10.2\n",
        "!pip install torch==1.9.0\n",
        "!pip install torchvision==0.10.0\n",
        "!pip install tqdm==4.62.0\n",
        "!pip install typing-extensions==3.10.0.0\n",
        "!pip install urllib3==1.26.6\n",
        "\"\"\""
      ],
      "metadata": {
        "colab": {
          "base_uri": "https://localhost:8080/",
          "height": 123
        },
        "id": "69BsYugPOywK",
        "outputId": "bffaa196-2f6e-45e2-8ea8-75bda1f72ca9"
      },
      "execution_count": null,
      "outputs": [
        {
          "output_type": "execute_result",
          "data": {
            "text/plain": [
              "'\\n!pip install autopep8==1.5.7\\n!pip install boto3==1.18.11\\n!pip install botocore==1.21.11\\n!pip install certifi==2021.5.30\\n!pip install charset-normalizer==2.0.4\\n!pip install click==8.0.1\\n!pip install filelock==3.0.12\\n!pip install gdown==3.13.0\\n!pip install huggingface-hub==0.0.12\\n!pip install idna==3.2\\n!pip install jmespath==0.10.0\\n!pip install joblib==1.0.1\\n!pip install numpy==1.21.1\\n!pip install packaging==21.0\\n!pip install pandas==1.3.1\\n!pip install Pillow==8.3.1\\n!pip install pycodestyle==2.7.0\\n!pip install pyparsing==2.4.7\\n!pip install PySocks==1.7.1\\n!pip install python-dateutil==2.8.2\\n!pip install pytz==2021.1\\n!pip install PyYAML==5.4.1\\n!pip install regex==2021.7.6\\n!pip install requests==2.26.0\\n!pip install s3transfer==0.5.0\\n!pip install sacremoses==0.0.45\\n!pip install sentencepiece==0.1.96\\n!pip install six==1.16.0\\n!pip install tokenizers==0.5.2\\n!pip install toml==0.10.2\\n!pip install torch==1.9.0\\n!pip install torchvision==0.10.0\\n!pip install tqdm==4.62.0\\n!pip install typing-extensions==3.10.0.0\\n!pip install urllib3==1.26.6\\n'"
            ],
            "application/vnd.google.colaboratory.intrinsic+json": {
              "type": "string"
            }
          },
          "metadata": {},
          "execution_count": 22
        }
      ]
    },
    {
      "cell_type": "code",
      "source": [
        "#!pip install transformers==2.5.1"
      ],
      "metadata": {
        "id": "nvLzK5tTFZm0"
      },
      "execution_count": null,
      "outputs": []
    },
    {
      "cell_type": "code",
      "source": [
        "#pip install git+https://github.com/Saadmairaj/boolean-question"
      ],
      "metadata": {
        "id": "9bae51sA4Jv2"
      },
      "execution_count": null,
      "outputs": []
    },
    {
      "cell_type": "code",
      "source": [
        "#!pip install transformers"
      ],
      "metadata": {
        "id": "8U0RnyfcTL3c"
      },
      "execution_count": null,
      "outputs": []
    },
    {
      "cell_type": "code",
      "source": [
        "#!pip install python==3.8"
      ],
      "metadata": {
        "id": "uf33k9cOQYpu"
      },
      "execution_count": null,
      "outputs": []
    },
    {
      "cell_type": "code",
      "source": [
        "\"\"\"\n",
        "import pprint\n",
        "from boolean_question import BoolQ\n",
        "answers=[]\n",
        "bq = BoolQ()\n",
        "\n",
        "for s_question in new_questions4:\n",
        "  ans = bq.predict(words_to_sentense, s_question)\n",
        "  answers.append(ans)\n",
        "print(answers)\n",
        "  #pprint.pprint(bq.prediction_details())\n",
        "\"\"\""
      ],
      "metadata": {
        "colab": {
          "base_uri": "https://localhost:8080/",
          "height": 53
        },
        "id": "A6foQYJt9dvt",
        "outputId": "68d99bb6-e937-4135-8abf-bb442d55fe40"
      },
      "execution_count": null,
      "outputs": [
        {
          "output_type": "execute_result",
          "data": {
            "text/plain": [
              "'\\nimport pprint\\nfrom boolean_question import BoolQ\\nanswers=[]\\nbq = BoolQ()\\n\\nfor s_question in new_questions4:\\n  ans = bq.predict(words_to_sentense, s_question)\\n  answers.append(ans)\\nprint(answers)\\n  #pprint.pprint(bq.prediction_details())\\n'"
            ],
            "application/vnd.google.colaboratory.intrinsic+json": {
              "type": "string"
            }
          },
          "metadata": {},
          "execution_count": 27
        }
      ]
    },
    {
      "cell_type": "code",
      "execution_count": null,
      "metadata": {
        "id": "mHBcS88j9bEd",
        "colab": {
          "base_uri": "https://localhost:8080/"
        },
        "outputId": "402fc55f-71b7-4e05-c1ef-e9a70973c834"
      },
      "outputs": [
        {
          "output_type": "stream",
          "name": "stdout",
          "text": [
            "Looking in indexes: https://pypi.org/simple, https://us-python.pkg.dev/colab-wheels/public/simple/\n",
            "Requirement already satisfied: language_tool_python in /usr/local/lib/python3.7/dist-packages (2.7.1)\n",
            "Requirement already satisfied: requests in /usr/local/lib/python3.7/dist-packages (from language_tool_python) (2.23.0)\n",
            "Requirement already satisfied: tqdm in /usr/local/lib/python3.7/dist-packages (from language_tool_python) (4.64.0)\n",
            "Requirement already satisfied: idna<3,>=2.5 in /usr/local/lib/python3.7/dist-packages (from requests->language_tool_python) (2.10)\n",
            "Requirement already satisfied: certifi>=2017.4.17 in /usr/local/lib/python3.7/dist-packages (from requests->language_tool_python) (2022.6.15)\n",
            "Requirement already satisfied: chardet<4,>=3.0.2 in /usr/local/lib/python3.7/dist-packages (from requests->language_tool_python) (3.0.4)\n",
            "Requirement already satisfied: urllib3!=1.25.0,!=1.25.1,<1.26,>=1.21.1 in /usr/local/lib/python3.7/dist-packages (from requests->language_tool_python) (1.25.11)\n"
          ]
        }
      ],
      "source": [
        "!pip install language_tool_python"
      ]
    },
    {
      "cell_type": "code",
      "execution_count": null,
      "metadata": {
        "id": "BERknw2n43lV"
      },
      "outputs": [],
      "source": [
        "questions=str(new_questions4)"
      ]
    },
    {
      "cell_type": "markdown",
      "metadata": {
        "id": "eof2GQXgGy5_"
      },
      "source": [
        "## **Grammar Correction**"
      ]
    },
    {
      "cell_type": "code",
      "execution_count": null,
      "metadata": {
        "id": "KsW3Bvg74Puv"
      },
      "outputs": [],
      "source": [
        "from nltk.internals import ReadError\n",
        "\n",
        "is_bad_rule = lambda rule: rule.message == 'Possible spelling mistake found.' and len(rule.replacements) and rule.replacements[0][0].isupper()\n",
        "import language_tool_python\n",
        "tool = language_tool_python.LanguageTool('en-US')\n",
        "#for i in new_questions:\n",
        "i=0\n",
        "#while True:\n",
        "for i in questions:\n",
        "  matches = tool.check(i)\n",
        "  matches = [rule for rule in matches if not is_bad_rule(rule)]\n",
        "  lang_tool=language_tool_python.utils.correct(questions, matches)\n",
        "  grammer_correction=[]\n",
        "  #if matches>0:\n",
        "  \n",
        "  grammer_correction.append(lang_tool)"
      ]
    },
    {
      "cell_type": "code",
      "execution_count": null,
      "metadata": {
        "id": "dqZMspIO4U9_"
      },
      "outputs": [],
      "source": [
        "special_character = [[grammer_correction[0].strip(\"'[]\")]]"
      ]
    },
    {
      "cell_type": "code",
      "execution_count": null,
      "metadata": {
        "id": "SpXfcPtV5Bs-",
        "colab": {
          "base_uri": "https://localhost:8080/"
        },
        "outputId": "dd88c829-4365-47cf-ca91-86ba8e1b15e2"
      },
      "outputs": [
        {
          "output_type": "execute_result",
          "data": {
            "text/plain": [
              "[[\"Was there a civilization in the indus valley?', 'Is there a difference between indian and pakistan?', 'Is the indus valley part of the pakistan subcontinent?', 'Is the indus valley the same as india?', 'Is the indus valley part of the pakistan region?', 'Did humans come from afar into the indus valley?', 'Was there a civilization before the indus valley?', 'Is there a difference between india and africa?', 'Is the indus valley part of the asiatic continent?', 'Are there any humans living in the indus valley?\"]]"
            ]
          },
          "metadata": {},
          "execution_count": 32
        }
      ],
      "source": [
        "special_character"
      ]
    },
    {
      "cell_type": "code",
      "execution_count": null,
      "metadata": {
        "id": "Z1u8Gubzne0L"
      },
      "outputs": [],
      "source": [
        "import re\n",
        "output = [re.split('[\\'\"], [\\'\"]', special_character[0][0])]"
      ]
    },
    {
      "cell_type": "code",
      "source": [
        "output"
      ],
      "metadata": {
        "colab": {
          "base_uri": "https://localhost:8080/"
        },
        "id": "Icle-0WYbjsl",
        "outputId": "27a70600-364c-47b0-884b-d4e6620f1ffd"
      },
      "execution_count": null,
      "outputs": [
        {
          "output_type": "execute_result",
          "data": {
            "text/plain": [
              "[['Was there a civilization in the indus valley?',\n",
              "  'Is there a difference between indian and pakistan?',\n",
              "  'Is the indus valley part of the pakistan subcontinent?',\n",
              "  'Is the indus valley the same as india?',\n",
              "  'Is the indus valley part of the pakistan region?',\n",
              "  'Did humans come from afar into the indus valley?',\n",
              "  'Was there a civilization before the indus valley?',\n",
              "  'Is there a difference between india and africa?',\n",
              "  'Is the indus valley part of the asiatic continent?',\n",
              "  'Are there any humans living in the indus valley?']]"
            ]
          },
          "metadata": {},
          "execution_count": 34
        }
      ]
    },
    {
      "cell_type": "code",
      "execution_count": null,
      "metadata": {
        "id": "RRenJw-ejdeV",
        "colab": {
          "base_uri": "https://localhost:8080/",
          "height": 36
        },
        "outputId": "a5e5f355-8270-45e6-da68-3d3afed18dc0"
      },
      "outputs": [
        {
          "output_type": "execute_result",
          "data": {
            "text/plain": [
              "'\\nimport ast\\ny=str(l).replace(\\'\"\\',\"\\'\")\\ny= ast.literal_eval(y)\\n'"
            ],
            "application/vnd.google.colaboratory.intrinsic+json": {
              "type": "string"
            }
          },
          "metadata": {},
          "execution_count": 35
        }
      ],
      "source": [
        "\"\"\"\n",
        "import ast\n",
        "y=str(l).replace('\"',\"'\")\n",
        "y= ast.literal_eval(y)\n",
        "\"\"\""
      ]
    },
    {
      "cell_type": "code",
      "execution_count": null,
      "metadata": {
        "id": "hkcHHfqI-rGx",
        "colab": {
          "base_uri": "https://localhost:8080/"
        },
        "outputId": "42c13470-23fd-4168-e528-e211db3a9596"
      },
      "outputs": [
        {
          "output_type": "execute_result",
          "data": {
            "text/plain": [
              "list"
            ]
          },
          "metadata": {},
          "execution_count": 36
        }
      ],
      "source": [
        "result = [[sentence] for sublist in output for sentence in sublist]\n",
        "type(result)\n",
        "#len(result)\n"
      ]
    },
    {
      "cell_type": "code",
      "source": [
        "result"
      ],
      "metadata": {
        "colab": {
          "base_uri": "https://localhost:8080/"
        },
        "id": "HuALwvM7bpFw",
        "outputId": "d74f81e2-79b1-409c-9e98-55471ed7f374"
      },
      "execution_count": null,
      "outputs": [
        {
          "output_type": "execute_result",
          "data": {
            "text/plain": [
              "[['Was there a civilization in the indus valley?'],\n",
              " ['Is there a difference between indian and pakistan?'],\n",
              " ['Is the indus valley part of the pakistan subcontinent?'],\n",
              " ['Is the indus valley the same as india?'],\n",
              " ['Is the indus valley part of the pakistan region?'],\n",
              " ['Did humans come from afar into the indus valley?'],\n",
              " ['Was there a civilization before the indus valley?'],\n",
              " ['Is there a difference between india and africa?'],\n",
              " ['Is the indus valley part of the asiatic continent?'],\n",
              " ['Are there any humans living in the indus valley?']]"
            ]
          },
          "metadata": {},
          "execution_count": 37
        }
      ]
    },
    {
      "cell_type": "code",
      "source": [
        "\n",
        "Ques_Ans = []\n",
        "\n",
        "for i in result:\n",
        "    Ques_Ans.append({\"question\":i[0]})\n",
        "print(Ques_Ans)\n"
      ],
      "metadata": {
        "colab": {
          "base_uri": "https://localhost:8080/"
        },
        "id": "lqDzF2I5bpRb",
        "outputId": "43ff1045-e137-4e0a-9f6a-e2b8bc77dff7"
      },
      "execution_count": null,
      "outputs": [
        {
          "output_type": "stream",
          "name": "stdout",
          "text": [
            "[{'question': 'Was there a civilization in the indus valley?'}, {'question': 'Is there a difference between indian and pakistan?'}, {'question': 'Is the indus valley part of the pakistan subcontinent?'}, {'question': 'Is the indus valley the same as india?'}, {'question': 'Is the indus valley part of the pakistan region?'}, {'question': 'Did humans come from afar into the indus valley?'}, {'question': 'Was there a civilization before the indus valley?'}, {'question': 'Is there a difference between india and africa?'}, {'question': 'Is the indus valley part of the asiatic continent?'}, {'question': 'Are there any humans living in the indus valley?'}]\n"
          ]
        }
      ]
    },
    {
      "cell_type": "code",
      "source": [
        "\"\"\"\n",
        "L2=[]\n",
        "c=[x for z in zip(new_questions4, answers) for x in z]\n",
        "#print(type(c))\n",
        "for i in range(0, len(c), 2):\n",
        " L2.append((c[i], c[i+1]))\n",
        "print(L2)\n",
        "Ques_Ans = []\n",
        "print(c)\n",
        "for i in L2:\n",
        "    Ques_Ans.append({'question': i[0],'answer': i[1]})\n",
        "print(Ques_Ans)\n",
        "\"\"\""
      ],
      "metadata": {
        "id": "fy3BRwd4QxP2",
        "colab": {
          "base_uri": "https://localhost:8080/",
          "height": 53
        },
        "outputId": "2f8fd2f8-32b7-4c3a-c7ea-0b20e76bbb96"
      },
      "execution_count": null,
      "outputs": [
        {
          "output_type": "execute_result",
          "data": {
            "text/plain": [
              "\"\\nL2=[]\\nc=[x for z in zip(new_questions4, answers) for x in z]\\n#print(type(c))\\nfor i in range(0, len(c), 2):\\n L2.append((c[i], c[i+1]))\\nprint(L2)\\nQues_Ans = []\\nprint(c)\\nfor i in L2:\\n    Ques_Ans.append({'question': i[0],'answer': i[1]})\\nprint(Ques_Ans)\\n\""
            ],
            "application/vnd.google.colaboratory.intrinsic+json": {
              "type": "string"
            }
          },
          "metadata": {},
          "execution_count": 39
        }
      ]
    },
    {
      "cell_type": "code",
      "execution_count": null,
      "metadata": {
        "id": "y5SFWOUeRkyp",
        "colab": {
          "base_uri": "https://localhost:8080/"
        },
        "outputId": "111c91b2-6780-4814-c0fb-26c8acdc9b08"
      },
      "outputs": [
        {
          "output_type": "execute_result",
          "data": {
            "text/plain": [
              "10"
            ]
          },
          "metadata": {},
          "execution_count": 40
        }
      ],
      "source": [
        "len(Ques_Ans)"
      ]
    },
    {
      "cell_type": "markdown",
      "metadata": {
        "id": "CxBDEh-PG6yk"
      },
      "source": [
        "## **Final Output , User Validation & Post Generated Questions**"
      ]
    },
    {
      "cell_type": "code",
      "execution_count": null,
      "metadata": {
        "id": "YaA_LlT-3mF4",
        "colab": {
          "base_uri": "https://localhost:8080/"
        },
        "outputId": "40dfc1c2-5c4c-441c-c46d-2b91a4d73d28"
      },
      "outputs": [
        {
          "output_type": "stream",
          "name": "stdout",
          "text": [
            "5\n",
            "5\n"
          ]
        }
      ],
      "source": [
        "if generate_ques > len(Ques_Ans) or generate_ques == 0: #number_of_question\n",
        "  print(\"please give value between 1 to {}\".format(len(questions_arr)))\n",
        "else:\n",
        "  import random\n",
        "  other_questions =[]\n",
        "  display_question = random.sample(Ques_Ans, k=generate_ques) #number_of_question\n",
        "  for item in Ques_Ans:\n",
        "    if item not in display_question:\n",
        "        other_questions.append(item)\n",
        "  import json\n",
        "  import requests\n",
        "  url=\"https://generate-questions.devbyopeneyes.com/api/GenerateQuestions\" \n",
        "  headers = {'Content-Type':'application/json','Accept':'application/json'}\n",
        "  myobjs ={\"id\" : _id,\n",
        "         \"questions\" : display_question,\n",
        "         \"other_questions\" : other_questions\n",
        "    }\n",
        "  yo = requests.post(url,headers=headers,data=json.dumps(myobjs))\n",
        "  print(len(display_question))\n",
        "  display_question\n",
        "  print(len(other_questions))\n",
        "  other_questions.clear()"
      ]
    },
    {
      "cell_type": "code",
      "source": [
        ""
      ],
      "metadata": {
        "id": "B_sKc3A_cMMU"
      },
      "execution_count": null,
      "outputs": []
    }
  ],
  "metadata": {
    "colab": {
      "collapsed_sections": [],
      "name": "boolean_ques 16-08.ipynb",
      "provenance": []
    },
    "kernelspec": {
      "display_name": "Python 3",
      "language": "python",
      "name": "python3"
    },
    "language_info": {
      "codemirror_mode": {
        "name": "ipython",
        "version": 3
      },
      "file_extension": ".py",
      "mimetype": "text/x-python",
      "name": "python",
      "nbconvert_exporter": "python",
      "pygments_lexer": "ipython3",
      "version": "3.8.5"
    }
  },
  "nbformat": 4,
  "nbformat_minor": 0
}