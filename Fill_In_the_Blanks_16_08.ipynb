{
  "cells": [
    {
      "cell_type": "code",
      "execution_count": null,
      "metadata": {
        "id": "G8c_Rgcfb_7a"
      },
      "outputs": [],
      "source": [
        "#https://github.com/sudheernaidu53/Machine-learning-Deep-learning-projects"
      ]
    },
    {
      "cell_type": "markdown",
      "metadata": {
        "id": "VARInkfNEWfq"
      },
      "source": [
        "## **Import Libraries**"
      ]
    },
    {
      "cell_type": "code",
      "execution_count": null,
      "metadata": {
        "id": "7pZ7jDIkauhx"
      },
      "outputs": [],
      "source": [
        "from nltk import pos_tag, word_tokenize, sent_tokenize\n",
        "import re\n",
        "import random"
      ]
    },
    {
      "cell_type": "code",
      "execution_count": null,
      "metadata": {
        "id": "Y38xxZe_avoF"
      },
      "outputs": [],
      "source": [
        "from collections import defaultdict"
      ]
    },
    {
      "cell_type": "code",
      "execution_count": null,
      "metadata": {
        "colab": {
          "base_uri": "https://localhost:8080/"
        },
        "id": "lrK2ZUn8bNvm",
        "outputId": "1da02067-7540-496e-c828-88318b1c925d"
      },
      "outputs": [
        {
          "output_type": "stream",
          "name": "stderr",
          "text": [
            "[nltk_data] Downloading package punkt to /root/nltk_data...\n",
            "[nltk_data]   Unzipping tokenizers/punkt.zip.\n"
          ]
        },
        {
          "output_type": "execute_result",
          "data": {
            "text/plain": [
              "True"
            ]
          },
          "metadata": {},
          "execution_count": 4
        }
      ],
      "source": [
        "import nltk\n",
        "nltk.download('punkt')"
      ]
    },
    {
      "cell_type": "code",
      "execution_count": null,
      "metadata": {
        "colab": {
          "base_uri": "https://localhost:8080/"
        },
        "id": "ZfX6CNPLbZT8",
        "outputId": "3dd4f33a-cacc-4823-a4f2-9996c84b61fa"
      },
      "outputs": [
        {
          "output_type": "stream",
          "name": "stderr",
          "text": [
            "[nltk_data] Downloading package averaged_perceptron_tagger to\n",
            "[nltk_data]     /root/nltk_data...\n",
            "[nltk_data]   Unzipping taggers/averaged_perceptron_tagger.zip.\n"
          ]
        },
        {
          "output_type": "execute_result",
          "data": {
            "text/plain": [
              "True"
            ]
          },
          "metadata": {},
          "execution_count": 5
        }
      ],
      "source": [
        "nltk.download('averaged_perceptron_tagger')"
      ]
    },
    {
      "cell_type": "markdown",
      "metadata": {
        "id": "Y8nZjh6s2iiU"
      },
      "source": [
        "## **Import File API**"
      ]
    },
    {
      "cell_type": "code",
      "execution_count": null,
      "metadata": {
        "id": "eCnjdOJK4nGw"
      },
      "outputs": [],
      "source": [
        "from requests.api import request\n",
        "import json\n",
        "import requests\n",
        "request=requests.get(\"https://generate-questions.devbyopeneyes.com/api/getFileData/62fb70f01cfe9a0b6209fec2\")\n",
        "resp= request.json()\n",
        "file_path=(resp[\"data\"][\"file_path\"])\n",
        "_id=(resp[\"data\"][\"_id\"])\n",
        "number_of_question=(resp[\"data\"][\"number_of_question\"])\n",
        "file_type=(resp[\"data\"][\"file_type\"])"
      ]
    },
    {
      "cell_type": "code",
      "source": [
        "!pip install PyPDF2"
      ],
      "metadata": {
        "id": "Y85S-77nqZbC",
        "colab": {
          "base_uri": "https://localhost:8080/"
        },
        "outputId": "553b8212-9aaf-4c82-a5fc-ce0ab9e9014c"
      },
      "execution_count": null,
      "outputs": [
        {
          "output_type": "stream",
          "name": "stdout",
          "text": [
            "Looking in indexes: https://pypi.org/simple, https://us-python.pkg.dev/colab-wheels/public/simple/\n",
            "Collecting PyPDF2\n",
            "  Downloading PyPDF2-2.10.2-py3-none-any.whl (214 kB)\n",
            "\u001b[K     |████████████████████████████████| 214 kB 18.3 MB/s \n",
            "\u001b[?25hRequirement already satisfied: typing-extensions in /usr/local/lib/python3.7/dist-packages (from PyPDF2) (4.1.1)\n",
            "Installing collected packages: PyPDF2\n",
            "Successfully installed PyPDF2-2.10.2\n"
          ]
        }
      ]
    },
    {
      "cell_type": "code",
      "source": [
        "if file_type==\"txt\":\n",
        "  import urllib.request\n",
        "  response = urllib.request.urlopen(file_path)\n",
        "  html = response.read()\n",
        "  text=html.decode('utf8')\n",
        "  print(text)\n",
        "elif file_type==\"pdf\":\n",
        "  import requests, PyPDF2\n",
        "\n",
        "  url = file_path\n",
        "  response = requests.get(url)\n",
        "  my_raw_data = response.content\n",
        "\n",
        "  with open(\"my_pdf.pdf\", 'wb') as my_data:\n",
        "      my_data.write(my_raw_data)\n",
        "\n",
        "  open_pdf_file = open(\"my_pdf.pdf\", 'rb')\n",
        "  read_pdf = PyPDF2.PdfFileReader(open_pdf_file)\n",
        "  if read_pdf.isEncrypted:\n",
        "      read_pdf.decrypt(\"\")\n",
        "      print(read_pdf.getPage(0).extractText())\n",
        "\n",
        "  else:\n",
        "      print(read_pdf.getPage(0).extractText())\n",
        "elif file_type==\"docx\":\n",
        "  None\n",
        "elif file_type==\"doc\":\n",
        "  None\n",
        "else:\n",
        "  print(\"Invalid File Type\")\n"
      ],
      "metadata": {
        "id": "oISvQmkCqdK5",
        "colab": {
          "base_uri": "https://localhost:8080/"
        },
        "outputId": "3e33989a-2062-4240-9291-468b38369f18"
      },
      "execution_count": null,
      "outputs": [
        {
          "output_type": "stream",
          "name": "stdout",
          "text": [
            "According to consensus in modern genetics, anatomically modern humans first arrived on the Indian subcontinent from Africa between 73,000 and 55,000 years ago.[1] However, the earliest known human remains in South Asia date to 30,000 years ago. Settled life, which involves the transition from foraging to farming and pastoralism, began in South Asia around 7,000 BCE. At the site of Mehrgarh presence can be documented of the domestication of wheat and barley, rapidly followed by that of goats, sheep, and cattle.[2] By 4,500 BCE, settled life had spread more widely,[2] and began to gradually evolve into the Indus Valley Civilization, an early civilization of the Old world, which was contemporaneous with Ancient Egypt and Mesopotamia. This civilisation flourished between 2,500 BCE and 1900 BCE in what today is Pakistan and north-western India, and was noted for its urban planning, baked brick houses, elaborate drainage, and water supply.[3]\r\n",
            "\r\n",
            "Early on in the second millennium BCE, persistent drought caused the population of the Indus Valley to scatter from large urban centres to villages. Around the same time, Indo-Aryan tribes moved into the Punjab from Central Asia in several waves of migration. Their Vedic Period (1500-500 BCE) was marked by the composition of the Vedas, large collections of hymns of these tribes. Their varna system, which evolved into the caste system, consisted of a hierarchy of priests, warriors, and free peasants. The pastoral and nomadic Indo-Aryans spread from the Punjab into the Gangetic plain, large swaths of which they deforested for agriculture usage. The composition of Vedic texts ended around 600 BCE, when a new, interregional culture arose. Small chieftaincies, or janapadas, were consolidated into larger states, or mahajanapadas, and a second urbanisation took place. This urbanisation was accompanied by the rise of new ascetic movements in Greater Magadha, including Jainism and Buddhism, which opposed the growing influence of Brahmanism and the primacy of rituals, presided by Brahmin priests, that had come to be associated with Vedic religion,[4] and gave rise to new religious concepts.[5] In response to the success of these movements, Vedic Brahmanism was synthesised with the preexisting religious cultures of the subcontinent, giving rise to Hinduism.\r\n",
            "\r\n",
            "\r\n",
            "Indian Cultural Influence (Greater India)\r\n",
            "Most of the Indian subcontinent was conquered by the Maurya Empire during the 4th and 3rd centuries BCE. From the 3rd century BCE onwards Prakrit and Pali literature in the north and the Tamil Sangam literature in southern India started to flourish.[6][7] Wootz steel originated in south India in the 3rd century BCE and was exported to foreign countries.[8][9][10] During the Classical period, various parts of India were ruled by numerous dynasties for the next 1,500 years, among which the Gupta Empire stands out. This period, witnessing a Hindu religious and intellectual resurgence, is known as the classical or \"Golden Age of India\". During this period, aspects of Indian civilisation, administration, culture, and religion (Hinduism and Buddhism) spread to much of Asia, while kingdoms in southern India had maritime business links with the Middle East and the Mediterranean. Indian cultural influence spread over many parts of Southeast Asia, which led to the establishment of Indianised kingdoms in Southeast Asia (Greater India).[11][12]\n"
          ]
        }
      ]
    },
    {
      "cell_type": "code",
      "execution_count": null,
      "metadata": {
        "colab": {
          "base_uri": "https://localhost:8080/",
          "height": 36
        },
        "id": "pVFZ1gUKbrzW",
        "outputId": "0aba3b24-17e1-4cc5-abac-315b7691b8a3"
      },
      "outputs": [
        {
          "output_type": "execute_result",
          "data": {
            "text/plain": [
              "\"\\nimport urllib.request\\nresponse = urllib.request.urlopen(file_path)\\nhtml = response.read()\\ntext=html.decode('utf8')\\nprint(text)\\n\""
            ],
            "application/vnd.google.colaboratory.intrinsic+json": {
              "type": "string"
            }
          },
          "metadata": {},
          "execution_count": 9
        }
      ],
      "source": [
        "\"\"\"\n",
        "import urllib.request\n",
        "response = urllib.request.urlopen(file_path)\n",
        "html = response.read()\n",
        "text=html.decode('utf8')\n",
        "print(text)\n",
        "\"\"\""
      ]
    },
    {
      "cell_type": "markdown",
      "metadata": {
        "id": "EWS49jTfEn14"
      },
      "source": [
        "# **Import File Locally**"
      ]
    },
    {
      "cell_type": "code",
      "execution_count": null,
      "metadata": {
        "colab": {
          "base_uri": "https://localhost:8080/",
          "height": 36
        },
        "id": "0bXORLTDa7PG",
        "outputId": "5747e7b1-f155-47fb-dce4-792652fec723"
      },
      "outputs": [
        {
          "output_type": "execute_result",
          "data": {
            "text/plain": [
              "\"\\nfilename = 'HRCI.txt'\\nfile = open(filename, 'rt')\\ntext = file.read()\\nprint(text)\\n\""
            ],
            "application/vnd.google.colaboratory.intrinsic+json": {
              "type": "string"
            }
          },
          "metadata": {},
          "execution_count": 10
        }
      ],
      "source": [
        "\"\"\"\n",
        "filename = 'HRCI.txt'\n",
        "file = open(filename, 'rt')\n",
        "text = file.read()\n",
        "print(text)\n",
        "\"\"\""
      ]
    },
    {
      "cell_type": "markdown",
      "metadata": {
        "id": "sjmJsJXVE3Mo"
      },
      "source": [
        "## **Data Cleaning And Data Preprossing**"
      ]
    },
    {
      "cell_type": "code",
      "execution_count": null,
      "metadata": {
        "colab": {
          "base_uri": "https://localhost:8080/"
        },
        "id": "Z-9SJtgVdzGD",
        "outputId": "b6c4bd3e-af8c-4876-df69-d45b99603067"
      },
      "outputs": [
        {
          "output_type": "stream",
          "name": "stderr",
          "text": [
            "[nltk_data] Downloading package stopwords to /root/nltk_data...\n",
            "[nltk_data]   Unzipping corpora/stopwords.zip.\n",
            "[nltk_data] Downloading package punkt to /root/nltk_data...\n",
            "[nltk_data]   Package punkt is already up-to-date!\n"
          ]
        },
        {
          "output_type": "execute_result",
          "data": {
            "text/plain": [
              "True"
            ]
          },
          "metadata": {},
          "execution_count": 11
        }
      ],
      "source": [
        "import nltk\n",
        "nltk.download('stopwords')\n",
        "nltk.download('punkt')"
      ]
    },
    {
      "cell_type": "markdown",
      "metadata": {
        "id": "Gqd4hyZ5FP9U"
      },
      "source": [
        "**Split Text Into Sentences**"
      ]
    },
    {
      "cell_type": "code",
      "execution_count": null,
      "metadata": {
        "colab": {
          "base_uri": "https://localhost:8080/"
        },
        "id": "OYdBGfAwd8N1",
        "outputId": "5470022f-eafa-444b-ae3f-99a080e9c7d3"
      },
      "outputs": [
        {
          "output_type": "stream",
          "name": "stdout",
          "text": [
            "['According to consensus in modern genetics, anatomically modern humans first arrived on the Indian subcontinent from Africa between 73,000 and 55,000 years ago.', '[1] However, the earliest known human remains in South Asia date to 30,000 years ago.', 'Settled life, which involves the transition from foraging to farming and pastoralism, began in South Asia around 7,000 BCE.', 'At the site of Mehrgarh presence can be documented of the domestication of wheat and barley, rapidly followed by that of goats, sheep, and cattle.', '[2] By 4,500 BCE, settled life had spread more widely,[2] and began to gradually evolve into the Indus Valley Civilization, an early civilization of the Old world, which was contemporaneous with Ancient Egypt and Mesopotamia.', 'This civilisation flourished between 2,500 BCE and 1900 BCE in what today is Pakistan and north-western India, and was noted for its urban planning, baked brick houses, elaborate drainage, and water supply.', '[3]\\r\\n\\r\\nEarly on in the second millennium BCE, persistent drought caused the population of the Indus Valley to scatter from large urban centres to villages.', 'Around the same time, Indo-Aryan tribes moved into the Punjab from Central Asia in several waves of migration.', 'Their Vedic Period (1500-500 BCE) was marked by the composition of the Vedas, large collections of hymns of these tribes.', 'Their varna system, which evolved into the caste system, consisted of a hierarchy of priests, warriors, and free peasants.', 'The pastoral and nomadic Indo-Aryans spread from the Punjab into the Gangetic plain, large swaths of which they deforested for agriculture usage.', 'The composition of Vedic texts ended around 600 BCE, when a new, interregional culture arose.', 'Small chieftaincies, or janapadas, were consolidated into larger states, or mahajanapadas, and a second urbanisation took place.', 'This urbanisation was accompanied by the rise of new ascetic movements in Greater Magadha, including Jainism and Buddhism, which opposed the growing influence of Brahmanism and the primacy of rituals, presided by Brahmin priests, that had come to be associated with Vedic religion,[4] and gave rise to new religious concepts.', '[5] In response to the success of these movements, Vedic Brahmanism was synthesised with the preexisting religious cultures of the subcontinent, giving rise to Hinduism.', 'Indian Cultural Influence (Greater India)\\r\\nMost of the Indian subcontinent was conquered by the Maurya Empire during the 4th and 3rd centuries BCE.', 'From the 3rd century BCE onwards Prakrit and Pali literature in the north and the Tamil Sangam literature in southern India started to flourish.', '[6][7] Wootz steel originated in south India in the 3rd century BCE and was exported to foreign countries.', '[8][9][10] During the Classical period, various parts of India were ruled by numerous dynasties for the next 1,500 years, among which the Gupta Empire stands out.', 'This period, witnessing a Hindu religious and intellectual resurgence, is known as the classical or \"Golden Age of India\".', 'During this period, aspects of Indian civilisation, administration, culture, and religion (Hinduism and Buddhism) spread to much of Asia, while kingdoms in southern India had maritime business links with the Middle East and the Mediterranean.', 'Indian cultural influence spread over many parts of Southeast Asia, which led to the establishment of Indianised kingdoms in Southeast Asia (Greater India).', '[11][12]']\n"
          ]
        },
        {
          "output_type": "execute_result",
          "data": {
            "text/plain": [
              "23"
            ]
          },
          "metadata": {},
          "execution_count": 12
        }
      ],
      "source": [
        "import numpy as np\n",
        "from nltk import sent_tokenize\n",
        "sentences = sent_tokenize(text)\n",
        "print(sentences)\n",
        "text_to_sentence= np.array(sentences)\n",
        "len(text_to_sentence)"
      ]
    },
    {
      "cell_type": "markdown",
      "metadata": {
        "id": "SWJeSjuWFWNH"
      },
      "source": [
        "**Split Sentences Into Words**"
      ]
    },
    {
      "cell_type": "code",
      "execution_count": null,
      "metadata": {
        "colab": {
          "base_uri": "https://localhost:8080/"
        },
        "id": "LOS99Zs7d-gL",
        "outputId": "10f8251c-f801-4a13-ac5b-2837abdd662f"
      },
      "outputs": [
        {
          "output_type": "execute_result",
          "data": {
            "text/plain": [
              "['According',\n",
              " 'to',\n",
              " 'consensus',\n",
              " 'in',\n",
              " 'modern',\n",
              " 'genetics,',\n",
              " 'anatomically',\n",
              " 'modern',\n",
              " 'humans',\n",
              " 'first',\n",
              " 'arrived',\n",
              " 'on',\n",
              " 'the',\n",
              " 'Indian',\n",
              " 'subcontinent',\n",
              " 'from',\n",
              " 'Africa',\n",
              " 'between',\n",
              " '73,000',\n",
              " 'and',\n",
              " '55,000',\n",
              " 'years',\n",
              " 'ago.',\n",
              " '[1]',\n",
              " 'However,',\n",
              " 'the',\n",
              " 'earliest',\n",
              " 'known',\n",
              " 'human',\n",
              " 'remains',\n",
              " 'in',\n",
              " 'South',\n",
              " 'Asia',\n",
              " 'date',\n",
              " 'to',\n",
              " '30,000',\n",
              " 'years',\n",
              " 'ago.',\n",
              " 'Settled',\n",
              " 'life,',\n",
              " 'which',\n",
              " 'involves',\n",
              " 'the',\n",
              " 'transition',\n",
              " 'from',\n",
              " 'foraging',\n",
              " 'to',\n",
              " 'farming',\n",
              " 'and',\n",
              " 'pastoralism,',\n",
              " 'began',\n",
              " 'in',\n",
              " 'South',\n",
              " 'Asia',\n",
              " 'around',\n",
              " '7,000',\n",
              " 'BCE.',\n",
              " 'At',\n",
              " 'the',\n",
              " 'site',\n",
              " 'of',\n",
              " 'Mehrgarh',\n",
              " 'presence',\n",
              " 'can',\n",
              " 'be',\n",
              " 'documented',\n",
              " 'of',\n",
              " 'the',\n",
              " 'domestication',\n",
              " 'of',\n",
              " 'wheat',\n",
              " 'and',\n",
              " 'barley,',\n",
              " 'rapidly',\n",
              " 'followed',\n",
              " 'by',\n",
              " 'that',\n",
              " 'of',\n",
              " 'goats,',\n",
              " 'sheep,',\n",
              " 'and',\n",
              " 'cattle.',\n",
              " '[2]',\n",
              " 'By',\n",
              " '4,500',\n",
              " 'BCE,',\n",
              " 'settled',\n",
              " 'life',\n",
              " 'had',\n",
              " 'spread',\n",
              " 'more',\n",
              " 'widely,[2]',\n",
              " 'and',\n",
              " 'began',\n",
              " 'to',\n",
              " 'gradually',\n",
              " 'evolve',\n",
              " 'into',\n",
              " 'the',\n",
              " 'Indus',\n",
              " 'Valley',\n",
              " 'Civilization,',\n",
              " 'an',\n",
              " 'early',\n",
              " 'civilization',\n",
              " 'of',\n",
              " 'the',\n",
              " 'Old',\n",
              " 'world,',\n",
              " 'which',\n",
              " 'was',\n",
              " 'contemporaneous',\n",
              " 'with',\n",
              " 'Ancient',\n",
              " 'Egypt',\n",
              " 'and',\n",
              " 'Mesopotamia.',\n",
              " 'This',\n",
              " 'civilisation',\n",
              " 'flourished',\n",
              " 'between',\n",
              " '2,500',\n",
              " 'BCE',\n",
              " 'and',\n",
              " '1900',\n",
              " 'BCE',\n",
              " 'in',\n",
              " 'what',\n",
              " 'today',\n",
              " 'is',\n",
              " 'Pakistan',\n",
              " 'and',\n",
              " 'north-western',\n",
              " 'India,',\n",
              " 'and',\n",
              " 'was',\n",
              " 'noted',\n",
              " 'for',\n",
              " 'its',\n",
              " 'urban',\n",
              " 'planning,',\n",
              " 'baked',\n",
              " 'brick',\n",
              " 'houses,',\n",
              " 'elaborate',\n",
              " 'drainage,',\n",
              " 'and',\n",
              " 'water',\n",
              " 'supply.',\n",
              " '[3]',\n",
              " 'Early',\n",
              " 'on',\n",
              " 'in',\n",
              " 'the',\n",
              " 'second',\n",
              " 'millennium',\n",
              " 'BCE,',\n",
              " 'persistent',\n",
              " 'drought',\n",
              " 'caused',\n",
              " 'the',\n",
              " 'population',\n",
              " 'of',\n",
              " 'the',\n",
              " 'Indus',\n",
              " 'Valley',\n",
              " 'to',\n",
              " 'scatter',\n",
              " 'from',\n",
              " 'large',\n",
              " 'urban',\n",
              " 'centres',\n",
              " 'to',\n",
              " 'villages.',\n",
              " 'Around',\n",
              " 'the',\n",
              " 'same',\n",
              " 'time,',\n",
              " 'Indo-Aryan',\n",
              " 'tribes',\n",
              " 'moved',\n",
              " 'into',\n",
              " 'the',\n",
              " 'Punjab',\n",
              " 'from',\n",
              " 'Central',\n",
              " 'Asia',\n",
              " 'in',\n",
              " 'several',\n",
              " 'waves',\n",
              " 'of',\n",
              " 'migration.',\n",
              " 'Their',\n",
              " 'Vedic',\n",
              " 'Period',\n",
              " '(1500-500',\n",
              " 'BCE)',\n",
              " 'was',\n",
              " 'marked',\n",
              " 'by',\n",
              " 'the',\n",
              " 'composition',\n",
              " 'of',\n",
              " 'the',\n",
              " 'Vedas,',\n",
              " 'large',\n",
              " 'collections',\n",
              " 'of',\n",
              " 'hymns',\n",
              " 'of',\n",
              " 'these',\n",
              " 'tribes.',\n",
              " 'Their',\n",
              " 'varna',\n",
              " 'system,',\n",
              " 'which',\n",
              " 'evolved',\n",
              " 'into',\n",
              " 'the',\n",
              " 'caste',\n",
              " 'system,',\n",
              " 'consisted',\n",
              " 'of',\n",
              " 'a',\n",
              " 'hierarchy',\n",
              " 'of',\n",
              " 'priests,',\n",
              " 'warriors,',\n",
              " 'and',\n",
              " 'free',\n",
              " 'peasants.',\n",
              " 'The',\n",
              " 'pastoral',\n",
              " 'and',\n",
              " 'nomadic',\n",
              " 'Indo-Aryans',\n",
              " 'spread',\n",
              " 'from',\n",
              " 'the',\n",
              " 'Punjab',\n",
              " 'into',\n",
              " 'the',\n",
              " 'Gangetic',\n",
              " 'plain,',\n",
              " 'large',\n",
              " 'swaths',\n",
              " 'of',\n",
              " 'which',\n",
              " 'they',\n",
              " 'deforested',\n",
              " 'for',\n",
              " 'agriculture',\n",
              " 'usage.',\n",
              " 'The',\n",
              " 'composition',\n",
              " 'of',\n",
              " 'Vedic',\n",
              " 'texts',\n",
              " 'ended',\n",
              " 'around',\n",
              " '600',\n",
              " 'BCE,',\n",
              " 'when',\n",
              " 'a',\n",
              " 'new,',\n",
              " 'interregional',\n",
              " 'culture',\n",
              " 'arose.',\n",
              " 'Small',\n",
              " 'chieftaincies,',\n",
              " 'or',\n",
              " 'janapadas,',\n",
              " 'were',\n",
              " 'consolidated',\n",
              " 'into',\n",
              " 'larger',\n",
              " 'states,',\n",
              " 'or',\n",
              " 'mahajanapadas,',\n",
              " 'and',\n",
              " 'a',\n",
              " 'second',\n",
              " 'urbanisation',\n",
              " 'took',\n",
              " 'place.',\n",
              " 'This',\n",
              " 'urbanisation',\n",
              " 'was',\n",
              " 'accompanied',\n",
              " 'by',\n",
              " 'the',\n",
              " 'rise',\n",
              " 'of',\n",
              " 'new',\n",
              " 'ascetic',\n",
              " 'movements',\n",
              " 'in',\n",
              " 'Greater',\n",
              " 'Magadha,',\n",
              " 'including',\n",
              " 'Jainism',\n",
              " 'and',\n",
              " 'Buddhism,',\n",
              " 'which',\n",
              " 'opposed',\n",
              " 'the',\n",
              " 'growing',\n",
              " 'influence',\n",
              " 'of',\n",
              " 'Brahmanism',\n",
              " 'and',\n",
              " 'the',\n",
              " 'primacy',\n",
              " 'of',\n",
              " 'rituals,',\n",
              " 'presided',\n",
              " 'by',\n",
              " 'Brahmin',\n",
              " 'priests,',\n",
              " 'that',\n",
              " 'had',\n",
              " 'come',\n",
              " 'to',\n",
              " 'be',\n",
              " 'associated',\n",
              " 'with',\n",
              " 'Vedic',\n",
              " 'religion,[4]',\n",
              " 'and',\n",
              " 'gave',\n",
              " 'rise',\n",
              " 'to',\n",
              " 'new',\n",
              " 'religious',\n",
              " 'concepts.',\n",
              " '[5]',\n",
              " 'In',\n",
              " 'response',\n",
              " 'to',\n",
              " 'the',\n",
              " 'success',\n",
              " 'of',\n",
              " 'these',\n",
              " 'movements,',\n",
              " 'Vedic',\n",
              " 'Brahmanism',\n",
              " 'was',\n",
              " 'synthesised',\n",
              " 'with',\n",
              " 'the',\n",
              " 'preexisting',\n",
              " 'religious',\n",
              " 'cultures',\n",
              " 'of',\n",
              " 'the',\n",
              " 'subcontinent,',\n",
              " 'giving',\n",
              " 'rise',\n",
              " 'to',\n",
              " 'Hinduism.',\n",
              " 'Indian',\n",
              " 'Cultural',\n",
              " 'Influence',\n",
              " '(Greater',\n",
              " 'India)',\n",
              " 'Most',\n",
              " 'of',\n",
              " 'the',\n",
              " 'Indian',\n",
              " 'subcontinent',\n",
              " 'was',\n",
              " 'conquered',\n",
              " 'by',\n",
              " 'the',\n",
              " 'Maurya',\n",
              " 'Empire',\n",
              " 'during',\n",
              " 'the',\n",
              " '4th',\n",
              " 'and',\n",
              " '3rd',\n",
              " 'centuries',\n",
              " 'BCE.',\n",
              " 'From',\n",
              " 'the',\n",
              " '3rd',\n",
              " 'century',\n",
              " 'BCE',\n",
              " 'onwards',\n",
              " 'Prakrit',\n",
              " 'and',\n",
              " 'Pali',\n",
              " 'literature',\n",
              " 'in',\n",
              " 'the',\n",
              " 'north',\n",
              " 'and',\n",
              " 'the',\n",
              " 'Tamil',\n",
              " 'Sangam',\n",
              " 'literature',\n",
              " 'in',\n",
              " 'southern',\n",
              " 'India',\n",
              " 'started',\n",
              " 'to',\n",
              " 'flourish.',\n",
              " '[6][7]',\n",
              " 'Wootz',\n",
              " 'steel',\n",
              " 'originated',\n",
              " 'in',\n",
              " 'south',\n",
              " 'India',\n",
              " 'in',\n",
              " 'the',\n",
              " '3rd',\n",
              " 'century',\n",
              " 'BCE',\n",
              " 'and',\n",
              " 'was',\n",
              " 'exported',\n",
              " 'to',\n",
              " 'foreign',\n",
              " 'countries.',\n",
              " '[8][9][10]',\n",
              " 'During',\n",
              " 'the',\n",
              " 'Classical',\n",
              " 'period,',\n",
              " 'various',\n",
              " 'parts',\n",
              " 'of',\n",
              " 'India',\n",
              " 'were',\n",
              " 'ruled',\n",
              " 'by',\n",
              " 'numerous',\n",
              " 'dynasties',\n",
              " 'for',\n",
              " 'the',\n",
              " 'next',\n",
              " '1,500',\n",
              " 'years,',\n",
              " 'among',\n",
              " 'which',\n",
              " 'the',\n",
              " 'Gupta',\n",
              " 'Empire',\n",
              " 'stands',\n",
              " 'out.',\n",
              " 'This',\n",
              " 'period,',\n",
              " 'witnessing',\n",
              " 'a',\n",
              " 'Hindu',\n",
              " 'religious',\n",
              " 'and',\n",
              " 'intellectual',\n",
              " 'resurgence,',\n",
              " 'is',\n",
              " 'known',\n",
              " 'as',\n",
              " 'the',\n",
              " 'classical',\n",
              " 'or',\n",
              " '\"Golden',\n",
              " 'Age',\n",
              " 'of',\n",
              " 'India\".',\n",
              " 'During',\n",
              " 'this',\n",
              " 'period,',\n",
              " 'aspects',\n",
              " 'of',\n",
              " 'Indian',\n",
              " 'civilisation,',\n",
              " 'administration,',\n",
              " 'culture,',\n",
              " 'and',\n",
              " 'religion',\n",
              " '(Hinduism',\n",
              " 'and',\n",
              " 'Buddhism)',\n",
              " 'spread',\n",
              " 'to',\n",
              " 'much',\n",
              " 'of',\n",
              " 'Asia,',\n",
              " 'while',\n",
              " 'kingdoms',\n",
              " 'in',\n",
              " 'southern',\n",
              " 'India',\n",
              " 'had',\n",
              " 'maritime',\n",
              " 'business',\n",
              " 'links',\n",
              " 'with',\n",
              " 'the',\n",
              " 'Middle',\n",
              " 'East',\n",
              " 'and',\n",
              " 'the',\n",
              " 'Mediterranean.',\n",
              " 'Indian',\n",
              " 'cultural',\n",
              " 'influence',\n",
              " 'spread',\n",
              " 'over',\n",
              " 'many',\n",
              " 'parts',\n",
              " 'of',\n",
              " 'Southeast',\n",
              " 'Asia,',\n",
              " 'which',\n",
              " 'led',\n",
              " 'to',\n",
              " 'the',\n",
              " 'establishment',\n",
              " 'of',\n",
              " 'Indianised',\n",
              " 'kingdoms',\n",
              " 'in',\n",
              " 'Southeast',\n",
              " 'Asia',\n",
              " '(Greater',\n",
              " 'India).',\n",
              " '[11][12]']"
            ]
          },
          "metadata": {},
          "execution_count": 13
        }
      ],
      "source": [
        "sentence_to_words=[]\n",
        "for i in text_to_sentence[0:]:\n",
        "    sentence_to_words.extend(i.split()) \n",
        "sentence_to_words"
      ]
    },
    {
      "cell_type": "code",
      "execution_count": null,
      "metadata": {
        "colab": {
          "base_uri": "https://localhost:8080/"
        },
        "id": "XxHakhVieA5J",
        "outputId": "a45fb236-8202-4395-9b25-5cd778b3e875"
      },
      "outputs": [
        {
          "output_type": "execute_result",
          "data": {
            "text/plain": [
              "['According',\n",
              " 'to',\n",
              " 'consensus',\n",
              " 'in',\n",
              " 'modern',\n",
              " 'genetics,',\n",
              " 'anatomically',\n",
              " 'modern',\n",
              " 'humans',\n",
              " 'first',\n",
              " 'arrived',\n",
              " 'on',\n",
              " 'the',\n",
              " 'Indian',\n",
              " 'subcontinent',\n",
              " 'from',\n",
              " 'Africa',\n",
              " 'between',\n",
              " '73,000',\n",
              " 'and',\n",
              " '55,000',\n",
              " 'years',\n",
              " 'ago.',\n",
              " 'However,',\n",
              " 'the',\n",
              " 'earliest',\n",
              " 'known',\n",
              " 'human',\n",
              " 'remains',\n",
              " 'in',\n",
              " 'South',\n",
              " 'Asia',\n",
              " 'date',\n",
              " 'to',\n",
              " '30,000',\n",
              " 'years',\n",
              " 'ago.',\n",
              " 'Settled',\n",
              " 'life,',\n",
              " 'which',\n",
              " 'involves',\n",
              " 'the',\n",
              " 'transition',\n",
              " 'from',\n",
              " 'foraging',\n",
              " 'to',\n",
              " 'farming',\n",
              " 'and',\n",
              " 'pastoralism,',\n",
              " 'began',\n",
              " 'in',\n",
              " 'South',\n",
              " 'Asia',\n",
              " 'around',\n",
              " '7,000',\n",
              " 'BCE.',\n",
              " 'At',\n",
              " 'the',\n",
              " 'site',\n",
              " 'of',\n",
              " 'Mehrgarh',\n",
              " 'presence',\n",
              " 'can',\n",
              " 'be',\n",
              " 'documented',\n",
              " 'of',\n",
              " 'the',\n",
              " 'domestication',\n",
              " 'of',\n",
              " 'wheat',\n",
              " 'and',\n",
              " 'barley,',\n",
              " 'rapidly',\n",
              " 'followed',\n",
              " 'by',\n",
              " 'that',\n",
              " 'of',\n",
              " 'goats,',\n",
              " 'sheep,',\n",
              " 'and',\n",
              " 'cattle.',\n",
              " 'By',\n",
              " '4,500',\n",
              " 'BCE,',\n",
              " 'settled',\n",
              " 'life',\n",
              " 'had',\n",
              " 'spread',\n",
              " 'more',\n",
              " 'and',\n",
              " 'began',\n",
              " 'to',\n",
              " 'gradually',\n",
              " 'evolve',\n",
              " 'into',\n",
              " 'the',\n",
              " 'Indus',\n",
              " 'Valley',\n",
              " 'Civilization,',\n",
              " 'an',\n",
              " 'early',\n",
              " 'civilization',\n",
              " 'of',\n",
              " 'the',\n",
              " 'Old',\n",
              " 'world,',\n",
              " 'which',\n",
              " 'was',\n",
              " 'contemporaneous',\n",
              " 'with',\n",
              " 'Ancient',\n",
              " 'Egypt',\n",
              " 'and',\n",
              " 'Mesopotamia.',\n",
              " 'This',\n",
              " 'civilisation',\n",
              " 'flourished',\n",
              " 'between',\n",
              " '2,500',\n",
              " 'BCE',\n",
              " 'and',\n",
              " '1900',\n",
              " 'BCE',\n",
              " 'in',\n",
              " 'what',\n",
              " 'today',\n",
              " 'is',\n",
              " 'Pakistan',\n",
              " 'and',\n",
              " 'north-western',\n",
              " 'India,',\n",
              " 'and',\n",
              " 'was',\n",
              " 'noted',\n",
              " 'for',\n",
              " 'its',\n",
              " 'urban',\n",
              " 'planning,',\n",
              " 'baked',\n",
              " 'brick',\n",
              " 'houses,',\n",
              " 'elaborate',\n",
              " 'drainage,',\n",
              " 'and',\n",
              " 'water',\n",
              " 'supply.',\n",
              " 'Early',\n",
              " 'on',\n",
              " 'in',\n",
              " 'the',\n",
              " 'second',\n",
              " 'millennium',\n",
              " 'BCE,',\n",
              " 'persistent',\n",
              " 'drought',\n",
              " 'caused',\n",
              " 'the',\n",
              " 'population',\n",
              " 'of',\n",
              " 'the',\n",
              " 'Indus',\n",
              " 'Valley',\n",
              " 'to',\n",
              " 'scatter',\n",
              " 'from',\n",
              " 'large',\n",
              " 'urban',\n",
              " 'centres',\n",
              " 'to',\n",
              " 'villages.',\n",
              " 'Around',\n",
              " 'the',\n",
              " 'same',\n",
              " 'time,',\n",
              " 'Indo-Aryan',\n",
              " 'tribes',\n",
              " 'moved',\n",
              " 'into',\n",
              " 'the',\n",
              " 'Punjab',\n",
              " 'from',\n",
              " 'Central',\n",
              " 'Asia',\n",
              " 'in',\n",
              " 'several',\n",
              " 'waves',\n",
              " 'of',\n",
              " 'migration.',\n",
              " 'Their',\n",
              " 'Vedic',\n",
              " 'Period',\n",
              " '(1500-500',\n",
              " 'BCE)',\n",
              " 'was',\n",
              " 'marked',\n",
              " 'by',\n",
              " 'the',\n",
              " 'composition',\n",
              " 'of',\n",
              " 'the',\n",
              " 'Vedas,',\n",
              " 'large',\n",
              " 'collections',\n",
              " 'of',\n",
              " 'hymns',\n",
              " 'of',\n",
              " 'these',\n",
              " 'tribes.',\n",
              " 'Their',\n",
              " 'varna',\n",
              " 'system,',\n",
              " 'which',\n",
              " 'evolved',\n",
              " 'into',\n",
              " 'the',\n",
              " 'caste',\n",
              " 'system,',\n",
              " 'consisted',\n",
              " 'of',\n",
              " 'a',\n",
              " 'hierarchy',\n",
              " 'of',\n",
              " 'priests,',\n",
              " 'warriors,',\n",
              " 'and',\n",
              " 'free',\n",
              " 'peasants.',\n",
              " 'The',\n",
              " 'pastoral',\n",
              " 'and',\n",
              " 'nomadic',\n",
              " 'Indo-Aryans',\n",
              " 'spread',\n",
              " 'from',\n",
              " 'the',\n",
              " 'Punjab',\n",
              " 'into',\n",
              " 'the',\n",
              " 'Gangetic',\n",
              " 'plain,',\n",
              " 'large',\n",
              " 'swaths',\n",
              " 'of',\n",
              " 'which',\n",
              " 'they',\n",
              " 'deforested',\n",
              " 'for',\n",
              " 'agriculture',\n",
              " 'usage.',\n",
              " 'The',\n",
              " 'composition',\n",
              " 'of',\n",
              " 'Vedic',\n",
              " 'texts',\n",
              " 'ended',\n",
              " 'around',\n",
              " '600',\n",
              " 'BCE,',\n",
              " 'when',\n",
              " 'a',\n",
              " 'new,',\n",
              " 'interregional',\n",
              " 'culture',\n",
              " 'arose.',\n",
              " 'Small',\n",
              " 'chieftaincies,',\n",
              " 'or',\n",
              " 'janapadas,',\n",
              " 'were',\n",
              " 'consolidated',\n",
              " 'into',\n",
              " 'larger',\n",
              " 'states,',\n",
              " 'or',\n",
              " 'mahajanapadas,',\n",
              " 'and',\n",
              " 'a',\n",
              " 'second',\n",
              " 'urbanisation',\n",
              " 'took',\n",
              " 'place.',\n",
              " 'This',\n",
              " 'urbanisation',\n",
              " 'was',\n",
              " 'accompanied',\n",
              " 'by',\n",
              " 'the',\n",
              " 'rise',\n",
              " 'of',\n",
              " 'new',\n",
              " 'ascetic',\n",
              " 'movements',\n",
              " 'in',\n",
              " 'Greater',\n",
              " 'Magadha,',\n",
              " 'including',\n",
              " 'Jainism',\n",
              " 'and',\n",
              " 'Buddhism,',\n",
              " 'which',\n",
              " 'opposed',\n",
              " 'the',\n",
              " 'growing',\n",
              " 'influence',\n",
              " 'of',\n",
              " 'Brahmanism',\n",
              " 'and',\n",
              " 'the',\n",
              " 'primacy',\n",
              " 'of',\n",
              " 'rituals,',\n",
              " 'presided',\n",
              " 'by',\n",
              " 'Brahmin',\n",
              " 'priests,',\n",
              " 'that',\n",
              " 'had',\n",
              " 'come',\n",
              " 'to',\n",
              " 'be',\n",
              " 'associated',\n",
              " 'with',\n",
              " 'Vedic',\n",
              " 'and',\n",
              " 'gave',\n",
              " 'rise',\n",
              " 'to',\n",
              " 'new',\n",
              " 'religious',\n",
              " 'concepts.',\n",
              " 'In',\n",
              " 'response',\n",
              " 'to',\n",
              " 'the',\n",
              " 'success',\n",
              " 'of',\n",
              " 'these',\n",
              " 'movements,',\n",
              " 'Vedic',\n",
              " 'Brahmanism',\n",
              " 'was',\n",
              " 'synthesised',\n",
              " 'with',\n",
              " 'the',\n",
              " 'preexisting',\n",
              " 'religious',\n",
              " 'cultures',\n",
              " 'of',\n",
              " 'the',\n",
              " 'subcontinent,',\n",
              " 'giving',\n",
              " 'rise',\n",
              " 'to',\n",
              " 'Hinduism.',\n",
              " 'Indian',\n",
              " 'Cultural',\n",
              " 'Influence',\n",
              " '(Greater',\n",
              " 'India)',\n",
              " 'Most',\n",
              " 'of',\n",
              " 'the',\n",
              " 'Indian',\n",
              " 'subcontinent',\n",
              " 'was',\n",
              " 'conquered',\n",
              " 'by',\n",
              " 'the',\n",
              " 'Maurya',\n",
              " 'Empire',\n",
              " 'during',\n",
              " 'the',\n",
              " '4th',\n",
              " 'and',\n",
              " '3rd',\n",
              " 'centuries',\n",
              " 'BCE.',\n",
              " 'From',\n",
              " 'the',\n",
              " '3rd',\n",
              " 'century',\n",
              " 'BCE',\n",
              " 'onwards',\n",
              " 'Prakrit',\n",
              " 'and',\n",
              " 'Pali',\n",
              " 'literature',\n",
              " 'in',\n",
              " 'the',\n",
              " 'north',\n",
              " 'and',\n",
              " 'the',\n",
              " 'Tamil',\n",
              " 'Sangam',\n",
              " 'literature',\n",
              " 'in',\n",
              " 'southern',\n",
              " 'India',\n",
              " 'started',\n",
              " 'to',\n",
              " 'flourish.',\n",
              " 'Wootz',\n",
              " 'steel',\n",
              " 'originated',\n",
              " 'in',\n",
              " 'south',\n",
              " 'India',\n",
              " 'in',\n",
              " 'the',\n",
              " '3rd',\n",
              " 'century',\n",
              " 'BCE',\n",
              " 'and',\n",
              " 'was',\n",
              " 'exported',\n",
              " 'to',\n",
              " 'foreign',\n",
              " 'countries.',\n",
              " 'During',\n",
              " 'the',\n",
              " 'Classical',\n",
              " 'period,',\n",
              " 'various',\n",
              " 'parts',\n",
              " 'of',\n",
              " 'India',\n",
              " 'were',\n",
              " 'ruled',\n",
              " 'by',\n",
              " 'numerous',\n",
              " 'dynasties',\n",
              " 'for',\n",
              " 'the',\n",
              " 'next',\n",
              " '1,500',\n",
              " 'years,',\n",
              " 'among',\n",
              " 'which',\n",
              " 'the',\n",
              " 'Gupta',\n",
              " 'Empire',\n",
              " 'stands',\n",
              " 'out.',\n",
              " 'This',\n",
              " 'period,',\n",
              " 'witnessing',\n",
              " 'a',\n",
              " 'Hindu',\n",
              " 'religious',\n",
              " 'and',\n",
              " 'intellectual',\n",
              " 'resurgence,',\n",
              " 'is',\n",
              " 'known',\n",
              " 'as',\n",
              " 'the',\n",
              " 'classical',\n",
              " 'or',\n",
              " '\"Golden',\n",
              " 'Age',\n",
              " 'of',\n",
              " 'India\".',\n",
              " 'During',\n",
              " 'this',\n",
              " 'period,',\n",
              " 'aspects',\n",
              " 'of',\n",
              " 'Indian',\n",
              " 'civilisation,',\n",
              " 'administration,',\n",
              " 'culture,',\n",
              " 'and',\n",
              " 'religion',\n",
              " '(Hinduism',\n",
              " 'and',\n",
              " 'Buddhism)',\n",
              " 'spread',\n",
              " 'to',\n",
              " 'much',\n",
              " 'of',\n",
              " 'Asia,',\n",
              " 'while',\n",
              " 'kingdoms',\n",
              " 'in',\n",
              " 'southern',\n",
              " 'India',\n",
              " 'had',\n",
              " 'maritime',\n",
              " 'business',\n",
              " 'links',\n",
              " 'with',\n",
              " 'the',\n",
              " 'Middle',\n",
              " 'East',\n",
              " 'and',\n",
              " 'the',\n",
              " 'Mediterranean.',\n",
              " 'Indian',\n",
              " 'cultural',\n",
              " 'influence',\n",
              " 'spread',\n",
              " 'over',\n",
              " 'many',\n",
              " 'parts',\n",
              " 'of',\n",
              " 'Southeast',\n",
              " 'Asia,',\n",
              " 'which',\n",
              " 'led',\n",
              " 'to',\n",
              " 'the',\n",
              " 'establishment',\n",
              " 'of',\n",
              " 'Indianised',\n",
              " 'kingdoms',\n",
              " 'in',\n",
              " 'Southeast',\n",
              " 'Asia',\n",
              " '(Greater',\n",
              " 'India).']"
            ]
          },
          "metadata": {},
          "execution_count": 14
        }
      ],
      "source": [
        "tokens = [ w for w in sentence_to_words if w[0]!='[' and w[-1]!= ']' ]\n",
        "tokens"
      ]
    },
    {
      "cell_type": "markdown",
      "metadata": {
        "id": "XdEJwfQWFehA"
      },
      "source": [
        "**Remove Punctuation**"
      ]
    },
    {
      "cell_type": "code",
      "execution_count": null,
      "metadata": {
        "colab": {
          "base_uri": "https://localhost:8080/"
        },
        "id": "eNYJ_Yz_eEJK",
        "outputId": "4e4d24e4-5ec4-4260-da39-6629652323fc"
      },
      "outputs": [
        {
          "output_type": "stream",
          "name": "stdout",
          "text": [
            "['According', 'to', 'consensus', 'in', 'modern', 'genetics', 'anatomically', 'modern', 'humans', 'first', 'arrived', 'on', 'the', 'Indian', 'subcontinent', 'from', 'Africa', 'between', '73000', 'and', '55000', 'years', 'ago.', 'However', 'the', 'earliest', 'known', 'human', 'remains', 'in', 'South', 'Asia', 'date', 'to', '30000', 'years', 'ago.', 'Settled', 'life', 'which', 'involves', 'the', 'transition', 'from', 'foraging', 'to', 'farming', 'and', 'pastoralism', 'began', 'in', 'South', 'Asia', 'around', '7000', 'BCE.', 'At', 'the', 'site', 'of', 'Mehrgarh', 'presence', 'can', 'be', 'documented', 'of', 'the', 'domestication', 'of', 'wheat', 'and', 'barley', 'rapidly', 'followed', 'by', 'that', 'of', 'goats', 'sheep', 'and', 'cattle.', 'By', '4500', 'BCE', 'settled', 'life', 'had', 'spread', 'more', 'and', 'began', 'to', 'gradually', 'evolve', 'into', 'the', 'Indus', 'Valley', 'Civilization', 'an', 'early', 'civilization', 'of', 'the', 'Old', 'world', 'which', 'was', 'contemporaneous', 'with', 'Ancient', 'Egypt', 'and', 'Mesopotamia.', 'This', 'civilisation', 'flourished', 'between', '2500', 'BCE', 'and', '1900', 'BCE', 'in', 'what', 'today', 'is', 'Pakistan', 'and', 'northwestern', 'India', 'and', 'was', 'noted', 'for', 'its', 'urban', 'planning', 'baked', 'brick', 'houses', 'elaborate', 'drainage', 'and', 'water', 'supply.', 'Early', 'on', 'in', 'the', 'second', 'millennium', 'BCE', 'persistent', 'drought', 'caused', 'the', 'population', 'of', 'the', 'Indus', 'Valley', 'to', 'scatter', 'from', 'large', 'urban', 'centres', 'to', 'villages.', 'Around', 'the', 'same', 'time', 'IndoAryan', 'tribes', 'moved', 'into', 'the', 'Punjab', 'from', 'Central', 'Asia', 'in', 'several', 'waves', 'of', 'migration.', 'Their', 'Vedic', 'Period', '1500500', 'BCE', 'was', 'marked', 'by', 'the', 'composition', 'of', 'the', 'Vedas', 'large', 'collections', 'of', 'hymns', 'of', 'these', 'tribes.', 'Their', 'varna', 'system', 'which', 'evolved', 'into', 'the', 'caste', 'system', 'consisted', 'of', 'a', 'hierarchy', 'of', 'priests', 'warriors', 'and', 'free', 'peasants.', 'The', 'pastoral', 'and', 'nomadic', 'IndoAryans', 'spread', 'from', 'the', 'Punjab', 'into', 'the', 'Gangetic', 'plain', 'large', 'swaths', 'of', 'which', 'they', 'deforested', 'for', 'agriculture', 'usage.', 'The', 'composition', 'of', 'Vedic', 'texts', 'ended', 'around', '600', 'BCE', 'when', 'a', 'new', 'interregional', 'culture', 'arose.', 'Small', 'chieftaincies', 'or', 'janapadas', 'were', 'consolidated', 'into', 'larger', 'states', 'or', 'mahajanapadas', 'and', 'a', 'second', 'urbanisation', 'took', 'place.', 'This', 'urbanisation', 'was', 'accompanied', 'by', 'the', 'rise', 'of', 'new', 'ascetic', 'movements', 'in', 'Greater', 'Magadha', 'including', 'Jainism', 'and', 'Buddhism', 'which', 'opposed', 'the', 'growing', 'influence', 'of', 'Brahmanism', 'and', 'the', 'primacy', 'of', 'rituals', 'presided', 'by', 'Brahmin', 'priests', 'that', 'had', 'come', 'to', 'be', 'associated', 'with', 'Vedic', 'and', 'gave', 'rise', 'to', 'new', 'religious', 'concepts.', 'In', 'response', 'to', 'the', 'success', 'of', 'these', 'movements', 'Vedic', 'Brahmanism', 'was', 'synthesised', 'with', 'the', 'preexisting', 'religious', 'cultures', 'of', 'the', 'subcontinent', 'giving', 'rise', 'to', 'Hinduism.', 'Indian', 'Cultural', 'Influence', 'Greater', 'India', 'Most', 'of', 'the', 'Indian', 'subcontinent', 'was', 'conquered', 'by', 'the', 'Maurya', 'Empire', 'during', 'the', '4th', 'and', '3rd', 'centuries', 'BCE.', 'From', 'the', '3rd', 'century', 'BCE', 'onwards', 'Prakrit', 'and', 'Pali', 'literature', 'in', 'the', 'north', 'and', 'the', 'Tamil', 'Sangam', 'literature', 'in', 'southern', 'India', 'started', 'to', 'flourish.', 'Wootz', 'steel', 'originated', 'in', 'south', 'India', 'in', 'the', '3rd', 'century', 'BCE', 'and', 'was', 'exported', 'to', 'foreign', 'countries.', 'During', 'the', 'Classical', 'period', 'various', 'parts', 'of', 'India', 'were', 'ruled', 'by', 'numerous', 'dynasties', 'for', 'the', 'next', '1500', 'years', 'among', 'which', 'the', 'Gupta', 'Empire', 'stands', 'out.', 'This', 'period', 'witnessing', 'a', 'Hindu', 'religious', 'and', 'intellectual', 'resurgence', 'is', 'known', 'as', 'the', 'classical', 'or', 'Golden', 'Age', 'of', 'India.', 'During', 'this', 'period', 'aspects', 'of', 'Indian', 'civilisation', 'administration', 'culture', 'and', 'religion', 'Hinduism', 'and', 'Buddhism', 'spread', 'to', 'much', 'of', 'Asia', 'while', 'kingdoms', 'in', 'southern', 'India', 'had', 'maritime', 'business', 'links', 'with', 'the', 'Middle', 'East', 'and', 'the', 'Mediterranean.', 'Indian', 'cultural', 'influence', 'spread', 'over', 'many', 'parts', 'of', 'Southeast', 'Asia', 'which', 'led', 'to', 'the', 'establishment', 'of', 'Indianised', 'kingdoms', 'in', 'Southeast', 'Asia', 'Greater', 'India.']\n"
          ]
        }
      ],
      "source": [
        "import string\n",
        "remove_punctuation = string.punctuation\n",
        "import re \n",
        "remove_punctuation = remove_punctuation.replace(\".\", \"\")\n",
        "pattern = r\"[{}]\".format(re.escape(remove_punctuation))\n",
        "table = str.maketrans('', '', pattern)\n",
        "stripped = [w.translate(table) for w in tokens]\n",
        "print(stripped[:])"
      ]
    },
    {
      "cell_type": "markdown",
      "metadata": {
        "id": "zs7lcxpkFi63"
      },
      "source": [
        "**Join Words Into Sentences**"
      ]
    },
    {
      "cell_type": "code",
      "execution_count": null,
      "metadata": {
        "colab": {
          "base_uri": "https://localhost:8080/",
          "height": 123
        },
        "id": "plcvPl41eG9a",
        "outputId": "9efad004-d472-4fea-a6e2-35346166ca37"
      },
      "outputs": [
        {
          "output_type": "execute_result",
          "data": {
            "text/plain": [
              "'According to consensus in modern genetics anatomically modern humans first arrived on the Indian subcontinent from Africa between 73000 and 55000 years ago. However the earliest known human remains in South Asia date to 30000 years ago. Settled life which involves the transition from foraging to farming and pastoralism began in South Asia around 7000 BCE. At the site of Mehrgarh presence can be documented of the domestication of wheat and barley rapidly followed by that of goats sheep and cattle. By 4500 BCE settled life had spread more and began to gradually evolve into the Indus Valley Civilization an early civilization of the Old world which was contemporaneous with Ancient Egypt and Mesopotamia. This civilisation flourished between 2500 BCE and 1900 BCE in what today is Pakistan and northwestern India and was noted for its urban planning baked brick houses elaborate drainage and water supply. Early on in the second millennium BCE persistent drought caused the population of the Indus Valley to scatter from large urban centres to villages. Around the same time IndoAryan tribes moved into the Punjab from Central Asia in several waves of migration. Their Vedic Period 1500500 BCE was marked by the composition of the Vedas large collections of hymns of these tribes. Their varna system which evolved into the caste system consisted of a hierarchy of priests warriors and free peasants. The pastoral and nomadic IndoAryans spread from the Punjab into the Gangetic plain large swaths of which they deforested for agriculture usage. The composition of Vedic texts ended around 600 BCE when a new interregional culture arose. Small chieftaincies or janapadas were consolidated into larger states or mahajanapadas and a second urbanisation took place. This urbanisation was accompanied by the rise of new ascetic movements in Greater Magadha including Jainism and Buddhism which opposed the growing influence of Brahmanism and the primacy of rituals presided by Brahmin priests that had come to be associated with Vedic and gave rise to new religious concepts. In response to the success of these movements Vedic Brahmanism was synthesised with the preexisting religious cultures of the subcontinent giving rise to Hinduism. Indian Cultural Influence Greater India Most of the Indian subcontinent was conquered by the Maurya Empire during the 4th and 3rd centuries BCE. From the 3rd century BCE onwards Prakrit and Pali literature in the north and the Tamil Sangam literature in southern India started to flourish. Wootz steel originated in south India in the 3rd century BCE and was exported to foreign countries. During the Classical period various parts of India were ruled by numerous dynasties for the next 1500 years among which the Gupta Empire stands out. This period witnessing a Hindu religious and intellectual resurgence is known as the classical or Golden Age of India. During this period aspects of Indian civilisation administration culture and religion Hinduism and Buddhism spread to much of Asia while kingdoms in southern India had maritime business links with the Middle East and the Mediterranean. Indian cultural influence spread over many parts of Southeast Asia which led to the establishment of Indianised kingdoms in Southeast Asia Greater India.'"
            ],
            "application/vnd.google.colaboratory.intrinsic+json": {
              "type": "string"
            }
          },
          "metadata": {},
          "execution_count": 16
        }
      ],
      "source": [
        "words_to_sentense=' '.join(stripped)\n",
        "words_to_sentense"
      ]
    },
    {
      "cell_type": "markdown",
      "metadata": {
        "id": "NLhWq6qcFpXs"
      },
      "source": [
        "**Data Cleaning**"
      ]
    },
    {
      "cell_type": "code",
      "execution_count": null,
      "metadata": {
        "id": "mxYj4sXCayur"
      },
      "outputs": [],
      "source": [
        "def clean_and_tag(paragraph):\n",
        "    # cleaning\n",
        "    para = re.sub(r'[^a-zA-Z0-9 .-]','',paragraph)\n",
        "    #dictionary for all sentences\n",
        "    tags_dict_sentences = defaultdict(list)\n",
        "    for sentence in sent_tokenize(para):\n",
        "        # tagging each word in the current sentence and creating a dictionary out of em\n",
        "        # actually it's enough just to care about 'NNP' and 'NN'\n",
        "        temp_tags = pos_tag(word_tokenize(sentence))\n",
        "        tags_dict = defaultdict(list)\n",
        "        tags_dict_sentences[sentence] = tags_dict\n",
        "        for i in ((temp_tags)):\n",
        "            tags_dict[i[1]].append(i[0])\n",
        "    return tags_dict_sentences"
      ]
    },
    {
      "cell_type": "markdown",
      "metadata": {
        "id": "h20DqIFnFxlk"
      },
      "source": [
        "## **Generate Blanks**"
      ]
    },
    {
      "cell_type": "code",
      "execution_count": null,
      "metadata": {
        "id": "dbsBscX8a0gF"
      },
      "outputs": [],
      "source": [
        "def replaceblank(word, sentence):\n",
        "    #uses regex to replace a word with a blank\n",
        "    temp = re.compile(re.escape(word), re.IGNORECASE)\n",
        "    return temp.sub('__________________', sentence)"
      ]
    },
    {
      "cell_type": "code",
      "execution_count": null,
      "metadata": {
        "id": "oaL6hqCoa2s6"
      },
      "outputs": [],
      "source": [
        "def removeWord(sentence, tags_dict):\n",
        "    #select only nouns\n",
        "    words = None\n",
        "    if 'NNP' in tags_dict:\n",
        "        words = tags_dict['NNP']\n",
        "    elif 'NN' in tags_dict:\n",
        "        words = tags_dict['NN']\n",
        "    else:\n",
        "        print(\"NN and NNP not found\")\n",
        "        return (None, sentence, None)\n",
        "    if len(words) > 0:\n",
        "        # randomly choose a word, if there is a score of NNP, we can choose the \n",
        "        # best word with that\n",
        "        word = random.choice(words)\n",
        "        replaced = replaceblank(word, sentence)\n",
        "        return (word, sentence, replaced)\n",
        "    else:\n",
        "        print(\"words are empty\")\n",
        "        return (None, sentence, None)"
      ]
    },
    {
      "cell_type": "code",
      "execution_count": null,
      "metadata": {
        "id": "VQRT_SMGa4it"
      },
      "outputs": [],
      "source": [
        "def create_blanks(paragraph,num_of_blanks):\n",
        "    # retrieve sentences whose words are tagged\n",
        "    tags_dict_sentences = clean_and_tag(paragraph) # a dictionary\n",
        "    # these many blanks are possible, as they can't be more than number of sentences\n",
        "    global possib_blanks\n",
        "    possib_blanks = len(list(tags_dict_sentences.keys()))\n",
        "    print(possib_blanks)\n",
        "    if possib_blanks> num_of_blanks:\n",
        "        # randomly shuffle the sentences\n",
        "        rand_sents = (list(tags_dict_sentences.keys()))\n",
        "        random.shuffle(rand_sents)\n",
        "        \n",
        "        #store the blanks in an array\n",
        "        global blanks_arr\n",
        "        blanks_arr = []\n",
        "        \n",
        "        # number of prepared blanks and dummy variable to iterate through rand_sents\n",
        "        prepared_blanks = 0\n",
        "        i = 0\n",
        "        while prepared_blanks<num_of_blanks and (i<len(rand_sents)):\n",
        "            curr_sent_tags = tags_dict_sentences[rand_sents[i]]\n",
        "            (word, sentence, replaced) = removeWord(rand_sents[i], tags_dict_sentences[rand_sents[i]])\n",
        "            if replaced is not None:\n",
        "                blanks_arr.append([replaced,word])\n",
        "                i+=1\n",
        "                prepared_blanks+=1\n",
        "            else:\n",
        "                i+=1\n",
        "        if prepared_blanks<num_of_blanks:\n",
        "            print(\"sorry, couldn't form more than {} blanks\".format(prepared_blanks))\n",
        "        return blanks_arr\n",
        "    # the same as above but asking for input\n",
        "    else:\n",
        "        try:\n",
        "            num_of_blanks  = int(input('''number of blanks you want to create are more\n",
        "            than number of sentences, please give a number less than {}.  \n",
        "            if you want to quit, just press any key other than integer and enter\\n'''.format(\n",
        "            possib_blanks)))\n",
        "            if num_of_blanks<possib_blanks:\n",
        "                flag = 0\n",
        "                rand_sents = (list(tags_dict_sentences.keys()))\n",
        "                random.shuffle(rand_sents)\n",
        "                blanks_arr = []\n",
        "                prepared_blanks = 0\n",
        "                i = 0\n",
        "                while prepared_blanks<num_of_blanks and (i<len(rand_sents)):\n",
        "                    curr_sent_tags = tags_dict_sentences[rand_sents[i]]\n",
        "                    (word, sentence, replaced) = removeWord(rand_sents[i], tags_dict_sentences[rand_sents[i]])\n",
        "                    if replaced is not None:\n",
        "                        blanks_arr.append([replaced,word])\n",
        "                        i+=1\n",
        "                        prepared_blanks+=1\n",
        "                    else:\n",
        "                        i+=1\n",
        "                if prepared_blanks<num_of_blanks:\n",
        "                    print(\"sorry, couldn't form more than {} blanks\".format(prepared_blanks))\n",
        "                return blanks_arr\n",
        "        except:\n",
        "            print('quittin :(')\n",
        "            return None\n",
        "        "
      ]
    },
    {
      "cell_type": "markdown",
      "metadata": {
        "id": "ju8E6VOOF1BZ"
      },
      "source": [
        "**Take Input From Users locally**"
      ]
    },
    {
      "cell_type": "code",
      "execution_count": null,
      "metadata": {
        "id": "GSDx_z559_FM"
      },
      "outputs": [],
      "source": [
        "generate_ques=int(number_of_question)"
      ]
    },
    {
      "cell_type": "markdown",
      "metadata": {
        "id": "eV7r_FRDF-C-"
      },
      "source": [
        "## **Total Generated Blanks**"
      ]
    },
    {
      "cell_type": "code",
      "execution_count": null,
      "metadata": {
        "colab": {
          "base_uri": "https://localhost:8080/"
        },
        "id": "beLAoQ_zbFLd",
        "outputId": "0b522f4b-4dfc-4282-a364-a1482733366a"
      },
      "outputs": [
        {
          "output_type": "stream",
          "name": "stdout",
          "text": [
            "22\n"
          ]
        }
      ],
      "source": [
        "blanks = create_blanks(words_to_sentense,generate_ques)"
      ]
    },
    {
      "cell_type": "markdown",
      "metadata": {
        "id": "ibfwvAMoGDQZ"
      },
      "source": [
        "## **Generaed Blanks From Text**"
      ]
    },
    {
      "cell_type": "code",
      "execution_count": null,
      "metadata": {
        "colab": {
          "base_uri": "https://localhost:8080/"
        },
        "id": "S85zVFFjnJZy",
        "outputId": "8546956d-582b-4f5e-f4bd-1a207a4eb865"
      },
      "outputs": [
        {
          "output_type": "stream",
          "name": "stdout",
          "text": [
            "22\n"
          ]
        },
        {
          "output_type": "execute_result",
          "data": {
            "text/plain": [
              "[['From the 3rd century BCE onwards Prakrit and Pali literature in the north and the Tamil Sangam literature in southern __________________ started to flourish.',\n",
              "  'India'],\n",
              " ['Early on in the second millennium BCE persistent drought caused the population of the Indus __________________ to scatter from large urban centres to villages.',\n",
              "  'Valley'],\n",
              " ['In response to the success of these movements Vedic __________________ was synthesised with the preexisting religious cultures of the subcontinent giving rise to Hinduism.',\n",
              "  'Brahmanism'],\n",
              " ['By 4500 BCE settled life had spread more and began to gradually evolve into the Indus Valley __________________ an early __________________ of the Old world which was contemporaneous with Ancient Egypt and Mesopotamia.',\n",
              "  'Civilization'],\n",
              " ['Their Vedic __________________ 1500500 BCE was marked by the composition of the Vedas large collections of hymns of these tribes.',\n",
              "  'Period'],\n",
              " ['Settled life which involves the transition from foraging to farming and pastoralism began in South Asia around 7000 __________________.',\n",
              "  'BCE'],\n",
              " ['Indian Cultural Influence Greater India Most of the Indian subcontinent was conquered by the __________________ Empire during the 4th and 3rd centuries BCE.',\n",
              "  'Maurya'],\n",
              " ['Wootz steel originated in south __________________ in the 3rd century BCE and was exported to foreign countries.',\n",
              "  'India'],\n",
              " ['Around the same time IndoAryan tribes moved into the Punjab from Central __________________ in several waves of migration.',\n",
              "  'Asia'],\n",
              " ['This period witnessing a Hindu religious and intellectual resurgence is known as the classical or Golden Age of __________________.',\n",
              "  'India'],\n",
              " ['This urbanisation was accompanied by the rise of new ascetic movements in Greater Magadha including Jainism and Buddhism which opposed the growing influence of __________________ and the primacy of rituals presided by Brahmin priests that had come to be associated with Vedic and gave rise to new religious concepts.',\n",
              "  'Brahmanism'],\n",
              " ['However the earliest known human remains in South __________________ date to 30000 years ago.',\n",
              "  'Asia'],\n",
              " ['At the site of __________________ presence can be documented of the domestication of wheat and barley rapidly followed by that of goats sheep and cattle.',\n",
              "  'Mehrgarh'],\n",
              " ['Indian cultural influence spread over many parts of Southeast __________________ which led to the establishment of Indianised kingdoms in Southeast __________________ Greater India.',\n",
              "  'Asia'],\n",
              " ['The composition of __________________ texts ended around 600 BCE when a new interregional culture arose.',\n",
              "  'Vedic'],\n",
              " ['According to consensus in modern genetics anatomically modern humans first arrived on the Indian subcontinent from __________________ between 73000 and 55000 years ago.',\n",
              "  'Africa'],\n",
              " ['The pastoral and nomadic IndoAryans spread from the __________________ into the Gangetic plain large swaths of which they deforested for agriculture usage.',\n",
              "  'Punjab'],\n",
              " ['During the Classical period various parts of __________________ were ruled by numerous dynasties for the next 1500 years among which the Gupta Empire stands out.',\n",
              "  'India'],\n",
              " ['Their varna system which evolved into the caste system consisted of a __________________ of priests warriors and free peasants.',\n",
              "  'hierarchy'],\n",
              " ['During this period aspects of __________________n civilisation administration culture and religion Hinduism and Buddhism spread to much of Asia while kingdoms in southern __________________ had maritime business links with the Middle East and the Mediterranean.',\n",
              "  'India'],\n",
              " ['Small chieftaincies or janapadas were consolidated into larger states or mahajanapadas and a second __________________ took place.',\n",
              "  'urbanisation']]"
            ]
          },
          "metadata": {},
          "execution_count": 23
        }
      ],
      "source": [
        "generated_blanks=[]\n",
        "all_blanks = create_blanks(words_to_sentense,(possib_blanks-1))\n",
        "for blank in all_blanks:\n",
        "  generated_blanks.append(blank)\n",
        "generated_blanks"
      ]
    },
    {
      "cell_type": "code",
      "execution_count": null,
      "metadata": {
        "id": "XQX842jB2ocl"
      },
      "outputs": [],
      "source": [
        "generated_answer=[{'question': l[0], 'answer': l[1]} for l in generated_blanks]"
      ]
    },
    {
      "cell_type": "code",
      "execution_count": null,
      "metadata": {
        "colab": {
          "base_uri": "https://localhost:8080/"
        },
        "id": "FYAVXylu3ChJ",
        "outputId": "cf209622-150d-49dd-ebfa-eb4bf6798c28"
      },
      "outputs": [
        {
          "output_type": "execute_result",
          "data": {
            "text/plain": [
              "[{'question': 'From the 3rd century BCE onwards Prakrit and Pali literature in the north and the Tamil Sangam literature in southern __________________ started to flourish.',\n",
              "  'answer': 'India'},\n",
              " {'question': 'Early on in the second millennium BCE persistent drought caused the population of the Indus __________________ to scatter from large urban centres to villages.',\n",
              "  'answer': 'Valley'},\n",
              " {'question': 'In response to the success of these movements Vedic __________________ was synthesised with the preexisting religious cultures of the subcontinent giving rise to Hinduism.',\n",
              "  'answer': 'Brahmanism'},\n",
              " {'question': 'By 4500 BCE settled life had spread more and began to gradually evolve into the Indus Valley __________________ an early __________________ of the Old world which was contemporaneous with Ancient Egypt and Mesopotamia.',\n",
              "  'answer': 'Civilization'},\n",
              " {'question': 'Their Vedic __________________ 1500500 BCE was marked by the composition of the Vedas large collections of hymns of these tribes.',\n",
              "  'answer': 'Period'},\n",
              " {'question': 'Settled life which involves the transition from foraging to farming and pastoralism began in South Asia around 7000 __________________.',\n",
              "  'answer': 'BCE'},\n",
              " {'question': 'Indian Cultural Influence Greater India Most of the Indian subcontinent was conquered by the __________________ Empire during the 4th and 3rd centuries BCE.',\n",
              "  'answer': 'Maurya'},\n",
              " {'question': 'Wootz steel originated in south __________________ in the 3rd century BCE and was exported to foreign countries.',\n",
              "  'answer': 'India'},\n",
              " {'question': 'Around the same time IndoAryan tribes moved into the Punjab from Central __________________ in several waves of migration.',\n",
              "  'answer': 'Asia'},\n",
              " {'question': 'This period witnessing a Hindu religious and intellectual resurgence is known as the classical or Golden Age of __________________.',\n",
              "  'answer': 'India'},\n",
              " {'question': 'This urbanisation was accompanied by the rise of new ascetic movements in Greater Magadha including Jainism and Buddhism which opposed the growing influence of __________________ and the primacy of rituals presided by Brahmin priests that had come to be associated with Vedic and gave rise to new religious concepts.',\n",
              "  'answer': 'Brahmanism'},\n",
              " {'question': 'However the earliest known human remains in South __________________ date to 30000 years ago.',\n",
              "  'answer': 'Asia'},\n",
              " {'question': 'At the site of __________________ presence can be documented of the domestication of wheat and barley rapidly followed by that of goats sheep and cattle.',\n",
              "  'answer': 'Mehrgarh'},\n",
              " {'question': 'Indian cultural influence spread over many parts of Southeast __________________ which led to the establishment of Indianised kingdoms in Southeast __________________ Greater India.',\n",
              "  'answer': 'Asia'},\n",
              " {'question': 'The composition of __________________ texts ended around 600 BCE when a new interregional culture arose.',\n",
              "  'answer': 'Vedic'},\n",
              " {'question': 'According to consensus in modern genetics anatomically modern humans first arrived on the Indian subcontinent from __________________ between 73000 and 55000 years ago.',\n",
              "  'answer': 'Africa'},\n",
              " {'question': 'The pastoral and nomadic IndoAryans spread from the __________________ into the Gangetic plain large swaths of which they deforested for agriculture usage.',\n",
              "  'answer': 'Punjab'},\n",
              " {'question': 'During the Classical period various parts of __________________ were ruled by numerous dynasties for the next 1500 years among which the Gupta Empire stands out.',\n",
              "  'answer': 'India'},\n",
              " {'question': 'Their varna system which evolved into the caste system consisted of a __________________ of priests warriors and free peasants.',\n",
              "  'answer': 'hierarchy'},\n",
              " {'question': 'During this period aspects of __________________n civilisation administration culture and religion Hinduism and Buddhism spread to much of Asia while kingdoms in southern __________________ had maritime business links with the Middle East and the Mediterranean.',\n",
              "  'answer': 'India'},\n",
              " {'question': 'Small chieftaincies or janapadas were consolidated into larger states or mahajanapadas and a second __________________ took place.',\n",
              "  'answer': 'urbanisation'}]"
            ]
          },
          "metadata": {},
          "execution_count": 25
        }
      ],
      "source": [
        "generated_answer"
      ]
    },
    {
      "cell_type": "code",
      "execution_count": null,
      "metadata": {
        "colab": {
          "base_uri": "https://localhost:8080/"
        },
        "id": "zSK092-97u3P",
        "outputId": "06d160ae-d24d-4165-aa44-03d745ef3497"
      },
      "outputs": [
        {
          "output_type": "execute_result",
          "data": {
            "text/plain": [
              "21"
            ]
          },
          "metadata": {},
          "execution_count": 26
        }
      ],
      "source": [
        "len(generated_answer)"
      ]
    },
    {
      "cell_type": "markdown",
      "metadata": {
        "id": "r35RzOeXGPe6"
      },
      "source": [
        "## **Remove Duplicate Blanks**"
      ]
    },
    {
      "cell_type": "code",
      "execution_count": null,
      "metadata": {
        "colab": {
          "base_uri": "https://localhost:8080/"
        },
        "id": "YXyfx3NioAJc",
        "outputId": "e561a21b-2543-46d7-d34c-d1908cb4d14e"
      },
      "outputs": [
        {
          "output_type": "execute_result",
          "data": {
            "text/plain": [
              "21"
            ]
          },
          "metadata": {},
          "execution_count": 27
        }
      ],
      "source": [
        "new_questions = []\n",
        "[new_questions.append(x) for x in generated_answer if x not in new_questions]\n",
        "len(new_questions)\n",
        "new_questions\n",
        "len(new_questions)"
      ]
    },
    {
      "cell_type": "code",
      "execution_count": null,
      "metadata": {
        "colab": {
          "base_uri": "https://localhost:8080/"
        },
        "id": "GBbnDjGs6_3_",
        "outputId": "4f4d5c6a-c7f5-402f-9e30-2aeed0b905d0"
      },
      "outputs": [
        {
          "output_type": "execute_result",
          "data": {
            "text/plain": [
              "[{'question': 'From the 3rd century BCE onwards Prakrit and Pali literature in the north and the Tamil Sangam literature in southern __________________ started to flourish.',\n",
              "  'answer': 'India'},\n",
              " {'question': 'Early on in the second millennium BCE persistent drought caused the population of the Indus __________________ to scatter from large urban centres to villages.',\n",
              "  'answer': 'Valley'},\n",
              " {'question': 'In response to the success of these movements Vedic __________________ was synthesised with the preexisting religious cultures of the subcontinent giving rise to Hinduism.',\n",
              "  'answer': 'Brahmanism'},\n",
              " {'question': 'By 4500 BCE settled life had spread more and began to gradually evolve into the Indus Valley __________________ an early __________________ of the Old world which was contemporaneous with Ancient Egypt and Mesopotamia.',\n",
              "  'answer': 'Civilization'},\n",
              " {'question': 'Their Vedic __________________ 1500500 BCE was marked by the composition of the Vedas large collections of hymns of these tribes.',\n",
              "  'answer': 'Period'},\n",
              " {'question': 'Settled life which involves the transition from foraging to farming and pastoralism began in South Asia around 7000 __________________.',\n",
              "  'answer': 'BCE'},\n",
              " {'question': 'Indian Cultural Influence Greater India Most of the Indian subcontinent was conquered by the __________________ Empire during the 4th and 3rd centuries BCE.',\n",
              "  'answer': 'Maurya'},\n",
              " {'question': 'Wootz steel originated in south __________________ in the 3rd century BCE and was exported to foreign countries.',\n",
              "  'answer': 'India'},\n",
              " {'question': 'Around the same time IndoAryan tribes moved into the Punjab from Central __________________ in several waves of migration.',\n",
              "  'answer': 'Asia'},\n",
              " {'question': 'This period witnessing a Hindu religious and intellectual resurgence is known as the classical or Golden Age of __________________.',\n",
              "  'answer': 'India'},\n",
              " {'question': 'This urbanisation was accompanied by the rise of new ascetic movements in Greater Magadha including Jainism and Buddhism which opposed the growing influence of __________________ and the primacy of rituals presided by Brahmin priests that had come to be associated with Vedic and gave rise to new religious concepts.',\n",
              "  'answer': 'Brahmanism'},\n",
              " {'question': 'However the earliest known human remains in South __________________ date to 30000 years ago.',\n",
              "  'answer': 'Asia'},\n",
              " {'question': 'At the site of __________________ presence can be documented of the domestication of wheat and barley rapidly followed by that of goats sheep and cattle.',\n",
              "  'answer': 'Mehrgarh'},\n",
              " {'question': 'Indian cultural influence spread over many parts of Southeast __________________ which led to the establishment of Indianised kingdoms in Southeast __________________ Greater India.',\n",
              "  'answer': 'Asia'},\n",
              " {'question': 'The composition of __________________ texts ended around 600 BCE when a new interregional culture arose.',\n",
              "  'answer': 'Vedic'},\n",
              " {'question': 'According to consensus in modern genetics anatomically modern humans first arrived on the Indian subcontinent from __________________ between 73000 and 55000 years ago.',\n",
              "  'answer': 'Africa'},\n",
              " {'question': 'The pastoral and nomadic IndoAryans spread from the __________________ into the Gangetic plain large swaths of which they deforested for agriculture usage.',\n",
              "  'answer': 'Punjab'},\n",
              " {'question': 'During the Classical period various parts of __________________ were ruled by numerous dynasties for the next 1500 years among which the Gupta Empire stands out.',\n",
              "  'answer': 'India'},\n",
              " {'question': 'Their varna system which evolved into the caste system consisted of a __________________ of priests warriors and free peasants.',\n",
              "  'answer': 'hierarchy'},\n",
              " {'question': 'During this period aspects of __________________n civilisation administration culture and religion Hinduism and Buddhism spread to much of Asia while kingdoms in southern __________________ had maritime business links with the Middle East and the Mediterranean.',\n",
              "  'answer': 'India'},\n",
              " {'question': 'Small chieftaincies or janapadas were consolidated into larger states or mahajanapadas and a second __________________ took place.',\n",
              "  'answer': 'urbanisation'}]"
            ]
          },
          "metadata": {},
          "execution_count": 28
        }
      ],
      "source": [
        "new_questions"
      ]
    },
    {
      "cell_type": "code",
      "execution_count": null,
      "metadata": {
        "colab": {
          "base_uri": "https://localhost:8080/"
        },
        "id": "lmvK3_lTdeZ2",
        "outputId": "62489f75-7fbe-4df9-bf23-da509059dae0"
      },
      "outputs": [
        {
          "output_type": "stream",
          "name": "stdout",
          "text": [
            "Looking in indexes: https://pypi.org/simple, https://us-python.pkg.dev/colab-wheels/public/simple/\n",
            "Collecting language_tool_python\n",
            "  Downloading language_tool_python-2.7.1-py3-none-any.whl (34 kB)\n",
            "Requirement already satisfied: tqdm in /usr/local/lib/python3.7/dist-packages (from language_tool_python) (4.64.0)\n",
            "Requirement already satisfied: requests in /usr/local/lib/python3.7/dist-packages (from language_tool_python) (2.23.0)\n",
            "Requirement already satisfied: idna<3,>=2.5 in /usr/local/lib/python3.7/dist-packages (from requests->language_tool_python) (2.10)\n",
            "Requirement already satisfied: chardet<4,>=3.0.2 in /usr/local/lib/python3.7/dist-packages (from requests->language_tool_python) (3.0.4)\n",
            "Requirement already satisfied: urllib3!=1.25.0,!=1.25.1,<1.26,>=1.21.1 in /usr/local/lib/python3.7/dist-packages (from requests->language_tool_python) (1.24.3)\n",
            "Requirement already satisfied: certifi>=2017.4.17 in /usr/local/lib/python3.7/dist-packages (from requests->language_tool_python) (2022.6.15)\n",
            "Installing collected packages: language-tool-python\n",
            "Successfully installed language-tool-python-2.7.1\n"
          ]
        }
      ],
      "source": [
        "!pip install language_tool_python"
      ]
    },
    {
      "cell_type": "code",
      "execution_count": null,
      "metadata": {
        "id": "874QdwMndjOR"
      },
      "outputs": [],
      "source": [
        "questions=str(new_questions)"
      ]
    },
    {
      "cell_type": "markdown",
      "metadata": {
        "id": "oU2IdJcWGRg0"
      },
      "source": [
        "## **Grammar Correction**"
      ]
    },
    {
      "cell_type": "code",
      "execution_count": null,
      "metadata": {
        "id": "SAmjDck_dpg3",
        "colab": {
          "base_uri": "https://localhost:8080/"
        },
        "outputId": "29cdb0fd-bb59-4230-9fea-cb7afa771a5c"
      },
      "outputs": [
        {
          "output_type": "stream",
          "name": "stderr",
          "text": [
            "Downloading LanguageTool 5.7: 100%|██████████| 225M/225M [00:04<00:00, 54.4MB/s]\n",
            "INFO:language_tool_python.download_lt:Unzipping /tmp/tmp2912nqcj.zip to /root/.cache/language_tool_python.\n",
            "INFO:language_tool_python.download_lt:Downloaded https://www.languagetool.org/download/LanguageTool-5.7.zip to /root/.cache/language_tool_python.\n"
          ]
        }
      ],
      "source": [
        "from nltk.internals import ReadError\n",
        "\n",
        "is_bad_rule = lambda rule: rule.message == 'Possible spelling mistake found.' and len(rule.replacements) and rule.replacements[0][0].isupper()\n",
        "import language_tool_python\n",
        "tool = language_tool_python.LanguageTool('en-US')\n",
        "#for i in new_questions:\n",
        "i=0\n",
        "#while True:\n",
        "for i in questions:\n",
        "  matches = tool.check(i)\n",
        "  matches = [rule for rule in matches if not is_bad_rule(rule)]\n",
        "  lang_tool=language_tool_python.utils.correct(questions, matches)\n",
        "  #new_questions.clear()\n",
        "  #print(y)\n",
        "  grammer_correction=[]\n",
        "  #if matches>0:\n",
        "  \n",
        "  grammer_correction.append(lang_tool)"
      ]
    },
    {
      "cell_type": "code",
      "execution_count": null,
      "metadata": {
        "colab": {
          "base_uri": "https://localhost:8080/"
        },
        "id": "sXkhNVfeMn7r",
        "outputId": "642c246c-973b-482f-f101-6df593155a18"
      },
      "outputs": [
        {
          "output_type": "execute_result",
          "data": {
            "text/plain": [
              "[\"]{'question': 'From the 3rd century BCE onwards Prakrit and Pali literature in the north and the Tamil Sangam literature in southern __________________ started to flourish.', 'answer': 'India'}, {'question': 'Early on in the second millennium BCE persistent drought caused the population of the Indus __________________ to scatter from large urban centres to villages.', 'answer': 'Valley'}, {'question': 'In response to the success of these movements Vedic __________________ was synthesised with the preexisting religious cultures of the subcontinent giving rise to Hinduism.', 'answer': 'Brahmanism'}, {'question': 'By 4500 BCE settled life had spread more and began to gradually evolve into the Indus Valley __________________ an early __________________ of the Old world which was contemporaneous with Ancient Egypt and Mesopotamia.', 'answer': 'Civilization'}, {'question': 'Their Vedic __________________ 1500500 BCE was marked by the composition of the Vedas large collections of hymns of these tribes.', 'answer': 'Period'}, {'question': 'Settled life which involves the transition from foraging to farming and pastoralism began in South Asia around 7000 __________________.', 'answer': 'BCE'}, {'question': 'Indian Cultural Influence Greater India Most of the Indian subcontinent was conquered by the __________________ Empire during the 4th and 3rd centuries BCE.', 'answer': 'Maurya'}, {'question': 'Wootz steel originated in south __________________ in the 3rd century BCE and was exported to foreign countries.', 'answer': 'India'}, {'question': 'Around the same time IndoAryan tribes moved into the Punjab from Central __________________ in several waves of migration.', 'answer': 'Asia'}, {'question': 'This period witnessing a Hindu religious and intellectual resurgence is known as the classical or Golden Age of __________________.', 'answer': 'India'}, {'question': 'This urbanisation was accompanied by the rise of new ascetic movements in Greater Magadha including Jainism and Buddhism which opposed the growing influence of __________________ and the primacy of rituals presided by Brahmin priests that had come to be associated with Vedic and gave rise to new religious concepts.', 'answer': 'Brahmanism'}, {'question': 'However the earliest known human remains in South __________________ date to 30000 years ago.', 'answer': 'Asia'}, {'question': 'At the site of __________________ presence can be documented of the domestication of wheat and barley rapidly followed by that of goats sheep and cattle.', 'answer': 'Mehrgarh'}, {'question': 'Indian cultural influence spread over many parts of Southeast __________________ which led to the establishment of Indianised kingdoms in Southeast __________________ Greater India.', 'answer': 'Asia'}, {'question': 'The composition of __________________ texts ended around 600 BCE when a new interregional culture arose.', 'answer': 'Vedic'}, {'question': 'According to consensus in modern genetics anatomically modern humans first arrived on the Indian subcontinent from __________________ between 73000 and 55000 years ago.', 'answer': 'Africa'}, {'question': 'The pastoral and nomadic IndoAryans spread from the __________________ into the Gangetic plain large swaths of which they deforested for agriculture usage.', 'answer': 'Punjab'}, {'question': 'During the Classical period various parts of __________________ were ruled by numerous dynasties for the next 1500 years among which the Gupta Empire stands out.', 'answer': 'India'}, {'question': 'Their varna system which evolved into the caste system consisted of a __________________ of priests warriors and free peasants.', 'answer': 'hierarchy'}, {'question': 'During this period aspects of __________________n civilisation administration culture and religion Hinduism and Buddhism spread to much of Asia while kingdoms in southern __________________ had maritime business links with the Middle East and the Mediterranean.', 'answer': 'India'}, {'question': 'Small chieftaincies or janapadas were consolidated into larger states or mahajanapadas and a second __________________ took place.', 'answer': 'urbanisation'}]\"]"
            ]
          },
          "metadata": {},
          "execution_count": 32
        }
      ],
      "source": [
        "grammer_correction"
      ]
    },
    {
      "cell_type": "code",
      "execution_count": null,
      "metadata": {
        "id": "vOG72ufCCcKu"
      },
      "outputs": [],
      "source": [
        "special_character = [[grammer_correction[0].strip(\"'[]\")]]"
      ]
    },
    {
      "cell_type": "code",
      "execution_count": null,
      "metadata": {
        "colab": {
          "base_uri": "https://localhost:8080/"
        },
        "id": "tSOXZehzDhMj",
        "outputId": "a3e3e850-b746-4949-d9d7-5b4bc2244516"
      },
      "outputs": [
        {
          "output_type": "execute_result",
          "data": {
            "text/plain": [
              "[[\"{'question': 'From the 3rd century BCE onwards Prakrit and Pali literature in the north and the Tamil Sangam literature in southern __________________ started to flourish.', 'answer': 'India'}, {'question': 'Early on in the second millennium BCE persistent drought caused the population of the Indus __________________ to scatter from large urban centres to villages.', 'answer': 'Valley'}, {'question': 'In response to the success of these movements Vedic __________________ was synthesised with the preexisting religious cultures of the subcontinent giving rise to Hinduism.', 'answer': 'Brahmanism'}, {'question': 'By 4500 BCE settled life had spread more and began to gradually evolve into the Indus Valley __________________ an early __________________ of the Old world which was contemporaneous with Ancient Egypt and Mesopotamia.', 'answer': 'Civilization'}, {'question': 'Their Vedic __________________ 1500500 BCE was marked by the composition of the Vedas large collections of hymns of these tribes.', 'answer': 'Period'}, {'question': 'Settled life which involves the transition from foraging to farming and pastoralism began in South Asia around 7000 __________________.', 'answer': 'BCE'}, {'question': 'Indian Cultural Influence Greater India Most of the Indian subcontinent was conquered by the __________________ Empire during the 4th and 3rd centuries BCE.', 'answer': 'Maurya'}, {'question': 'Wootz steel originated in south __________________ in the 3rd century BCE and was exported to foreign countries.', 'answer': 'India'}, {'question': 'Around the same time IndoAryan tribes moved into the Punjab from Central __________________ in several waves of migration.', 'answer': 'Asia'}, {'question': 'This period witnessing a Hindu religious and intellectual resurgence is known as the classical or Golden Age of __________________.', 'answer': 'India'}, {'question': 'This urbanisation was accompanied by the rise of new ascetic movements in Greater Magadha including Jainism and Buddhism which opposed the growing influence of __________________ and the primacy of rituals presided by Brahmin priests that had come to be associated with Vedic and gave rise to new religious concepts.', 'answer': 'Brahmanism'}, {'question': 'However the earliest known human remains in South __________________ date to 30000 years ago.', 'answer': 'Asia'}, {'question': 'At the site of __________________ presence can be documented of the domestication of wheat and barley rapidly followed by that of goats sheep and cattle.', 'answer': 'Mehrgarh'}, {'question': 'Indian cultural influence spread over many parts of Southeast __________________ which led to the establishment of Indianised kingdoms in Southeast __________________ Greater India.', 'answer': 'Asia'}, {'question': 'The composition of __________________ texts ended around 600 BCE when a new interregional culture arose.', 'answer': 'Vedic'}, {'question': 'According to consensus in modern genetics anatomically modern humans first arrived on the Indian subcontinent from __________________ between 73000 and 55000 years ago.', 'answer': 'Africa'}, {'question': 'The pastoral and nomadic IndoAryans spread from the __________________ into the Gangetic plain large swaths of which they deforested for agriculture usage.', 'answer': 'Punjab'}, {'question': 'During the Classical period various parts of __________________ were ruled by numerous dynasties for the next 1500 years among which the Gupta Empire stands out.', 'answer': 'India'}, {'question': 'Their varna system which evolved into the caste system consisted of a __________________ of priests warriors and free peasants.', 'answer': 'hierarchy'}, {'question': 'During this period aspects of __________________n civilisation administration culture and religion Hinduism and Buddhism spread to much of Asia while kingdoms in southern __________________ had maritime business links with the Middle East and the Mediterranean.', 'answer': 'India'}, {'question': 'Small chieftaincies or janapadas were consolidated into larger states or mahajanapadas and a second __________________ took place.', 'answer': 'urbanisation'}\"]]"
            ]
          },
          "metadata": {},
          "execution_count": 34
        }
      ],
      "source": [
        "special_character"
      ]
    },
    {
      "cell_type": "code",
      "execution_count": null,
      "metadata": {
        "colab": {
          "base_uri": "https://localhost:8080/"
        },
        "id": "e7B7PTYAg2ED",
        "outputId": "0a7f6294-a339-4933-a66b-193afd4c3ef5"
      },
      "outputs": [
        {
          "output_type": "execute_result",
          "data": {
            "text/plain": [
              "[[{'question': 'From the 3rd century BCE onwards Prakrit and Pali literature in the north and the Tamil Sangam literature in southern __________________ started to flourish.',\n",
              "   'answer': 'India'},\n",
              "  {'question': 'Early on in the second millennium BCE persistent drought caused the population of the Indus __________________ to scatter from large urban centres to villages.',\n",
              "   'answer': 'Valley'},\n",
              "  {'question': 'In response to the success of these movements Vedic __________________ was synthesised with the preexisting religious cultures of the subcontinent giving rise to Hinduism.',\n",
              "   'answer': 'Brahmanism'},\n",
              "  {'question': 'By 4500 BCE settled life had spread more and began to gradually evolve into the Indus Valley __________________ an early __________________ of the Old world which was contemporaneous with Ancient Egypt and Mesopotamia.',\n",
              "   'answer': 'Civilization'},\n",
              "  {'question': 'Their Vedic __________________ 1500500 BCE was marked by the composition of the Vedas large collections of hymns of these tribes.',\n",
              "   'answer': 'Period'},\n",
              "  {'question': 'Settled life which involves the transition from foraging to farming and pastoralism began in South Asia around 7000 __________________.',\n",
              "   'answer': 'BCE'},\n",
              "  {'question': 'Indian Cultural Influence Greater India Most of the Indian subcontinent was conquered by the __________________ Empire during the 4th and 3rd centuries BCE.',\n",
              "   'answer': 'Maurya'},\n",
              "  {'question': 'Wootz steel originated in south __________________ in the 3rd century BCE and was exported to foreign countries.',\n",
              "   'answer': 'India'},\n",
              "  {'question': 'Around the same time IndoAryan tribes moved into the Punjab from Central __________________ in several waves of migration.',\n",
              "   'answer': 'Asia'},\n",
              "  {'question': 'This period witnessing a Hindu religious and intellectual resurgence is known as the classical or Golden Age of __________________.',\n",
              "   'answer': 'India'},\n",
              "  {'question': 'This urbanisation was accompanied by the rise of new ascetic movements in Greater Magadha including Jainism and Buddhism which opposed the growing influence of __________________ and the primacy of rituals presided by Brahmin priests that had come to be associated with Vedic and gave rise to new religious concepts.',\n",
              "   'answer': 'Brahmanism'},\n",
              "  {'question': 'However the earliest known human remains in South __________________ date to 30000 years ago.',\n",
              "   'answer': 'Asia'},\n",
              "  {'question': 'At the site of __________________ presence can be documented of the domestication of wheat and barley rapidly followed by that of goats sheep and cattle.',\n",
              "   'answer': 'Mehrgarh'},\n",
              "  {'question': 'Indian cultural influence spread over many parts of Southeast __________________ which led to the establishment of Indianised kingdoms in Southeast __________________ Greater India.',\n",
              "   'answer': 'Asia'},\n",
              "  {'question': 'The composition of __________________ texts ended around 600 BCE when a new interregional culture arose.',\n",
              "   'answer': 'Vedic'},\n",
              "  {'question': 'According to consensus in modern genetics anatomically modern humans first arrived on the Indian subcontinent from __________________ between 73000 and 55000 years ago.',\n",
              "   'answer': 'Africa'},\n",
              "  {'question': 'The pastoral and nomadic IndoAryans spread from the __________________ into the Gangetic plain large swaths of which they deforested for agriculture usage.',\n",
              "   'answer': 'Punjab'},\n",
              "  {'question': 'During the Classical period various parts of __________________ were ruled by numerous dynasties for the next 1500 years among which the Gupta Empire stands out.',\n",
              "   'answer': 'India'},\n",
              "  {'question': 'Their varna system which evolved into the caste system consisted of a __________________ of priests warriors and free peasants.',\n",
              "   'answer': 'hierarchy'},\n",
              "  {'question': 'During this period aspects of __________________n civilisation administration culture and religion Hinduism and Buddhism spread to much of Asia while kingdoms in southern __________________ had maritime business links with the Middle East and the Mediterranean.',\n",
              "   'answer': 'India'},\n",
              "  {'question': 'Small chieftaincies or janapadas were consolidated into larger states or mahajanapadas and a second __________________ took place.',\n",
              "   'answer': 'urbanisation'}]]"
            ]
          },
          "metadata": {},
          "execution_count": 35
        }
      ],
      "source": [
        "import ast\n",
        "special_character_rm=str(special_character).replace('\"',' ')\n",
        "special_character_rm= ast.literal_eval(special_character_rm)\n",
        "special_character_rm\n",
        "#demonstration\n",
        "\n",
        "#for i in y:\n",
        "    #print(i)"
      ]
    },
    {
      "cell_type": "code",
      "execution_count": null,
      "metadata": {
        "id": "glhdamoPHaOn"
      },
      "outputs": [],
      "source": [
        "import itertools\n",
        "from itertools import chain\n",
        "chain = itertools.chain.from_iterable(special_character_rm)\n",
        "total_quesions=(list(chain))"
      ]
    },
    {
      "cell_type": "code",
      "execution_count": null,
      "metadata": {
        "colab": {
          "base_uri": "https://localhost:8080/"
        },
        "id": "7YV8aziYisE_",
        "outputId": "73a49dc1-3588-4570-a629-5b1a5746a7c8"
      },
      "outputs": [
        {
          "output_type": "execute_result",
          "data": {
            "text/plain": [
              "21"
            ]
          },
          "metadata": {},
          "execution_count": 37
        }
      ],
      "source": [
        "len(total_quesions)"
      ]
    },
    {
      "cell_type": "code",
      "execution_count": null,
      "metadata": {
        "colab": {
          "base_uri": "https://localhost:8080/"
        },
        "id": "ufm0LYdWoqzi",
        "outputId": "696e1eb8-162a-4e3f-c69b-215a457b5341"
      },
      "outputs": [
        {
          "output_type": "execute_result",
          "data": {
            "text/plain": [
              "[{'question': 'From the 3rd century BCE onwards Prakrit and Pali literature in the north and the Tamil Sangam literature in southern __________________ started to flourish.',\n",
              "  'answer': 'India'},\n",
              " {'question': 'Early on in the second millennium BCE persistent drought caused the population of the Indus __________________ to scatter from large urban centres to villages.',\n",
              "  'answer': 'Valley'},\n",
              " {'question': 'In response to the success of these movements Vedic __________________ was synthesised with the preexisting religious cultures of the subcontinent giving rise to Hinduism.',\n",
              "  'answer': 'Brahmanism'},\n",
              " {'question': 'By 4500 BCE settled life had spread more and began to gradually evolve into the Indus Valley __________________ an early __________________ of the Old world which was contemporaneous with Ancient Egypt and Mesopotamia.',\n",
              "  'answer': 'Civilization'},\n",
              " {'question': 'Their Vedic __________________ 1500500 BCE was marked by the composition of the Vedas large collections of hymns of these tribes.',\n",
              "  'answer': 'Period'},\n",
              " {'question': 'Settled life which involves the transition from foraging to farming and pastoralism began in South Asia around 7000 __________________.',\n",
              "  'answer': 'BCE'},\n",
              " {'question': 'Indian Cultural Influence Greater India Most of the Indian subcontinent was conquered by the __________________ Empire during the 4th and 3rd centuries BCE.',\n",
              "  'answer': 'Maurya'},\n",
              " {'question': 'Wootz steel originated in south __________________ in the 3rd century BCE and was exported to foreign countries.',\n",
              "  'answer': 'India'},\n",
              " {'question': 'Around the same time IndoAryan tribes moved into the Punjab from Central __________________ in several waves of migration.',\n",
              "  'answer': 'Asia'},\n",
              " {'question': 'This period witnessing a Hindu religious and intellectual resurgence is known as the classical or Golden Age of __________________.',\n",
              "  'answer': 'India'},\n",
              " {'question': 'This urbanisation was accompanied by the rise of new ascetic movements in Greater Magadha including Jainism and Buddhism which opposed the growing influence of __________________ and the primacy of rituals presided by Brahmin priests that had come to be associated with Vedic and gave rise to new religious concepts.',\n",
              "  'answer': 'Brahmanism'},\n",
              " {'question': 'However the earliest known human remains in South __________________ date to 30000 years ago.',\n",
              "  'answer': 'Asia'},\n",
              " {'question': 'At the site of __________________ presence can be documented of the domestication of wheat and barley rapidly followed by that of goats sheep and cattle.',\n",
              "  'answer': 'Mehrgarh'},\n",
              " {'question': 'Indian cultural influence spread over many parts of Southeast __________________ which led to the establishment of Indianised kingdoms in Southeast __________________ Greater India.',\n",
              "  'answer': 'Asia'},\n",
              " {'question': 'The composition of __________________ texts ended around 600 BCE when a new interregional culture arose.',\n",
              "  'answer': 'Vedic'},\n",
              " {'question': 'According to consensus in modern genetics anatomically modern humans first arrived on the Indian subcontinent from __________________ between 73000 and 55000 years ago.',\n",
              "  'answer': 'Africa'},\n",
              " {'question': 'The pastoral and nomadic IndoAryans spread from the __________________ into the Gangetic plain large swaths of which they deforested for agriculture usage.',\n",
              "  'answer': 'Punjab'},\n",
              " {'question': 'During the Classical period various parts of __________________ were ruled by numerous dynasties for the next 1500 years among which the Gupta Empire stands out.',\n",
              "  'answer': 'India'},\n",
              " {'question': 'Their varna system which evolved into the caste system consisted of a __________________ of priests warriors and free peasants.',\n",
              "  'answer': 'hierarchy'},\n",
              " {'question': 'During this period aspects of __________________n civilisation administration culture and religion Hinduism and Buddhism spread to much of Asia while kingdoms in southern __________________ had maritime business links with the Middle East and the Mediterranean.',\n",
              "  'answer': 'India'},\n",
              " {'question': 'Small chieftaincies or janapadas were consolidated into larger states or mahajanapadas and a second __________________ took place.',\n",
              "  'answer': 'urbanisation'}]"
            ]
          },
          "metadata": {},
          "execution_count": 38
        }
      ],
      "source": [
        "total_quesions"
      ]
    },
    {
      "cell_type": "code",
      "execution_count": null,
      "metadata": {
        "colab": {
          "base_uri": "https://localhost:8080/",
          "height": 36
        },
        "id": "p3dDVTNl2iiT",
        "outputId": "ab2a674f-7088-4e6a-bff1-b524b98f7864"
      },
      "outputs": [
        {
          "output_type": "execute_result",
          "data": {
            "text/plain": [
              "'\\nd = []\\n\\nfor i in y:\\n    d.append({\"question\":i[0]})\\nprint(d)\\n'"
            ],
            "application/vnd.google.colaboratory.intrinsic+json": {
              "type": "string"
            }
          },
          "metadata": {},
          "execution_count": 39
        }
      ],
      "source": [
        "\"\"\"\n",
        "d = []\n",
        "\n",
        "for i in y:\n",
        "    d.append({\"question\":i[0]})\n",
        "print(d)\n",
        "\"\"\""
      ]
    },
    {
      "cell_type": "markdown",
      "metadata": {
        "id": "kbbTpG6uGXWj"
      },
      "source": [
        "## **Final Output , User Validation & Post Generated Questions**"
      ]
    },
    {
      "cell_type": "code",
      "execution_count": null,
      "metadata": {
        "colab": {
          "base_uri": "https://localhost:8080/"
        },
        "id": "rmULjmvJ5Rcs",
        "outputId": "5d7ab8aa-1cd1-4af6-9ff6-ddb1d98761f3"
      },
      "outputs": [
        {
          "output_type": "stream",
          "name": "stdout",
          "text": [
            "4\n",
            "17\n"
          ]
        }
      ],
      "source": [
        "if generate_ques > len(total_quesions) or generate_ques == 0: #number_of_question\n",
        "  print(\"please give value between 1 to {}\".format(len(total_quesions)))\n",
        "else:\n",
        "  import random\n",
        "  other_questions =[]\n",
        "  display_question = random.sample(total_quesions, k=generate_ques) #number_of_question\n",
        "  for item in total_quesions:\n",
        "    if item not in display_question:\n",
        "        other_questions.append(item)\n",
        "  import json\n",
        "  import requests\n",
        "  url=\"https://generate-questions.devbyopeneyes.com/api/GenerateQuestions\" \n",
        "  headers = {'Content-Type':'application/json','Accept':'application/json'}\n",
        "  myobjs ={\"id\" : _id,\n",
        "         \"questions\" : display_question,\n",
        "         \"other_questions\" : other_questions\n",
        "    }\n",
        "  yo = requests.post(url,headers=headers,data=json.dumps(myobjs))\n",
        "  print(len(display_question))\n",
        "  display_question\n",
        "  print(len(other_questions))\n",
        "  other_questions.clear()"
      ]
    }
  ],
  "metadata": {
    "colab": {
      "collapsed_sections": [],
      "name": "Fill_In_the_Blanks 16-08.ipynb",
      "provenance": []
    },
    "kernelspec": {
      "display_name": "Python 3",
      "language": "python",
      "name": "python3"
    },
    "language_info": {
      "codemirror_mode": {
        "name": "ipython",
        "version": 3
      },
      "file_extension": ".py",
      "mimetype": "text/x-python",
      "name": "python",
      "nbconvert_exporter": "python",
      "pygments_lexer": "ipython3",
      "version": "3.8.5"
    }
  },
  "nbformat": 4,
  "nbformat_minor": 0
}