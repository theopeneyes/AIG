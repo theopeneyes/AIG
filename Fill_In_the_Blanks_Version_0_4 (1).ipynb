{
  "cells": [
    {
      "cell_type": "code",
      "execution_count": 55,
      "metadata": {
        "id": "G8c_Rgcfb_7a",
        "colab": {
          "base_uri": "https://localhost:8080/"
        },
        "outputId": "d9dbc0a1-6ffa-49ae-d309-cbab21cf8a47"
      },
      "outputs": [
        {
          "output_type": "stream",
          "name": "stdout",
          "text": [
            "Looking in indexes: https://pypi.org/simple, https://us-python.pkg.dev/colab-wheels/public/simple/\n",
            "Requirement already satisfied: PyPDF2 in /usr/local/lib/python3.7/dist-packages (2.11.0)\n",
            "Requirement already satisfied: typing-extensions>=3.10.0.0 in /usr/local/lib/python3.7/dist-packages (from PyPDF2) (4.1.1)\n",
            "Looking in indexes: https://pypi.org/simple, https://us-python.pkg.dev/colab-wheels/public/simple/\n",
            "Requirement already satisfied: docx2txt in /usr/local/lib/python3.7/dist-packages (0.8)\n",
            "Looking in indexes: https://pypi.org/simple, https://us-python.pkg.dev/colab-wheels/public/simple/\n",
            "Requirement already satisfied: datasets in /usr/local/lib/python3.7/dist-packages (2.5.2)\n",
            "Requirement already satisfied: evaluate in /usr/local/lib/python3.7/dist-packages (0.2.2)\n",
            "Requirement already satisfied: transformers[sentencepiece] in /usr/local/lib/python3.7/dist-packages (4.22.2)\n",
            "Requirement already satisfied: pyarrow>=6.0.0 in /usr/local/lib/python3.7/dist-packages (from datasets) (6.0.1)\n",
            "Requirement already satisfied: fsspec[http]>=2021.11.1 in /usr/local/lib/python3.7/dist-packages (from datasets) (2022.8.2)\n",
            "Requirement already satisfied: requests>=2.19.0 in /usr/local/lib/python3.7/dist-packages (from datasets) (2.23.0)\n",
            "Requirement already satisfied: xxhash in /usr/local/lib/python3.7/dist-packages (from datasets) (3.0.0)\n",
            "Requirement already satisfied: pandas in /usr/local/lib/python3.7/dist-packages (from datasets) (1.3.5)\n",
            "Requirement already satisfied: numpy>=1.17 in /usr/local/lib/python3.7/dist-packages (from datasets) (1.21.6)\n",
            "Requirement already satisfied: aiohttp in /usr/local/lib/python3.7/dist-packages (from datasets) (3.8.1)\n",
            "Requirement already satisfied: importlib-metadata in /usr/local/lib/python3.7/dist-packages (from datasets) (4.12.0)\n",
            "Requirement already satisfied: packaging in /usr/local/lib/python3.7/dist-packages (from datasets) (21.3)\n",
            "Requirement already satisfied: tqdm>=4.62.1 in /usr/local/lib/python3.7/dist-packages (from datasets) (4.64.1)\n",
            "Requirement already satisfied: huggingface-hub<1.0.0,>=0.2.0 in /usr/local/lib/python3.7/dist-packages (from datasets) (0.10.0)\n",
            "Requirement already satisfied: responses<0.19 in /usr/local/lib/python3.7/dist-packages (from datasets) (0.18.0)\n",
            "Requirement already satisfied: multiprocess in /usr/local/lib/python3.7/dist-packages (from datasets) (0.70.13)\n",
            "Requirement already satisfied: dill<0.3.6 in /usr/local/lib/python3.7/dist-packages (from datasets) (0.3.5.1)\n",
            "Requirement already satisfied: typing-extensions>=3.7.4 in /usr/local/lib/python3.7/dist-packages (from aiohttp->datasets) (4.1.1)\n",
            "Requirement already satisfied: frozenlist>=1.1.1 in /usr/local/lib/python3.7/dist-packages (from aiohttp->datasets) (1.3.1)\n",
            "Requirement already satisfied: yarl<2.0,>=1.0 in /usr/local/lib/python3.7/dist-packages (from aiohttp->datasets) (1.8.1)\n",
            "Requirement already satisfied: attrs>=17.3.0 in /usr/local/lib/python3.7/dist-packages (from aiohttp->datasets) (22.1.0)\n",
            "Requirement already satisfied: aiosignal>=1.1.2 in /usr/local/lib/python3.7/dist-packages (from aiohttp->datasets) (1.2.0)\n",
            "Requirement already satisfied: charset-normalizer<3.0,>=2.0 in /usr/local/lib/python3.7/dist-packages (from aiohttp->datasets) (2.1.1)\n",
            "Requirement already satisfied: multidict<7.0,>=4.5 in /usr/local/lib/python3.7/dist-packages (from aiohttp->datasets) (6.0.2)\n",
            "Requirement already satisfied: async-timeout<5.0,>=4.0.0a3 in /usr/local/lib/python3.7/dist-packages (from aiohttp->datasets) (4.0.2)\n",
            "Requirement already satisfied: asynctest==0.13.0 in /usr/local/lib/python3.7/dist-packages (from aiohttp->datasets) (0.13.0)\n",
            "Requirement already satisfied: filelock in /usr/local/lib/python3.7/dist-packages (from huggingface-hub<1.0.0,>=0.2.0->datasets) (3.8.0)\n",
            "Requirement already satisfied: pyyaml>=5.1 in /usr/local/lib/python3.7/dist-packages (from huggingface-hub<1.0.0,>=0.2.0->datasets) (6.0)\n",
            "Requirement already satisfied: pyparsing!=3.0.5,>=2.0.2 in /usr/local/lib/python3.7/dist-packages (from packaging->datasets) (3.0.9)\n",
            "Requirement already satisfied: chardet<4,>=3.0.2 in /usr/local/lib/python3.7/dist-packages (from requests>=2.19.0->datasets) (3.0.4)\n",
            "Requirement already satisfied: urllib3!=1.25.0,!=1.25.1,<1.26,>=1.21.1 in /usr/local/lib/python3.7/dist-packages (from requests>=2.19.0->datasets) (1.25.11)\n",
            "Requirement already satisfied: idna<3,>=2.5 in /usr/local/lib/python3.7/dist-packages (from requests>=2.19.0->datasets) (2.10)\n",
            "Requirement already satisfied: certifi>=2017.4.17 in /usr/local/lib/python3.7/dist-packages (from requests>=2.19.0->datasets) (2022.6.15)\n",
            "Requirement already satisfied: zipp>=0.5 in /usr/local/lib/python3.7/dist-packages (from importlib-metadata->datasets) (3.8.1)\n",
            "Requirement already satisfied: pytz>=2017.3 in /usr/local/lib/python3.7/dist-packages (from pandas->datasets) (2022.2.1)\n",
            "Requirement already satisfied: python-dateutil>=2.7.3 in /usr/local/lib/python3.7/dist-packages (from pandas->datasets) (2.8.2)\n",
            "Requirement already satisfied: six>=1.5 in /usr/local/lib/python3.7/dist-packages (from python-dateutil>=2.7.3->pandas->datasets) (1.15.0)\n",
            "Requirement already satisfied: regex!=2019.12.17 in /usr/local/lib/python3.7/dist-packages (from transformers[sentencepiece]) (2022.6.2)\n",
            "Requirement already satisfied: tokenizers!=0.11.3,<0.13,>=0.11.1 in /usr/local/lib/python3.7/dist-packages (from transformers[sentencepiece]) (0.12.1)\n",
            "Requirement already satisfied: protobuf<=3.20.1 in /usr/local/lib/python3.7/dist-packages (from transformers[sentencepiece]) (3.17.3)\n",
            "Requirement already satisfied: sentencepiece!=0.1.92,>=0.1.91 in /usr/local/lib/python3.7/dist-packages (from transformers[sentencepiece]) (0.1.97)\n",
            "Looking in indexes: https://pypi.org/simple, https://us-python.pkg.dev/colab-wheels/public/simple/\n",
            "Requirement already satisfied: language_tool_python in /usr/local/lib/python3.7/dist-packages (2.7.1)\n",
            "Requirement already satisfied: requests in /usr/local/lib/python3.7/dist-packages (from language_tool_python) (2.23.0)\n",
            "Requirement already satisfied: tqdm in /usr/local/lib/python3.7/dist-packages (from language_tool_python) (4.64.1)\n",
            "Requirement already satisfied: urllib3!=1.25.0,!=1.25.1,<1.26,>=1.21.1 in /usr/local/lib/python3.7/dist-packages (from requests->language_tool_python) (1.25.11)\n",
            "Requirement already satisfied: chardet<4,>=3.0.2 in /usr/local/lib/python3.7/dist-packages (from requests->language_tool_python) (3.0.4)\n",
            "Requirement already satisfied: idna<3,>=2.5 in /usr/local/lib/python3.7/dist-packages (from requests->language_tool_python) (2.10)\n",
            "Requirement already satisfied: certifi>=2017.4.17 in /usr/local/lib/python3.7/dist-packages (from requests->language_tool_python) (2022.6.15)\n"
          ]
        }
      ],
      "source": [
        "#https://github.com/sudheernaidu53/Machine-learning-Deep-learning-projects\n",
        "\n",
        "!pip install PyPDF2\n",
        "!pip install docx2txt\n",
        "!pip install datasets evaluate transformers[sentencepiece]\n",
        "!pip install language_tool_python"
      ]
    },
    {
      "cell_type": "code",
      "execution_count": 56,
      "metadata": {
        "id": "cbizSMdeTpSt"
      },
      "outputs": [],
      "source": [
        "import time\n",
        "start = time.time()"
      ]
    },
    {
      "cell_type": "markdown",
      "metadata": {
        "id": "VARInkfNEWfq"
      },
      "source": [
        "## **Import Libraries**"
      ]
    },
    {
      "cell_type": "code",
      "execution_count": 57,
      "metadata": {
        "id": "7pZ7jDIkauhx",
        "outputId": "f76dbd1c-9933-41d4-a798-5e866195a6fc",
        "colab": {
          "base_uri": "https://localhost:8080/"
        }
      },
      "outputs": [
        {
          "output_type": "stream",
          "name": "stderr",
          "text": [
            "[nltk_data] Downloading package stopwords to /root/nltk_data...\n",
            "[nltk_data]   Package stopwords is already up-to-date!\n",
            "[nltk_data] Downloading package punkt to /root/nltk_data...\n",
            "[nltk_data]   Package punkt is already up-to-date!\n",
            "[nltk_data] Downloading package averaged_perceptron_tagger to\n",
            "[nltk_data]     /root/nltk_data...\n",
            "[nltk_data]   Package averaged_perceptron_tagger is already up-to-\n",
            "[nltk_data]       date!\n"
          ]
        }
      ],
      "source": [
        "import numpy as np\n",
        "import re\n",
        "import random\n",
        "import json\n",
        "import requests\n",
        "import docx2txt\n",
        "import PyPDF2\n",
        "import string\n",
        "import nltk\n",
        "nltk.download('stopwords')\n",
        "nltk.download('punkt')\n",
        "nltk.download('averaged_perceptron_tagger')\n",
        "\n",
        "from datetime import datetime\n",
        "from nltk import sent_tokenize\n",
        "from nltk import pos_tag, word_tokenize, sent_tokenize\n",
        "from collections import defaultdict\n",
        "from requests.api import request"
      ]
    },
    {
      "cell_type": "markdown",
      "metadata": {
        "id": "Y8nZjh6s2iiU"
      },
      "source": [
        "## **Import File API**"
      ]
    },
    {
      "cell_type": "code",
      "execution_count": 58,
      "metadata": {
        "id": "eCnjdOJK4nGw"
      },
      "outputs": [],
      "source": [
        "temp_id = \"new id\"\n",
        "request=requests.get(\"https://generate-questions.devbyopeneyes.com/api/getFileData/633d5a3b70698dbd9d0a54a2\")\n",
        "resp= request.json()\n",
        "file_path=(resp[\"data\"][\"file_path\"])\n",
        "_id=(resp[\"data\"][\"_id\"])\n",
        "number_of_question=(resp[\"data\"][\"number_of_question\"])\n",
        "file_type=(resp[\"data\"][\"file_type\"])"
      ]
    },
    {
      "cell_type": "code",
      "execution_count": 59,
      "metadata": {
        "id": "oISvQmkCqdK5"
      },
      "outputs": [],
      "source": [
        "if file_type == \"txt\":\n",
        "    import urllib.request\n",
        "    response = urllib.request.urlopen(file_path)\n",
        "    html = response.read()\n",
        "    text=html.decode('utf8')\n",
        "elif file_type==\"pdf\":\n",
        "    url = file_path\n",
        "    response = requests.get(url)\n",
        "    my_raw_data = response.content\n",
        "\n",
        "    with open(\"my_pdf.pdf\", 'wb') as my_data:\n",
        "        my_data.write(my_raw_data)\n",
        "\n",
        "    open_pdf_file = open(\"my_pdf.pdf\", 'rb')\n",
        "    read_pdf = PyPDF2.PdfFileReader(open_pdf_file)\n",
        "    if read_pdf.isEncrypted:\n",
        "        read_pdf.decrypt(\"\")\n",
        "        text = read_pdf.getPage(0).extractText()\n",
        "    else:\n",
        "        text = read_pdf.getPage(0).extractText()\n",
        "elif file_type == \"docx\":\n",
        "    url = file_path\n",
        "    response = requests.get(url)\n",
        "    my_raw_data = response.content\n",
        "\n",
        "    with open(\"my_doc.txt\", \"wb\") as text_file:\n",
        "        text_file.write(my_raw_data)\n",
        "\n",
        "    open_docx_file = open(\"my_doc.txt\", 'rb')\n",
        "\n",
        "    text = docx2txt.process(open_docx_file)\n",
        "else:\n",
        "    print(\"Invalid File Type\")\n"
      ]
    },
    {
      "cell_type": "code",
      "execution_count": 60,
      "metadata": {
        "id": "fncwipsGUXLy"
      },
      "outputs": [],
      "source": [
        "# if len(text)==0:\n",
        "#     print(\"file is empty.\")\n",
        "# else:\n",
        "#     if not re.match(r'!@#$%^&\"*()-+?_=,<>/\\'', text) :\n",
        "#         print(\"valid\")\n",
        "#     elif text==\"'\":\n",
        "#         print(\"invalid\")\n",
        "#     else:\n",
        "#         print('Invalid file')"
      ]
    },
    {
      "cell_type": "markdown",
      "metadata": {
        "id": "sjmJsJXVE3Mo"
      },
      "source": [
        "## **Data Cleaning And Data Preprossing**"
      ]
    },
    {
      "cell_type": "markdown",
      "metadata": {
        "id": "Gqd4hyZ5FP9U"
      },
      "source": [
        "**Split Text Into Sentences**"
      ]
    },
    {
      "cell_type": "code",
      "execution_count": 61,
      "metadata": {
        "id": "OYdBGfAwd8N1",
        "colab": {
          "base_uri": "https://localhost:8080/"
        },
        "outputId": "15c81eec-224e-4d42-835e-a0d72a41bff6"
      },
      "outputs": [
        {
          "output_type": "stream",
          "name": "stdout",
          "text": [
            "['The economy of India is a middle income developing market economy.', \"[39] It is the world's fifth-largest economy by nominal GDP and the third-largest by purchasing power parity (PPP).\", 'According to the International Monetary Fund (IMF), on a per capita income basis, India ranked 142nd by GDP (nominal) and 128th by GDP (PPP).', '[40] From independence in 1947 until 1991, successive governments promoted protectionist economic policies, with extensive state intervention and economic regulation.', 'This is characterised as dirigism, in the form of the License Raj.', '[41][42] The end of the Cold War and an acute balance of payments crisis in 1991 led to the adoption of a broad economic liberalisation in India.', \"[43][44] Since the start of the 21st century, annual average GDP growth has been 6% to 7%,[39] and from 2013 to 2018, India was the world's fastest growing major economy, surpassing China.\", '[45][46] Historically, India was the largest economy in the world for most of the two millennia from the 1st until the 19th century.', '[47][48][49]\\r\\n\\r\\nThe long-term growth perspective of the Indian economy remains positive due to its young population and corresponding low dependency ratio, healthy savings, and investment rates, increasing globalisation in India and integration into the global economy.', '[50] The economy was slowed in 2017, due to the shocks of \"demonetisation\" in 2016 and the introduction of the Goods and Services Tax in 2017.', \"[51] Nearly 70% of India's GDP is driven by domestic private consumption.\", \"[52] The country remains the world's sixth-largest consumer market.\", \"[53] Apart from private consumption, India's GDP is also fueled by government spending, investments, and exports.\", \"[54] In 2020, pandemic had affected trade and India was the world's 14th-largest importer and the 21st-largest exporter.\", '[55] India has been a member of the World Trade Organization since 1 January 1995.', '[56] It ranks 63rd on the Ease of doing business index and 68th on the Global Competitiveness Report.', \"[57] Due to extreme rupee/dollar rate fluctuations India's nominal GDP too fluctuates significantly.\", \"[58] With 50 crore (500 million) workers, the Indian labour force is the world's second-largest.\", \"[59][60] India has one of the world's highest number of billionaires and extreme income inequality.\", '[61][62] Because of several exemptions, barely 2% of Indians pay income taxes.', '[63][64]\\r\\n\\r\\nDuring the 2008 global financial crisis, the economy faced a mild slowdown.', 'India undertook stimulus measures (both fiscal and monetary) to boost growth and generate demand.', 'In subsequent years, economic growth revived.', '[65] According to the World Bank, to achieve sustainable economic development, India must focus on public sector reform, infrastructure, agricultural and rural development, removal of land and labour regulations, financial inclusion, spur private investment and exports, education, and public health.', \"[66]\\r\\n\\r\\nIn 2020, India's ten largest trading partners were United States, China, United Arab Emirates (UAE), Saudi Arabia, Switzerland, Germany, Hong Kong, Indonesia, South Korea, and Malaysia.\", '[67] In 2019–20, the foreign direct investment (FDI) in India was $74.4 billion.', 'The leading sectors for FDI inflows were the service sector, the computer industry, and the telecom industry.', '[68] India has free trade agreements with several nations, including ASEAN, SAFTA, Mercosur, South Korea, Japan, and several others which are in effect or under negotiating stage.', '[69][70]\\r\\n\\r\\nThe service sector makes up 50% of GDP and remains the fastest growing sector, while the industrial sector and the agricultural sector employs a majority of the labor force.', \"[71] The Bombay Stock Exchange and National Stock Exchange are some of the world's largest stock exchanges by market capitalisation.\", \"[72] India is the world's sixth-largest manufacturer, representing 2.6% of global manufacturing output.\", \"[73] Nearly 66% of India's population is rural,[74] and contributes about 50% of India's GDP.\", \"[75] It has the world's fourth-largest foreign-exchange reserves worth $601.057 billion.\", '[38] India has a high public debt with 86% of GDP, while its fiscal deficit stood at 6.7% of GDP.', \"[76] India's government-owned banks faced mounting bad debt, resulting in low credit growth.\", '[50] Simultaneously, the NBFC sector has been engulfed in a liquidity crisis.', '[77] India faces moderate unemployment, rising income inequality, and a drop in aggregate demand.', \"[78][79] India's gross domestic savings rate stood at 30.1% of GDP in FY 2019.\", '[80] In recent years, independent economists and financial institutions have accused the government of manipulating various economic data, especially GDP growth.', \"[81][82]\\r\\n\\r\\nIndia is the world's largest manufacturer of generic drugs, and its pharmaceutical sector fulfills over 50% of the global demand for vaccines.\", '[83] The Indian IT industry is a major exporter of IT services with $196 billion in revenue and employs over 4.47 million people.', \"[84] India's chemical industry is extremely diversified and estimated at $178 billion.\", \"[85] The tourism industry contributes about 9.2% of India's GDP and employs over 4.2 crore (42 million) people.\", '[86] India ranks second globally in food and agricultural production, while agricultural exports were $35.09 billion.', '[75][87] The construction and real estate sector ranks third among the 14 major sectors in terms of direct, indirect, and induced effects in all sectors of the economy.', \"[88] The Indian textiles industry is estimated at $100 billion and contributes 13% of industrial output and 2.3% of India's GDP while employs over 4.5 crore (45 million) people directly.\", \"[89] India's telecommunication industry is the world's second largest by the number of mobile phone, smartphone, and internet users.\", \"It is the world's 24th-largest oil producer and the third-largest oil consumer.\", \"[90] The Indian automobile industry is the world's fifth-largest by production.\", \"[91][92] India has retail market worth $1.17 trillion, which contributes over 10% of India's GDP.\", \"It also has one of the world's fastest growing e-commerce markets.\", \"[93] India has the world's fourth-largest natural resources, with the mining sector contributing 11% of the country's industrial GDP and 2.5% of total GDP.\", \"[94] It is also the world's second-largest coal producer, the second-largest cement producer, the second-largest steel producer, and the third-largest electricity producer.\", '[95][96]']\n"
          ]
        }
      ],
      "source": [
        "from nltk import sent_tokenize\n",
        "sentences = sent_tokenize(text)\n",
        "print(sentences)"
      ]
    },
    {
      "cell_type": "markdown",
      "metadata": {
        "id": "SWJeSjuWFWNH"
      },
      "source": [
        "**Split Sentences Into Words**"
      ]
    },
    {
      "cell_type": "code",
      "execution_count": 62,
      "metadata": {
        "id": "LOS99Zs7d-gL"
      },
      "outputs": [],
      "source": [
        "# sentence_to_words=[]\n",
        "# for i in text_to_sentence[0:]:\n",
        "#     sentence_to_words.extend(i.split()) \n",
        "\n",
        "sentence_to_words=[]\n",
        "for i in sentences[0:]:\n",
        "  sentence_to_words.extend(i.split()) "
      ]
    },
    {
      "cell_type": "code",
      "execution_count": 63,
      "metadata": {
        "id": "XxHakhVieA5J"
      },
      "outputs": [],
      "source": [
        "tokens = [ w for w in sentence_to_words if w[0]!='[' and w[-1]!= ']' ]"
      ]
    },
    {
      "cell_type": "markdown",
      "metadata": {
        "id": "XdEJwfQWFehA"
      },
      "source": [
        "**Remove Punctuation**"
      ]
    },
    {
      "cell_type": "code",
      "execution_count": 64,
      "metadata": {
        "id": "eNYJ_Yz_eEJK"
      },
      "outputs": [],
      "source": [
        "remove_punctuation = string.punctuation\n",
        "remove_punctuation = remove_punctuation.replace(\".\", \"\")\n",
        "pattern = r\"[{}]\".format(re.escape(remove_punctuation))\n",
        "table = str.maketrans('', '', pattern)\n",
        "stripped = [w.translate(table) for w in tokens]"
      ]
    },
    {
      "cell_type": "markdown",
      "metadata": {
        "id": "zs7lcxpkFi63"
      },
      "source": [
        "**Join Words Into Sentences**"
      ]
    },
    {
      "cell_type": "code",
      "execution_count": 65,
      "metadata": {
        "id": "plcvPl41eG9a"
      },
      "outputs": [],
      "source": [
        "words_to_sentense=' '.join(stripped)"
      ]
    },
    {
      "cell_type": "code",
      "source": [
        "words_to_sentense"
      ],
      "metadata": {
        "id": "FKIZhU9JXULB",
        "colab": {
          "base_uri": "https://localhost:8080/",
          "height": 123
        },
        "outputId": "09271ea6-3435-43d1-996c-90c878f74f92"
      },
      "execution_count": 66,
      "outputs": [
        {
          "output_type": "execute_result",
          "data": {
            "text/plain": [
              "'The economy of India is a middle income developing market economy. It is the worlds fifthlargest economy by nominal GDP and the thirdlargest by purchasing power parity PPP. According to the International Monetary Fund IMF on a per capita income basis India ranked 142nd by GDP nominal and 128th by GDP PPP. From independence in 1947 until 1991 successive governments promoted protectionist economic policies with extensive state intervention and economic regulation. This is characterised as dirigism in the form of the License Raj. The end of the Cold War and an acute balance of payments crisis in 1991 led to the adoption of a broad economic liberalisation in India. Since the start of the 21st century annual average GDP growth has been 6 to and from 2013 to 2018 India was the worlds fastest growing major economy surpassing China. Historically India was the largest economy in the world for most of the two millennia from the 1st until the 19th century. The longterm growth perspective of the Indian economy remains positive due to its young population and corresponding low dependency ratio healthy savings and investment rates increasing globalisation in India and integration into the global economy. The economy was slowed in 2017 due to the shocks of demonetisation in 2016 and the introduction of the Goods and Services Tax in 2017. Nearly 70 of Indias GDP is driven by domestic private consumption. The country remains the worlds sixthlargest consumer market. Apart from private consumption Indias GDP is also fueled by government spending investments and exports. In 2020 pandemic had affected trade and India was the worlds 14thlargest importer and the 21stlargest exporter. India has been a member of the World Trade Organization since 1 January 1995. It ranks 63rd on the Ease of doing business index and 68th on the Global Competitiveness Report. Due to extreme rupeedollar rate fluctuations Indias nominal GDP too fluctuates significantly. With 50 crore 500 million workers the Indian labour force is the worlds secondlargest. India has one of the worlds highest number of billionaires and extreme income inequality. Because of several exemptions barely 2 of Indians pay income taxes. During the 2008 global financial crisis the economy faced a mild slowdown. India undertook stimulus measures both fiscal and monetary to boost growth and generate demand. In subsequent years economic growth revived. According to the World Bank to achieve sustainable economic development India must focus on public sector reform infrastructure agricultural and rural development removal of land and labour regulations financial inclusion spur private investment and exports education and public health. In 2020 Indias ten largest trading partners were United States China United Arab Emirates UAE Saudi Arabia Switzerland Germany Hong Kong Indonesia South Korea and Malaysia. In 2019–20 the foreign direct investment FDI in India was 74.4 billion. The leading sectors for FDI inflows were the service sector the computer industry and the telecom industry. India has free trade agreements with several nations including ASEAN SAFTA Mercosur South Korea Japan and several others which are in effect or under negotiating stage. The service sector makes up 50 of GDP and remains the fastest growing sector while the industrial sector and the agricultural sector employs a majority of the labor force. The Bombay Stock Exchange and National Stock Exchange are some of the worlds largest stock exchanges by market capitalisation. India is the worlds sixthlargest manufacturer representing 2.6 of global manufacturing output. Nearly 66 of Indias population is and contributes about 50 of Indias GDP. It has the worlds fourthlargest foreignexchange reserves worth 601.057 billion. India has a high public debt with 86 of GDP while its fiscal deficit stood at 6.7 of GDP. Indias governmentowned banks faced mounting bad debt resulting in low credit growth. Simultaneously the NBFC sector has been engulfed in a liquidity crisis. India faces moderate unemployment rising income inequality and a drop in aggregate demand. Indias gross domestic savings rate stood at 30.1 of GDP in FY 2019. In recent years independent economists and financial institutions have accused the government of manipulating various economic data especially GDP growth. India is the worlds largest manufacturer of generic drugs and its pharmaceutical sector fulfills over 50 of the global demand for vaccines. The Indian IT industry is a major exporter of IT services with 196 billion in revenue and employs over 4.47 million people. Indias chemical industry is extremely diversified and estimated at 178 billion. The tourism industry contributes about 9.2 of Indias GDP and employs over 4.2 crore 42 million people. India ranks second globally in food and agricultural production while agricultural exports were 35.09 billion. The construction and real estate sector ranks third among the 14 major sectors in terms of direct indirect and induced effects in all sectors of the economy. The Indian textiles industry is estimated at 100 billion and contributes 13 of industrial output and 2.3 of Indias GDP while employs over 4.5 crore 45 million people directly. Indias telecommunication industry is the worlds second largest by the number of mobile phone smartphone and internet users. It is the worlds 24thlargest oil producer and the thirdlargest oil consumer. The Indian automobile industry is the worlds fifthlargest by production. India has retail market worth 1.17 trillion which contributes over 10 of Indias GDP. It also has one of the worlds fastest growing ecommerce markets. India has the worlds fourthlargest natural resources with the mining sector contributing 11 of the countrys industrial GDP and 2.5 of total GDP. It is also the worlds secondlargest coal producer the secondlargest cement producer the secondlargest steel producer and the thirdlargest electricity producer.'"
            ],
            "application/vnd.google.colaboratory.intrinsic+json": {
              "type": "string"
            }
          },
          "metadata": {},
          "execution_count": 66
        }
      ]
    },
    {
      "cell_type": "markdown",
      "metadata": {
        "id": "NLhWq6qcFpXs"
      },
      "source": [
        "**Data Cleaning**"
      ]
    },
    {
      "cell_type": "code",
      "execution_count": 67,
      "metadata": {
        "id": "mxYj4sXCayur"
      },
      "outputs": [],
      "source": [
        "def clean_and_tag(paragraph):\n",
        "    para = re.sub(r'[^a-zA-Z0-9 .-]','',paragraph)\n",
        "    tags_dict_sentences = defaultdict(list)\n",
        "    for sentence in sent_tokenize(para):\n",
        "        temp_tags = pos_tag(word_tokenize(sentence))\n",
        "        tags_dict = defaultdict(list)\n",
        "        tags_dict_sentences[sentence] = tags_dict\n",
        "        for i in ((temp_tags)):\n",
        "            tags_dict[i[1]].append(i[0])\n",
        "    return tags_dict_sentences"
      ]
    },
    {
      "cell_type": "markdown",
      "metadata": {
        "id": "h20DqIFnFxlk"
      },
      "source": [
        "## **Generate Blanks**"
      ]
    },
    {
      "cell_type": "code",
      "execution_count": 68,
      "metadata": {
        "id": "dbsBscX8a0gF"
      },
      "outputs": [],
      "source": [
        "def replaceblank(word, sentence):\n",
        "    temp = re.compile(re.escape(word), re.IGNORECASE)\n",
        "    return temp.sub('__________________', sentence),sentence"
      ]
    },
    {
      "cell_type": "code",
      "execution_count": 69,
      "metadata": {
        "id": "oaL6hqCoa2s6"
      },
      "outputs": [],
      "source": [
        "\n",
        "def removeWord(sentence, tags_dict):\n",
        "    words = None\n",
        "    if 'NNP' in tags_dict:\n",
        "        words = tags_dict['NNP']\n",
        "    elif 'NN' in tags_dict:\n",
        "        words = tags_dict['NN']\n",
        "    else:\n",
        "        print(\"NN and NNP not found\")\n",
        "        return (None, sentence, None)\n",
        "    if len(words) > 0:\n",
        "        word = random.choice(words)\n",
        "        replaced = replaceblank(word, sentence)\n",
        "        return (word, sentence, replaced)\n",
        "    else:\n",
        "        print(\"words are empty\")\n",
        "        return (None, sentence, None),sentence"
      ]
    },
    {
      "cell_type": "code",
      "execution_count": 70,
      "metadata": {
        "id": "VQRT_SMGa4it"
      },
      "outputs": [],
      "source": [
        "def create_blanks(paragraph,num_of_blanks):\n",
        "    global tags_dict_sentences\n",
        "    tags_dict_sentences = clean_and_tag(paragraph)\n",
        "    # these many blanks are possible, as they can't be more than number of sentences\n",
        "    global possib_blanks\n",
        "    possib_blanks = len(list(tags_dict_sentences.keys()))\n",
        "    print(possib_blanks)\n",
        "    if possib_blanks> num_of_blanks:\n",
        "        # randomly shuffle the sentences\n",
        "        rand_sents = (list(tags_dict_sentences.keys()))\n",
        "        random.shuffle(rand_sents)\n",
        "        \n",
        "        #store the blanks in an array\n",
        "        global blanks_arr\n",
        "        blanks_arr = []\n",
        "        # number of prepared blanks and dummy variable to iterate through rand_sents\n",
        "        prepared_blanks = 0\n",
        "        i = 0\n",
        "        while prepared_blanks<num_of_blanks and (i<len(rand_sents)):\n",
        "            curr_sent_tags = tags_dict_sentences[rand_sents[i]]\n",
        "            (word, sentence, replaced) = removeWord(rand_sents[i], tags_dict_sentences[rand_sents[i]])\n",
        "            if replaced is not None:\n",
        "                blanks_arr.append([replaced,word])\n",
        "                i+=1\n",
        "                prepared_blanks+=1\n",
        "            else:\n",
        "                i+=1\n",
        "        if prepared_blanks<num_of_blanks:\n",
        "            print(\"sorry, couldn't form more than {} blanks\".format(prepared_blanks))\n",
        "        return blanks_arr\n",
        "    # the same as above but asking for input\n",
        "    else:\n",
        "        try:\n",
        "            num_of_blanks  = int(input('''number of blanks you want to create are more\n",
        "            than number of sentences, please give a number less than {}.  \n",
        "            if you want to quit, just press any key other than integer and enter\\n'''.format(\n",
        "            possib_blanks)))\n",
        "            if num_of_blanks<possib_blanks:\n",
        "                flag = 0\n",
        "                rand_sents = (list(tags_dict_sentences.keys()))\n",
        "                random.shuffle(rand_sents)\n",
        "                blanks_arr = []\n",
        "                prepared_blanks = 0\n",
        "                i = 0\n",
        "                while prepared_blanks<num_of_blanks and (i<len(rand_sents)):\n",
        "                    curr_sent_tags = tags_dict_sentences[rand_sents[i]]\n",
        "                    (word, sentence, replaced) = removeWord(rand_sents[i], tags_dict_sentences[rand_sents[i]])\n",
        "                    if replaced is not None:\n",
        "                        blanks_arr.append([replaced,word])\n",
        "                        i+=1\n",
        "                        prepared_blanks+=1\n",
        "                    else:\n",
        "                        i+=1\n",
        "                if prepared_blanks<num_of_blanks:\n",
        "                    print(\"sorry, couldn't form more than {} blanks\".format(prepared_blanks))\n",
        "                return blanks_arr\n",
        "        except:\n",
        "            print('quittin :(')\n",
        "            return None\n",
        "        "
      ]
    },
    {
      "cell_type": "markdown",
      "metadata": {
        "id": "ju8E6VOOF1BZ"
      },
      "source": [
        "**Take Input From Users locally**"
      ]
    },
    {
      "cell_type": "code",
      "execution_count": 71,
      "metadata": {
        "id": "GSDx_z559_FM"
      },
      "outputs": [],
      "source": [
        "generate_ques=int(number_of_question)"
      ]
    },
    {
      "cell_type": "markdown",
      "metadata": {
        "id": "eV7r_FRDF-C-"
      },
      "source": [
        "## **Total Generated Blanks**"
      ]
    },
    {
      "cell_type": "code",
      "execution_count": 72,
      "metadata": {
        "id": "beLAoQ_zbFLd",
        "colab": {
          "base_uri": "https://localhost:8080/"
        },
        "outputId": "c4466463-9940-4b08-8464-25e98dc47104"
      },
      "outputs": [
        {
          "output_type": "stream",
          "name": "stdout",
          "text": [
            "53\n"
          ]
        }
      ],
      "source": [
        "blanks = create_blanks(words_to_sentense,generate_ques)"
      ]
    },
    {
      "cell_type": "markdown",
      "metadata": {
        "id": "ibfwvAMoGDQZ"
      },
      "source": [
        "## **Generaed Blanks From Text**"
      ]
    },
    {
      "cell_type": "code",
      "execution_count": 73,
      "metadata": {
        "id": "S85zVFFjnJZy",
        "scrolled": true,
        "colab": {
          "base_uri": "https://localhost:8080/"
        },
        "outputId": "12640529-b108-4124-d058-120eb5a76599"
      },
      "outputs": [
        {
          "output_type": "stream",
          "name": "stdout",
          "text": [
            "53\n"
          ]
        },
        {
          "output_type": "execute_result",
          "data": {
            "text/plain": [
              "[[('Since the start of the 21st century annual average GDP growth has been 6 to and from 2013 to 2018 __________________ was the worlds fastest growing major economy surpassing China.',\n",
              "   'Since the start of the 21st century annual average GDP growth has been 6 to and from 2013 to 2018 India was the worlds fastest growing major economy surpassing China.'),\n",
              "  'India'],\n",
              " [('According to the World Bank to achieve sustainable economic development __________________ must focus on public sector reform infrastructure agricultural and rural development removal of land and labour regulations financial inclusion spur private investment and exports education and public health.',\n",
              "   'According to the World Bank to achieve sustainable economic development India must focus on public sector reform infrastructure agricultural and rural development removal of land and labour regulations financial inclusion spur private investment and exports education and public health.'),\n",
              "  'India'],\n",
              " [('It is the worlds fifthlargest economy by nominal __________________ and the thirdlargest by purchasing power parity PPP.',\n",
              "   'It is the worlds fifthlargest economy by nominal GDP and the thirdlargest by purchasing power parity PPP.'),\n",
              "  'GDP'],\n",
              " [('Because of several exemptions barely 2 of Indians pay __________________ taxes.',\n",
              "   'Because of several exemptions barely 2 of Indians pay income taxes.'),\n",
              "  'income'],\n",
              " [('During the 2008 global financial crisis the economy faced a mild __________________.',\n",
              "   'During the 2008 global financial crisis the economy faced a mild slowdown.'),\n",
              "  'slowdown'],\n",
              " [('The economy was slowed in 2017 due to the shocks of demonetisation in 2016 and the introduction of the Goods and Services __________________ in 2017.',\n",
              "   'The economy was slowed in 2017 due to the shocks of demonetisation in 2016 and the introduction of the Goods and Services Tax in 2017.'),\n",
              "  'Tax'],\n",
              " [('__________________ is the worlds sixthlargest manufacturer representing 2.6 of global manufacturing output.',\n",
              "   'India is the worlds sixthlargest manufacturer representing 2.6 of global manufacturing output.'),\n",
              "  'India'],\n",
              " [('Historically __________________ was the largest economy in the world for most of the two millennia from the 1st until the 19th century.',\n",
              "   'Historically India was the largest economy in the world for most of the two millennia from the 1st until the 19th century.'),\n",
              "  'India'],\n",
              " [('__________________ has been a member of the World Trade Organization since 1 January 1995.',\n",
              "   'India has been a member of the World Trade Organization since 1 January 1995.'),\n",
              "  'India'],\n",
              " [('__________________ telecommunication industry is the worlds second largest by the number of mobile phone smartphone and internet users.',\n",
              "   'Indias telecommunication industry is the worlds second largest by the number of mobile phone smartphone and internet users.'),\n",
              "  'Indias'],\n",
              " [('The country remains the worlds sixthlargest __________________ market.',\n",
              "   'The country remains the worlds sixthlargest consumer market.'),\n",
              "  'consumer'],\n",
              " [('In subsequent years economic __________________ revived.',\n",
              "   'In subsequent years economic growth revived.'),\n",
              "  'growth'],\n",
              " [('It is also the worlds secondlargest coal __________________ the secondlargest cement __________________ the secondlargest steel __________________ and the thirdlargest electricity __________________.',\n",
              "   'It is also the worlds secondlargest coal producer the secondlargest cement producer the secondlargest steel producer and the thirdlargest electricity producer.'),\n",
              "  'producer'],\n",
              " [('The economy of __________________ is a middle income developing market economy.',\n",
              "   'The economy of India is a middle income developing market economy.'),\n",
              "  'India'],\n",
              " [('The longterm growth perspective of the __________________n economy remains positive due to its young population and corresponding low dependency ratio healthy savings and investment rates increasing globalisation in __________________ and integration into the global economy.',\n",
              "   'The longterm growth perspective of the Indian economy remains positive due to its young population and corresponding low dependency ratio healthy savings and investment rates increasing globalisation in India and integration into the global economy.'),\n",
              "  'India'],\n",
              " [('In 2020 Indias ten largest trading partners were United States China United Arab Emirates UAE Saudi Arabia Switzerland Germany Hong Kong Indonesia __________________ Korea and Malaysia.',\n",
              "   'In 2020 Indias ten largest trading partners were United States China United Arab Emirates UAE Saudi Arabia Switzerland Germany Hong Kong Indonesia South Korea and Malaysia.'),\n",
              "  'South'],\n",
              " [('__________________ has one of the worlds highest number of billionaires and extreme income inequality.',\n",
              "   'India has one of the worlds highest number of billionaires and extreme income inequality.'),\n",
              "  'India'],\n",
              " [('Simultaneously the __________________ sector has been engulfed in a liquidity crisis.',\n",
              "   'Simultaneously the NBFC sector has been engulfed in a liquidity crisis.'),\n",
              "  'NBFC'],\n",
              " [('In recent years independent economists and financial institutions have accused the government of manipulating various economic data especially __________________ growth.',\n",
              "   'In recent years independent economists and financial institutions have accused the government of manipulating various economic data especially GDP growth.'),\n",
              "  'GDP'],\n",
              " [('The Indian __________________ industry is a major exporter of __________________ services w__________________h 196 billion in revenue and employs over 4.47 million people.',\n",
              "   'The Indian IT industry is a major exporter of IT services with 196 billion in revenue and employs over 4.47 million people.'),\n",
              "  'IT'],\n",
              " [('It ranks 63rd on the Ease of doing business index and 68th on the Global Competitiveness __________________.',\n",
              "   'It ranks 63rd on the Ease of doing business index and 68th on the Global Competitiveness Report.'),\n",
              "  'Report'],\n",
              " [('India has a high public debt with 86 of __________________ while its fiscal deficit stood at 6.7 of __________________.',\n",
              "   'India has a high public debt with 86 of GDP while its fiscal deficit stood at 6.7 of GDP.'),\n",
              "  'GDP'],\n",
              " [('This is characterised as dirigism in the form of the __________________ Raj.',\n",
              "   'This is characterised as dirigism in the form of the License Raj.'),\n",
              "  'License'],\n",
              " [('__________________ governmentowned banks faced mounting bad debt resulting in low credit growth.',\n",
              "   'Indias governmentowned banks faced mounting bad debt resulting in low credit growth.'),\n",
              "  'Indias'],\n",
              " [('The Indian automobile __________________ is the worlds fifthlargest by production.',\n",
              "   'The Indian automobile industry is the worlds fifthlargest by production.'),\n",
              "  'industry'],\n",
              " [('__________________ ranks second globally in food and agricultural production while agricultural exports were 35.09 billion.',\n",
              "   'India ranks second globally in food and agricultural production while agricultural exports were 35.09 billion.'),\n",
              "  'India'],\n",
              " [('India has the worlds fourthlargest natural resources with the mining sector contributing 11 of the countrys industrial __________________ and 2.5 of total __________________.',\n",
              "   'India has the worlds fourthlargest natural resources with the mining sector contributing 11 of the countrys industrial GDP and 2.5 of total GDP.'),\n",
              "  'GDP'],\n",
              " [('Apart from private consumption __________________ GDP is also fueled by government spending investments and exports.',\n",
              "   'Apart from private consumption Indias GDP is also fueled by government spending investments and exports.'),\n",
              "  'Indias'],\n",
              " [('India has free trade agreements with several nations including ASEAN __________________ Mercosur South Korea Japan and several others which are in effect or under negotiating stage.',\n",
              "   'India has free trade agreements with several nations including ASEAN SAFTA Mercosur South Korea Japan and several others which are in effect or under negotiating stage.'),\n",
              "  'SAFTA'],\n",
              " [('The end of the __________________ War and an acute balance of payments crisis in 1991 led to the adoption of a broad economic liberalisation in India.',\n",
              "   'The end of the Cold War and an acute balance of payments crisis in 1991 led to the adoption of a broad economic liberalisation in India.'),\n",
              "  'Cold'],\n",
              " [('From independence in 1947 until 1991 successive governments promoted protectionist economic policies with extensive __________________ intervention and economic regulation.',\n",
              "   'From independence in 1947 until 1991 successive governments promoted protectionist economic policies with extensive state intervention and economic regulation.'),\n",
              "  'state'],\n",
              " [('Indias gross domestic savings rate stood at 30.1 of __________________ in FY 2019.',\n",
              "   'Indias gross domestic savings rate stood at 30.1 of GDP in FY 2019.'),\n",
              "  'GDP'],\n",
              " [('Nearly 70 of __________________ GDP is driven by domestic private consumption.',\n",
              "   'Nearly 70 of Indias GDP is driven by domestic private consumption.'),\n",
              "  'Indias'],\n",
              " [('__________________ is the worlds largest manufacturer of generic drugs and its pharmaceutical sector fulfills over 50 of the global demand for vaccines.',\n",
              "   'India is the worlds largest manufacturer of generic drugs and its pharmaceutical sector fulfills over 50 of the global demand for vaccines.'),\n",
              "  'India'],\n",
              " [('Nearly 66 of __________________ population is and contributes about 50 of __________________ GDP.',\n",
              "   'Nearly 66 of Indias population is and contributes about 50 of Indias GDP.'),\n",
              "  'Indias'],\n",
              " [('__________________ chemical industry is extremely diversified and estimated at 178 billion.',\n",
              "   'Indias chemical industry is extremely diversified and estimated at 178 billion.'),\n",
              "  'Indias'],\n",
              " [('It also has one of the worlds fastest growing __________________ markets.',\n",
              "   'It also has one of the worlds fastest growing ecommerce markets.'),\n",
              "  'ecommerce'],\n",
              " [('In 201920 the foreign direct investment __________________ in India was 74.4 billion.',\n",
              "   'In 201920 the foreign direct investment FDI in India was 74.4 billion.'),\n",
              "  'FDI'],\n",
              " [('The service sector makes up 50 of __________________ and remains the fastest growing sector while the industrial sector and the agricultural sector employs a majority of the labor force.',\n",
              "   'The service sector makes up 50 of GDP and remains the fastest growing sector while the industrial sector and the agricultural sector employs a majority of the labor force.'),\n",
              "  'GDP'],\n",
              " [('__________________ undertook stimulus measures both fiscal and monetary to boost growth and generate demand.',\n",
              "   'India undertook stimulus measures both fiscal and monetary to boost growth and generate demand.'),\n",
              "  'India'],\n",
              " [('The Bombay Stock Exchange and __________________ Stock Exchange are some of the worlds largest stock exchanges by market capitalisation.',\n",
              "   'The Bombay Stock Exchange and National Stock Exchange are some of the worlds largest stock exchanges by market capitalisation.'),\n",
              "  'National'],\n",
              " [('Due to extreme rupeedollar rate fluctuations __________________ nominal GDP too fluctuates significantly.',\n",
              "   'Due to extreme rupeedollar rate fluctuations Indias nominal GDP too fluctuates significantly.'),\n",
              "  'Indias'],\n",
              " [('It has the worlds fourthlargest __________________ reserves worth 601.057 billion.',\n",
              "   'It has the worlds fourthlargest foreignexchange reserves worth 601.057 billion.'),\n",
              "  'foreignexchange'],\n",
              " [('With 50 crore 500 million workers the Indian labour __________________ is the worlds secondlargest.',\n",
              "   'With 50 crore 500 million workers the Indian labour force is the worlds secondlargest.'),\n",
              "  'force'],\n",
              " [('The leading sectors for __________________ inflows were the service sector the computer industry and the telecom industry.',\n",
              "   'The leading sectors for FDI inflows were the service sector the computer industry and the telecom industry.'),\n",
              "  'FDI'],\n",
              " [('In 2020 pandemic had affected trade and __________________ was the worlds 14thlargest importer and the 21stlargest exporter.',\n",
              "   'In 2020 pandemic had affected trade and India was the worlds 14thlargest importer and the 21stlargest exporter.'),\n",
              "  'India'],\n",
              " [('The tourism industry contributes about 9.2 of Indias __________________ and employs over 4.2 crore 42 million people.',\n",
              "   'The tourism industry contributes about 9.2 of Indias GDP and employs over 4.2 crore 42 million people.'),\n",
              "  'GDP'],\n",
              " [('The Indian textiles industry is estimated at 100 billion and contributes 13 of industrial output and 2.3 of Indias __________________ while employs over 4.5 crore 45 million people directly.',\n",
              "   'The Indian textiles industry is estimated at 100 billion and contributes 13 of industrial output and 2.3 of Indias GDP while employs over 4.5 crore 45 million people directly.'),\n",
              "  'GDP'],\n",
              " [('It is the worlds 24thlargest oil __________________ and the thirdlargest oil consumer.',\n",
              "   'It is the worlds 24thlargest oil producer and the thirdlargest oil consumer.'),\n",
              "  'producer'],\n",
              " [('India has retail market worth 1.17 trillion which contributes over 10 of __________________ GDP.',\n",
              "   'India has retail market worth 1.17 trillion which contributes over 10 of Indias GDP.'),\n",
              "  'Indias'],\n",
              " [('__________________ faces moderate unemployment rising income inequality and a drop in aggregate demand.',\n",
              "   'India faces moderate unemployment rising income inequality and a drop in aggregate demand.'),\n",
              "  'India'],\n",
              " [('The construction and real __________________ sector ranks third among the 14 major sectors in terms of direct indirect and induced effects in all sectors of the economy.',\n",
              "   'The construction and real estate sector ranks third among the 14 major sectors in terms of direct indirect and induced effects in all sectors of the economy.'),\n",
              "  'estate']]"
            ]
          },
          "metadata": {},
          "execution_count": 73
        }
      ],
      "source": [
        "generated_blanks=[]\n",
        "all_blanks = create_blanks(words_to_sentense,(possib_blanks-1))\n",
        "for blank in all_blanks:\n",
        "    generated_blanks.append(blank)\n",
        "generated_blanks"
      ]
    },
    {
      "cell_type": "code",
      "execution_count": 74,
      "metadata": {
        "id": "XQX842jB2ocl"
      },
      "outputs": [],
      "source": [
        "generated_answer = [{'question': l[0][0], 'context':l[0][1],'answer': l[1]} for l in generated_blanks]"
      ]
    },
    {
      "cell_type": "markdown",
      "metadata": {
        "id": "r35RzOeXGPe6"
      },
      "source": [
        "## **Remove Duplicate Blanks**"
      ]
    },
    {
      "cell_type": "code",
      "execution_count": 75,
      "metadata": {
        "id": "YXyfx3NioAJc"
      },
      "outputs": [],
      "source": [
        "new_questions = []\n",
        "for i in generated_answer:\n",
        "    if i not in new_questions:\n",
        "        new_questions.append(i)"
      ]
    },
    {
      "cell_type": "code",
      "execution_count": 76,
      "metadata": {
        "id": "6-gg88c6AhaA"
      },
      "outputs": [],
      "source": [
        "scoring = []\n",
        "for i in new_questions:\n",
        "  #e=list(i.keys())[2]\n",
        "   e=i.get(\"context\")\n",
        "   scoring.append(e)\n",
        "   "
      ]
    },
    {
      "cell_type": "code",
      "execution_count": 77,
      "metadata": {
        "id": "UI58Ua70Aoe0",
        "scrolled": true,
        "colab": {
          "base_uri": "https://localhost:8080/"
        },
        "outputId": "75a632a9-b927-45bc-e06f-d97f57b73467"
      },
      "outputs": [
        {
          "output_type": "stream",
          "name": "stderr",
          "text": [
            "No model was supplied, defaulted to distilbert-base-cased-distilled-squad and revision 626af31 (https://huggingface.co/distilbert-base-cased-distilled-squad).\n",
            "Using a pipeline without specifying a model name and revision in production is not recommended.\n"
          ]
        }
      ],
      "source": [
        "from transformers import pipeline\n",
        "\n",
        "question_answerer = pipeline(\"question-answering\")\n",
        "context = words_to_sentense\n",
        "de=[]\n",
        "for i in scoring:\n",
        "  d = question_answerer(question=i, context=context)\n",
        "  e=d.get(\"score\")\n",
        "  e_updated=1-float(e)\n",
        "  accuracy_score=\"%.2f\" % round(e_updated*100, 6)\n",
        "  de.append(accuracy_score)"
      ]
    },
    {
      "cell_type": "code",
      "execution_count": 78,
      "metadata": {
        "id": "GH1j3czeAq9i"
      },
      "outputs": [],
      "source": [
        "for option_index, option in enumerate(new_questions):\n",
        "    option[\"rank\"] = float(de[option_index])"
      ]
    },
    {
      "cell_type": "code",
      "execution_count": 79,
      "metadata": {
        "id": "R5NmQgmHdaG4"
      },
      "outputs": [],
      "source": [
        "final_generated_questions = sorted(new_questions, key=lambda i: i['rank'], reverse=True)"
      ]
    },
    {
      "cell_type": "code",
      "source": [
        "wrong_blank = []\n",
        "right_blank = []\n",
        "for i in final_generated_questions:\n",
        "    quest = i.get(\"question\")\n",
        "    if quest[0]=='_' or quest[-2]=='_':\n",
        "        wrong_blank.append(i)\n",
        "    else:\n",
        "        right_blank.append(i)"
      ],
      "metadata": {
        "id": "Eg3TXWz_TTY-"
      },
      "execution_count": 80,
      "outputs": []
    },
    {
      "cell_type": "markdown",
      "metadata": {
        "id": "t0_e851rdaG5"
      },
      "source": [
        "## Question seperation based on user input"
      ]
    },
    {
      "cell_type": "code",
      "source": [
        "reduced_wrong_blank = []\n",
        "for i in wrong_blank:\n",
        "  rank = (i['rank'] - 20.00)\n",
        "  round_up = float(\"%.2f\" % round(rank, 6))\n",
        "  if i['rank']  <= 20:\n",
        "    reduced_wrong_blank.append({'question': i['question'], 'answer':i['answer'], 'context': i['context'], 'rank' : i['rank']})\n",
        "  else:\n",
        "    reduced_wrong_blank.append({'question': i['question'], 'answer':i['answer'], 'context': i['context'], 'rank' : round_up})"
      ],
      "metadata": {
        "id": "raabkJtjTblU"
      },
      "execution_count": 81,
      "outputs": []
    },
    {
      "cell_type": "code",
      "source": [
        "final_required_data = right_blank + reduced_wrong_blank\n",
        "final_data = sorted(final_required_data, key=lambda i: i['rank'],reverse=True)"
      ],
      "metadata": {
        "id": "7JfU6HiAkLmY"
      },
      "execution_count": 82,
      "outputs": []
    },
    {
      "cell_type": "code",
      "execution_count": 83,
      "metadata": {
        "id": "xEbjLOm5daG5"
      },
      "outputs": [],
      "source": [
        "if generate_ques > len(new_questions) or generate_ques == 0:\n",
        "    print(\"please give value between 1 to {}\".format(len(new_questions)))\n",
        "else:\n",
        "    middle_index = generate_ques\n",
        "    user_required_questions = final_data[:middle_index]\n",
        "    other_questions = final_data[middle_index:]\n",
        "\n",
        "    \n",
        "    for question_index, question in enumerate(user_required_questions):\n",
        "      question[\"question_id\"]= question_index +1\n",
        "\n",
        "    for question_index, question in enumerate(other_questions):\n",
        "      question[\"question_id\"]= question_index +1"
      ]
    },
    {
      "cell_type": "code",
      "execution_count": 84,
      "metadata": {
        "id": "XMmdy-XbTytT"
      },
      "outputs": [],
      "source": [
        "end = time.time()"
      ]
    },
    {
      "cell_type": "code",
      "execution_count": 85,
      "metadata": {
        "id": "1U9iAoJJT3Mr"
      },
      "outputs": [],
      "source": [
        "dt1 = datetime.fromtimestamp(start)\n",
        "dt2 = datetime.fromtimestamp(end)\n",
        "total_time = dt2 - dt1"
      ]
    },
    {
      "cell_type": "markdown",
      "metadata": {
        "id": "kbbTpG6uGXWj"
      },
      "source": [
        "## **Final Output , User Validation & Post Generated Questions**"
      ]
    },
    {
      "cell_type": "code",
      "execution_count": 86,
      "metadata": {
        "id": "rmULjmvJ5Rcs"
      },
      "outputs": [],
      "source": [
        "url=\"https://generate-questions.devbyopeneyes.com/api/GenerateQuestions\" \n",
        "headers = {'Content-Type':'application/json','Accept':'application/json'}\n",
        "post_array ={\n",
        "    \"id\" : _id,\n",
        "    \"questions\" : user_required_questions,\n",
        "    \"other_questions\" : other_questions,\n",
        "    \"upload_process_time\": str(total_time)\n",
        "}\n",
        "status = requests.post(url,headers=headers,data=json.dumps(post_array))"
      ]
    },
    {
      "cell_type": "code",
      "source": [
        "post_array"
      ],
      "metadata": {
        "id": "15IuMMah1Jlo",
        "colab": {
          "base_uri": "https://localhost:8080/"
        },
        "outputId": "0bd6e551-3fce-4d09-ad95-36064ee25c29"
      },
      "execution_count": 87,
      "outputs": [
        {
          "output_type": "execute_result",
          "data": {
            "text/plain": [
              "{'id': '633d5a3b70698dbd9d0a54a2',\n",
              " 'questions': [{'question': 'The tourism industry contributes about 9.2 of Indias __________________ and employs over 4.2 crore 42 million people.',\n",
              "   'context': 'The tourism industry contributes about 9.2 of Indias GDP and employs over 4.2 crore 42 million people.',\n",
              "   'answer': 'GDP',\n",
              "   'rank': 99.81,\n",
              "   'question_id': 1},\n",
              "  {'question': 'Due to extreme rupeedollar rate fluctuations __________________ nominal GDP too fluctuates significantly.',\n",
              "   'context': 'Due to extreme rupeedollar rate fluctuations Indias nominal GDP too fluctuates significantly.',\n",
              "   'answer': 'Indias',\n",
              "   'rank': 99.06,\n",
              "   'question_id': 2},\n",
              "  {'question': 'The longterm growth perspective of the __________________n economy remains positive due to its young population and corresponding low dependency ratio healthy savings and investment rates increasing globalisation in __________________ and integration into the global economy.',\n",
              "   'context': 'The longterm growth perspective of the Indian economy remains positive due to its young population and corresponding low dependency ratio healthy savings and investment rates increasing globalisation in India and integration into the global economy.',\n",
              "   'answer': 'India',\n",
              "   'rank': 99.05,\n",
              "   'question_id': 3},\n",
              "  {'question': 'The economy of __________________ is a middle income developing market economy.',\n",
              "   'context': 'The economy of India is a middle income developing market economy.',\n",
              "   'answer': 'India',\n",
              "   'rank': 98.61,\n",
              "   'question_id': 4},\n",
              "  {'question': 'From independence in 1947 until 1991 successive governments promoted protectionist economic policies with extensive __________________ intervention and economic regulation.',\n",
              "   'context': 'From independence in 1947 until 1991 successive governments promoted protectionist economic policies with extensive state intervention and economic regulation.',\n",
              "   'answer': 'state',\n",
              "   'rank': 97.77,\n",
              "   'question_id': 5}],\n",
              " 'other_questions': [{'question': 'According to the World Bank to achieve sustainable economic development __________________ must focus on public sector reform infrastructure agricultural and rural development removal of land and labour regulations financial inclusion spur private investment and exports education and public health.',\n",
              "   'context': 'According to the World Bank to achieve sustainable economic development India must focus on public sector reform infrastructure agricultural and rural development removal of land and labour regulations financial inclusion spur private investment and exports education and public health.',\n",
              "   'answer': 'India',\n",
              "   'rank': 97.6,\n",
              "   'question_id': 1},\n",
              "  {'question': 'It is the worlds fifthlargest economy by nominal __________________ and the thirdlargest by purchasing power parity PPP.',\n",
              "   'context': 'It is the worlds fifthlargest economy by nominal GDP and the thirdlargest by purchasing power parity PPP.',\n",
              "   'answer': 'GDP',\n",
              "   'rank': 97.4,\n",
              "   'question_id': 2},\n",
              "  {'question': 'In 2020 Indias ten largest trading partners were United States China United Arab Emirates UAE Saudi Arabia Switzerland Germany Hong Kong Indonesia __________________ Korea and Malaysia.',\n",
              "   'context': 'In 2020 Indias ten largest trading partners were United States China United Arab Emirates UAE Saudi Arabia Switzerland Germany Hong Kong Indonesia South Korea and Malaysia.',\n",
              "   'answer': 'South',\n",
              "   'rank': 97.35,\n",
              "   'question_id': 3},\n",
              "  {'question': 'Simultaneously the __________________ sector has been engulfed in a liquidity crisis.',\n",
              "   'context': 'Simultaneously the NBFC sector has been engulfed in a liquidity crisis.',\n",
              "   'answer': 'NBFC',\n",
              "   'rank': 97.13,\n",
              "   'question_id': 4},\n",
              "  {'question': 'This is characterised as dirigism in the form of the __________________ Raj.',\n",
              "   'context': 'This is characterised as dirigism in the form of the License Raj.',\n",
              "   'answer': 'License',\n",
              "   'rank': 96.02,\n",
              "   'question_id': 5},\n",
              "  {'question': 'In subsequent years economic __________________ revived.',\n",
              "   'context': 'In subsequent years economic growth revived.',\n",
              "   'answer': 'growth',\n",
              "   'rank': 95.41,\n",
              "   'question_id': 6},\n",
              "  {'question': 'The Bombay Stock Exchange and __________________ Stock Exchange are some of the worlds largest stock exchanges by market capitalisation.',\n",
              "   'context': 'The Bombay Stock Exchange and National Stock Exchange are some of the worlds largest stock exchanges by market capitalisation.',\n",
              "   'answer': 'National',\n",
              "   'rank': 94.7,\n",
              "   'question_id': 7},\n",
              "  {'question': 'India has retail market worth 1.17 trillion which contributes over 10 of __________________ GDP.',\n",
              "   'context': 'India has retail market worth 1.17 trillion which contributes over 10 of Indias GDP.',\n",
              "   'answer': 'Indias',\n",
              "   'rank': 94.67,\n",
              "   'question_id': 8},\n",
              "  {'question': 'The economy was slowed in 2017 due to the shocks of demonetisation in 2016 and the introduction of the Goods and Services __________________ in 2017.',\n",
              "   'context': 'The economy was slowed in 2017 due to the shocks of demonetisation in 2016 and the introduction of the Goods and Services Tax in 2017.',\n",
              "   'answer': 'Tax',\n",
              "   'rank': 94.6,\n",
              "   'question_id': 9},\n",
              "  {'question': 'India has free trade agreements with several nations including ASEAN __________________ Mercosur South Korea Japan and several others which are in effect or under negotiating stage.',\n",
              "   'context': 'India has free trade agreements with several nations including ASEAN SAFTA Mercosur South Korea Japan and several others which are in effect or under negotiating stage.',\n",
              "   'answer': 'SAFTA',\n",
              "   'rank': 93.91,\n",
              "   'question_id': 10},\n",
              "  {'question': 'It also has one of the worlds fastest growing __________________ markets.',\n",
              "   'context': 'It also has one of the worlds fastest growing ecommerce markets.',\n",
              "   'answer': 'ecommerce',\n",
              "   'rank': 93.12,\n",
              "   'question_id': 11},\n",
              "  {'question': 'In 2020 pandemic had affected trade and __________________ was the worlds 14thlargest importer and the 21stlargest exporter.',\n",
              "   'context': 'In 2020 pandemic had affected trade and India was the worlds 14thlargest importer and the 21stlargest exporter.',\n",
              "   'answer': 'India',\n",
              "   'rank': 90.95,\n",
              "   'question_id': 12},\n",
              "  {'question': 'In recent years independent economists and financial institutions have accused the government of manipulating various economic data especially __________________ growth.',\n",
              "   'context': 'In recent years independent economists and financial institutions have accused the government of manipulating various economic data especially GDP growth.',\n",
              "   'answer': 'GDP',\n",
              "   'rank': 89.28,\n",
              "   'question_id': 13},\n",
              "  {'question': 'The Indian automobile __________________ is the worlds fifthlargest by production.',\n",
              "   'context': 'The Indian automobile industry is the worlds fifthlargest by production.',\n",
              "   'answer': 'industry',\n",
              "   'rank': 88.64,\n",
              "   'question_id': 14},\n",
              "  {'question': 'The construction and real __________________ sector ranks third among the 14 major sectors in terms of direct indirect and induced effects in all sectors of the economy.',\n",
              "   'context': 'The construction and real estate sector ranks third among the 14 major sectors in terms of direct indirect and induced effects in all sectors of the economy.',\n",
              "   'answer': 'estate',\n",
              "   'rank': 88.01,\n",
              "   'question_id': 15},\n",
              "  {'question': 'Nearly 66 of __________________ population is and contributes about 50 of __________________ GDP.',\n",
              "   'context': 'Nearly 66 of Indias population is and contributes about 50 of Indias GDP.',\n",
              "   'answer': 'Indias',\n",
              "   'rank': 87.96,\n",
              "   'question_id': 16},\n",
              "  {'question': 'The Indian textiles industry is estimated at 100 billion and contributes 13 of industrial output and 2.3 of Indias __________________ while employs over 4.5 crore 45 million people directly.',\n",
              "   'context': 'The Indian textiles industry is estimated at 100 billion and contributes 13 of industrial output and 2.3 of Indias GDP while employs over 4.5 crore 45 million people directly.',\n",
              "   'answer': 'GDP',\n",
              "   'rank': 87.8,\n",
              "   'question_id': 17},\n",
              "  {'question': 'Indias gross domestic savings rate stood at 30.1 of __________________ in FY 2019.',\n",
              "   'context': 'Indias gross domestic savings rate stood at 30.1 of GDP in FY 2019.',\n",
              "   'answer': 'GDP',\n",
              "   'rank': 87.46,\n",
              "   'question_id': 18},\n",
              "  {'question': 'Because of several exemptions barely 2 of Indians pay __________________ taxes.',\n",
              "   'context': 'Because of several exemptions barely 2 of Indians pay income taxes.',\n",
              "   'answer': 'income',\n",
              "   'rank': 86.32,\n",
              "   'question_id': 19},\n",
              "  {'question': 'It is the worlds 24thlargest oil __________________ and the thirdlargest oil consumer.',\n",
              "   'context': 'It is the worlds 24thlargest oil producer and the thirdlargest oil consumer.',\n",
              "   'answer': 'producer',\n",
              "   'rank': 85.81,\n",
              "   'question_id': 20},\n",
              "  {'question': 'The end of the __________________ War and an acute balance of payments crisis in 1991 led to the adoption of a broad economic liberalisation in India.',\n",
              "   'context': 'The end of the Cold War and an acute balance of payments crisis in 1991 led to the adoption of a broad economic liberalisation in India.',\n",
              "   'answer': 'Cold',\n",
              "   'rank': 83.94,\n",
              "   'question_id': 21},\n",
              "  {'question': 'Apart from private consumption __________________ GDP is also fueled by government spending investments and exports.',\n",
              "   'context': 'Apart from private consumption Indias GDP is also fueled by government spending investments and exports.',\n",
              "   'answer': 'Indias',\n",
              "   'rank': 80.17,\n",
              "   'question_id': 22},\n",
              "  {'question': 'It is also the worlds secondlargest coal __________________ the secondlargest cement __________________ the secondlargest steel __________________ and the thirdlargest electricity __________________.',\n",
              "   'answer': 'producer',\n",
              "   'context': 'It is also the worlds secondlargest coal producer the secondlargest cement producer the secondlargest steel producer and the thirdlargest electricity producer.',\n",
              "   'rank': 79.99,\n",
              "   'question_id': 23},\n",
              "  {'question': '__________________ governmentowned banks faced mounting bad debt resulting in low credit growth.',\n",
              "   'answer': 'Indias',\n",
              "   'context': 'Indias governmentowned banks faced mounting bad debt resulting in low credit growth.',\n",
              "   'rank': 77.9,\n",
              "   'question_id': 24},\n",
              "  {'question': 'The service sector makes up 50 of __________________ and remains the fastest growing sector while the industrial sector and the agricultural sector employs a majority of the labor force.',\n",
              "   'context': 'The service sector makes up 50 of GDP and remains the fastest growing sector while the industrial sector and the agricultural sector employs a majority of the labor force.',\n",
              "   'answer': 'GDP',\n",
              "   'rank': 77.71,\n",
              "   'question_id': 25},\n",
              "  {'question': 'With 50 crore 500 million workers the Indian labour __________________ is the worlds secondlargest.',\n",
              "   'context': 'With 50 crore 500 million workers the Indian labour force is the worlds secondlargest.',\n",
              "   'answer': 'force',\n",
              "   'rank': 76.86,\n",
              "   'question_id': 26},\n",
              "  {'question': 'During the 2008 global financial crisis the economy faced a mild __________________.',\n",
              "   'answer': 'slowdown',\n",
              "   'context': 'During the 2008 global financial crisis the economy faced a mild slowdown.',\n",
              "   'rank': 73.54,\n",
              "   'question_id': 27},\n",
              "  {'question': '__________________ undertook stimulus measures both fiscal and monetary to boost growth and generate demand.',\n",
              "   'answer': 'India',\n",
              "   'context': 'India undertook stimulus measures both fiscal and monetary to boost growth and generate demand.',\n",
              "   'rank': 71.36,\n",
              "   'question_id': 28},\n",
              "  {'question': 'Historically __________________ was the largest economy in the world for most of the two millennia from the 1st until the 19th century.',\n",
              "   'context': 'Historically India was the largest economy in the world for most of the two millennia from the 1st until the 19th century.',\n",
              "   'answer': 'India',\n",
              "   'rank': 71.25,\n",
              "   'question_id': 29},\n",
              "  {'question': 'It ranks 63rd on the Ease of doing business index and 68th on the Global Competitiveness __________________.',\n",
              "   'answer': 'Report',\n",
              "   'context': 'It ranks 63rd on the Ease of doing business index and 68th on the Global Competitiveness Report.',\n",
              "   'rank': 71.21,\n",
              "   'question_id': 30},\n",
              "  {'question': 'India has a high public debt with 86 of __________________ while its fiscal deficit stood at 6.7 of __________________.',\n",
              "   'answer': 'GDP',\n",
              "   'context': 'India has a high public debt with 86 of GDP while its fiscal deficit stood at 6.7 of GDP.',\n",
              "   'rank': 70.74,\n",
              "   'question_id': 31},\n",
              "  {'question': 'The leading sectors for __________________ inflows were the service sector the computer industry and the telecom industry.',\n",
              "   'context': 'The leading sectors for FDI inflows were the service sector the computer industry and the telecom industry.',\n",
              "   'answer': 'FDI',\n",
              "   'rank': 70.39,\n",
              "   'question_id': 32},\n",
              "  {'question': '__________________ telecommunication industry is the worlds second largest by the number of mobile phone smartphone and internet users.',\n",
              "   'answer': 'Indias',\n",
              "   'context': 'Indias telecommunication industry is the worlds second largest by the number of mobile phone smartphone and internet users.',\n",
              "   'rank': 68.17,\n",
              "   'question_id': 33},\n",
              "  {'question': 'Since the start of the 21st century annual average GDP growth has been 6 to and from 2013 to 2018 __________________ was the worlds fastest growing major economy surpassing China.',\n",
              "   'context': 'Since the start of the 21st century annual average GDP growth has been 6 to and from 2013 to 2018 India was the worlds fastest growing major economy surpassing China.',\n",
              "   'answer': 'India',\n",
              "   'rank': 68.09,\n",
              "   'question_id': 34},\n",
              "  {'question': '__________________ is the worlds largest manufacturer of generic drugs and its pharmaceutical sector fulfills over 50 of the global demand for vaccines.',\n",
              "   'answer': 'India',\n",
              "   'context': 'India is the worlds largest manufacturer of generic drugs and its pharmaceutical sector fulfills over 50 of the global demand for vaccines.',\n",
              "   'rank': 66.64,\n",
              "   'question_id': 35},\n",
              "  {'question': '__________________ chemical industry is extremely diversified and estimated at 178 billion.',\n",
              "   'answer': 'Indias',\n",
              "   'context': 'Indias chemical industry is extremely diversified and estimated at 178 billion.',\n",
              "   'rank': 63.71,\n",
              "   'question_id': 36},\n",
              "  {'question': '__________________ ranks second globally in food and agricultural production while agricultural exports were 35.09 billion.',\n",
              "   'answer': 'India',\n",
              "   'context': 'India ranks second globally in food and agricultural production while agricultural exports were 35.09 billion.',\n",
              "   'rank': 60.34,\n",
              "   'question_id': 37},\n",
              "  {'question': 'It has the worlds fourthlargest __________________ reserves worth 601.057 billion.',\n",
              "   'context': 'It has the worlds fourthlargest foreignexchange reserves worth 601.057 billion.',\n",
              "   'answer': 'foreignexchange',\n",
              "   'rank': 58.2,\n",
              "   'question_id': 38},\n",
              "  {'question': '__________________ is the worlds sixthlargest manufacturer representing 2.6 of global manufacturing output.',\n",
              "   'answer': 'India',\n",
              "   'context': 'India is the worlds sixthlargest manufacturer representing 2.6 of global manufacturing output.',\n",
              "   'rank': 57.8,\n",
              "   'question_id': 39},\n",
              "  {'question': '__________________ has been a member of the World Trade Organization since 1 January 1995.',\n",
              "   'answer': 'India',\n",
              "   'context': 'India has been a member of the World Trade Organization since 1 January 1995.',\n",
              "   'rank': 57.22,\n",
              "   'question_id': 40},\n",
              "  {'question': 'The Indian __________________ industry is a major exporter of __________________ services w__________________h 196 billion in revenue and employs over 4.47 million people.',\n",
              "   'context': 'The Indian IT industry is a major exporter of IT services with 196 billion in revenue and employs over 4.47 million people.',\n",
              "   'answer': 'IT',\n",
              "   'rank': 56.6,\n",
              "   'question_id': 41},\n",
              "  {'question': 'The country remains the worlds sixthlargest __________________ market.',\n",
              "   'context': 'The country remains the worlds sixthlargest consumer market.',\n",
              "   'answer': 'consumer',\n",
              "   'rank': 53.12,\n",
              "   'question_id': 42},\n",
              "  {'question': '__________________ faces moderate unemployment rising income inequality and a drop in aggregate demand.',\n",
              "   'answer': 'India',\n",
              "   'context': 'India faces moderate unemployment rising income inequality and a drop in aggregate demand.',\n",
              "   'rank': 52.77,\n",
              "   'question_id': 43},\n",
              "  {'question': 'India has the worlds fourthlargest natural resources with the mining sector contributing 11 of the countrys industrial __________________ and 2.5 of total __________________.',\n",
              "   'answer': 'GDP',\n",
              "   'context': 'India has the worlds fourthlargest natural resources with the mining sector contributing 11 of the countrys industrial GDP and 2.5 of total GDP.',\n",
              "   'rank': 47.68,\n",
              "   'question_id': 44},\n",
              "  {'question': '__________________ has one of the worlds highest number of billionaires and extreme income inequality.',\n",
              "   'answer': 'India',\n",
              "   'context': 'India has one of the worlds highest number of billionaires and extreme income inequality.',\n",
              "   'rank': 44.2,\n",
              "   'question_id': 45},\n",
              "  {'question': 'In 201920 the foreign direct investment __________________ in India was 74.4 billion.',\n",
              "   'context': 'In 201920 the foreign direct investment FDI in India was 74.4 billion.',\n",
              "   'answer': 'FDI',\n",
              "   'rank': 26.87,\n",
              "   'question_id': 46},\n",
              "  {'question': 'Nearly 70 of __________________ GDP is driven by domestic private consumption.',\n",
              "   'context': 'Nearly 70 of Indias GDP is driven by domestic private consumption.',\n",
              "   'answer': 'Indias',\n",
              "   'rank': 14.2,\n",
              "   'question_id': 47}],\n",
              " 'upload_process_time': '0:03:04.892454'}"
            ]
          },
          "metadata": {},
          "execution_count": 87
        }
      ]
    },
    {
      "cell_type": "code",
      "source": [],
      "metadata": {
        "id": "HPffo1eg1KEm"
      },
      "execution_count": 87,
      "outputs": []
    }
  ],
  "metadata": {
    "colab": {
      "collapsed_sections": [],
      "provenance": []
    },
    "kernelspec": {
      "display_name": "Python 3 (ipykernel)",
      "language": "python",
      "name": "python3"
    },
    "language_info": {
      "codemirror_mode": {
        "name": "ipython",
        "version": 3
      },
      "file_extension": ".py",
      "mimetype": "text/x-python",
      "name": "python",
      "nbconvert_exporter": "python",
      "pygments_lexer": "ipython3",
      "version": "3.9.12"
    }
  },
  "nbformat": 4,
  "nbformat_minor": 0
}